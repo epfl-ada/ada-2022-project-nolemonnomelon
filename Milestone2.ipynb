{
 "cells": [
  {
   "cell_type": "code",
   "execution_count": 1,
   "id": "58859f3e-de5d-4924-9b79-96211de24d88",
   "metadata": {},
   "outputs": [],
   "source": [
    "import pandas as pd\n",
    "import numpy as np\n",
    "import seaborn as sns\n",
    "from matplotlib import pyplot as plt"
   ]
  },
  {
   "cell_type": "markdown",
   "id": "da64c09e-eb92-4f77-947f-bb748ebd7fce",
   "metadata": {
    "tags": []
   },
   "source": [
    "## Some basic exploration of the CMU data"
   ]
  },
  {
   "cell_type": "markdown",
   "id": "a53d4979-a3c0-42ac-b5c7-42ad10ce87ae",
   "metadata": {},
   "source": [
    "First, we opened the CMU character metadata and look at the missing values :"
   ]
  },
  {
   "cell_type": "code",
   "execution_count": 6,
   "id": "d27ff0bc-c385-42b2-b2ad-735da5f3756c",
   "metadata": {},
   "outputs": [
    {
     "name": "stdout",
     "output_type": "stream",
     "text": [
      "(450669, 13)\n",
      "Percentage of NaN in each feature : \n",
      "Wikipedia movie ID                  0.000000\n",
      "Freebase movie ID                   0.000000\n",
      "Movie release date                  2.217814\n",
      "Character name                     57.220488\n",
      "Actor date of birth                23.552763\n",
      "Actor gender                       10.120288\n",
      "Actor height (in meters)           65.645740\n",
      "Actor ethnicity (Freebase ID)      76.466542\n",
      "Actor name                          0.272484\n",
      "Actor age at movie release         35.084064\n",
      "Freebase character/actor map ID     0.000000\n",
      "Freebase character ID              57.218269\n",
      "Freebase actor ID                   0.180842\n",
      "dtype: float64\n"
     ]
    }
   ],
   "source": [
    "columns_character = ['Wikipedia movie ID', 'Freebase movie ID', 'Movie release date', 'Character name', 'Actor date of birth',\n",
    "                     'Actor gender', 'Actor height (in meters)', 'Actor ethnicity (Freebase ID)', 'Actor name', \n",
    "                     'Actor age at movie release', 'Freebase character/actor map ID', 'Freebase character ID',\n",
    "                     'Freebase actor ID']\n",
    "\n",
    "df_cmu_character = pd.read_csv(\"MovieSummaries/character.metadata.tsv\",sep='\\t',names=columns_character)\n",
    "\n",
    "print(df_cmu_character.shape)\n",
    "print('Percentage of NaN in each feature : ')\n",
    "print(df_cmu_character.isna().sum(axis = 0) / df_cmu_character.shape[0] * 100)"
   ]
  },
  {
   "cell_type": "markdown",
   "id": "a87afae1-09b5-4900-80ec-bd49176b47e4",
   "metadata": {},
   "source": [
    "As we were first interested in looking at the ethnicities of the actors, we map the freebase ID with its label thanks to the `mid2name.tsv` file found on : https://github.com/xiaoling/figer/issues/6"
   ]
  },
  {
   "cell_type": "code",
   "execution_count": 31,
   "id": "b677b306-1028-47ef-94d6-d1ee8ff46c51",
   "metadata": {},
   "outputs": [],
   "source": [
    "df_mapID = pd.read_csv(\"Expanded_data/mid2name.tsv\", sep='\\t', names=['ID', 'label'])\n",
    "df_mapID = df_mapID.drop_duplicates(subset=[\"ID\"], keep='first')\n",
    "ethnicity = df_cmu_character['Actor ethnicity (Freebase ID)']\n",
    "df_ethnicity = ethnicity.to_frame()\n",
    "df_ethnicity.columns = ['ID']\n",
    "df_merge = pd.merge(df_ethnicity, df_mapID, how='left')\n",
    "df_character['Ethnicity'] = df_merge['label']"
   ]
  },
  {
   "cell_type": "markdown",
   "id": "6cd7b76e-bf29-4d01-a41b-0e5b0e25a31e",
   "metadata": {},
   "source": [
    "We found that it is was difficult to complete the ethnicities of the actors with external datatset. So, we decided to choose another idea."
   ]
  },
  {
   "cell_type": "markdown",
   "id": "18e273a3-46ca-4497-a52c-96cf18ec810d",
   "metadata": {},
   "source": [
    "Then, we opened the CMU movies metadata and look at the missing values :"
   ]
  },
  {
   "cell_type": "code",
   "execution_count": 8,
   "id": "1bbf5959-6522-4d4b-ab1a-51d77f94639f",
   "metadata": {},
   "outputs": [
    {
     "name": "stdout",
     "output_type": "stream",
     "text": [
      "(81741, 9)\n",
      "Percentage of NaN in each feature : \n",
      "Wikipedia movie ID                            0.000000\n",
      "Freebase movie ID                             0.000000\n",
      "Movie name                                    0.000000\n",
      "Movie release date                            8.443743\n",
      "Movie box office revenue                     89.722416\n",
      "Movie runtime                                25.018045\n",
      "Movie languages (Freebase ID:name tuples)     0.000000\n",
      "Movie countries (Freebase ID:name tuples)     0.000000\n",
      "Movie genres (Freebase ID:name tuples)        0.000000\n",
      "dtype: float64\n",
      "\n",
      "Sum of {} in the string columns : \n",
      "Movie languages : 13866\n",
      "Movie countries : 8154\n",
      "Movie genres : 2294\n"
     ]
    }
   ],
   "source": [
    "columns_movie = ['Wikipedia movie ID', 'Freebase movie ID', 'Movie name', 'Movie release date', 'Movie box office revenue',\n",
    "                 'Movie runtime', 'Movie languages (Freebase ID:name tuples)', 'Movie countries (Freebase ID:name tuples)',\n",
    "                 'Movie genres (Freebase ID:name tuples)']\n",
    "df_cmu_movie = pd.read_csv(\"MovieSummaries/movie.metadata.tsv\",sep='\\t', names=columns_movie)\n",
    "\n",
    "print(df_cmu_movie.shape)\n",
    "print('Percentage of NaN in each feature : ')\n",
    "print(df_cmu_movie.isna().sum(axis = 0) / df_cmu_movie.shape[0] * 100)\n",
    "\n",
    "print('\\nSum of {} in the string columns : ')\n",
    "print('Movie languages : {}'.format(sum(df_cmu_movie['Movie languages (Freebase ID:name tuples)']=='{}')))\n",
    "print('Movie countries : {}'.format(sum(df_cmu_movie['Movie countries (Freebase ID:name tuples)']=='{}')))\n",
    "print('Movie genres : {}'.format(sum(df_cmu_movie['Movie genres (Freebase ID:name tuples)']=='{}')))"
   ]
  },
  {
   "cell_type": "markdown",
   "id": "06fa842c-d1ed-4450-8339-aaf49ac9244c",
   "metadata": {},
   "source": [
    "Then, we looked at the CMU plot summaries data :"
   ]
  },
  {
   "cell_type": "code",
   "execution_count": 11,
   "id": "7dc9f6cf-20e5-4ac8-9236-7e51c2d15754",
   "metadata": {},
   "outputs": [
    {
     "name": "stdout",
     "output_type": "stream",
     "text": [
      "Percentage of missing summaries : \n",
      "48.24751348772342\n"
     ]
    }
   ],
   "source": [
    "df_cmu_summaries = pd.read_csv(\"MovieSummaries/plot_summaries.txt\",sep='\\t', names=['Wikipedia movie ID', 'Plot summary'])\n",
    "df_cmu_summaries.head(3)\n",
    "\n",
    "print('Percentage of missing summaries : ')\n",
    "print(100 - df_cmu_summaries.shape[0] / df_cmu_movie.shape[0] * 100)"
   ]
  },
  {
   "cell_type": "markdown",
   "id": "56636549-5f99-4513-848f-1d348cc85a5b",
   "metadata": {},
   "source": [
    "## Additional datasets"
   ]
  },
  {
   "cell_type": "markdown",
   "id": "2f63ef38-336c-4e2d-9202-332435de8502",
   "metadata": {},
   "source": [
    "The CMU movie metadata contains not many and not recent movies (until 2012 only). Moreover, it has a lot of NA values, espcially for the box office revenue. So, we decided to complete this dataset to have more representative one. We use :\n",
    "* Wikipedia to query box office revenues that were missing\n",
    "* IMDB dataset to complete the amount of movies\n",
    "\n",
    "You have to download IMDB data from https://datasets.imdbws.com/. Please download these files :\n",
    "* `title.akas.tsv.gz`\n",
    "* `title.basics.tsv.gz`\n",
    "* `title.ratings.tsv.gz`\n",
    "Unzip them, and place them in `IMDB_data/`"
   ]
  },
  {
   "cell_type": "markdown",
   "id": "450636cd-fb02-4e2a-80a1-9e5260fb248d",
   "metadata": {},
   "source": [
    "By running `wikipedia_query.py`, a `Expanded_data/wikipedia_query.tsv` file will be created. The script requests imdb-associated films on wikipedia, with associated box office revenues and freebase IDs if available (on wikipedia). With the freebase IDs we will be able to associate this data with the CMU movie metadata. You do not need to run this command as the `wikipedia_query.tsv` file was small enough to be pushed on Github. "
   ]
  },
  {
   "cell_type": "code",
   "execution_count": null,
   "id": "fa416926-5dbd-4c5d-9157-8fce1f5acc2b",
   "metadata": {},
   "outputs": [],
   "source": [
    "#!python3 wikipedia_query.py"
   ]
  },
  {
   "cell_type": "markdown",
   "id": "954382a5-eac8-4697-9bfc-88245b17d1a2",
   "metadata": {},
   "source": [
    "By running `wikipedia_query.py`, `Expanded_data/IMDB_wiki.tsv` and `Expanded_data/movie.expanded_metadata.tsv` files will be created. The script  brings together IMDB data with associated wikipedia data to create a representative movie dataset, used for large-scale analysis. Then, we complete the missing values of the CMU movie metadata. So, we have :\n",
    "* `Expanded_data/IMDB_wiki.tsv` which is the merge between IMDB and wikipedia query data. \n",
    "* `Expanded_data/movie.expanded_metadata.tsv` in which we transfered the missing release dates and box office revenue to CMU movie metadata"
   ]
  },
  {
   "cell_type": "code",
   "execution_count": 59,
   "id": "3ff9cc8d-9d98-4213-b05e-37831e1d25a4",
   "metadata": {},
   "outputs": [],
   "source": [
    "!python3 expand_data_bis.py"
   ]
  },
  {
   "cell_type": "markdown",
   "id": "7293f335-0f04-4983-9e4c-804dd484a001",
   "metadata": {
    "tags": []
   },
   "source": [
    "## Preprocessing "
   ]
  },
  {
   "cell_type": "code",
   "execution_count": 60,
   "id": "81b188f8-4cc9-4e06-b9a9-1a1f9a28ccca",
   "metadata": {},
   "outputs": [],
   "source": [
    "from preprocessing import *"
   ]
  },
  {
   "cell_type": "markdown",
   "id": "814cd87f-76a9-47e7-8863-e9f98a421c2b",
   "metadata": {},
   "source": [
    "First, we load the `Expanded_data/movie.expanded_metadata.tsv` file :"
   ]
  },
  {
   "cell_type": "code",
   "execution_count": 61,
   "id": "47e5b60b-29d9-411d-b1a7-7f9c4843a75f",
   "metadata": {},
   "outputs": [
    {
     "name": "stdout",
     "output_type": "stream",
     "text": [
      "(81741, 9)\n"
     ]
    },
    {
     "data": {
      "text/html": [
       "<div>\n",
       "<style scoped>\n",
       "    .dataframe tbody tr th:only-of-type {\n",
       "        vertical-align: middle;\n",
       "    }\n",
       "\n",
       "    .dataframe tbody tr th {\n",
       "        vertical-align: top;\n",
       "    }\n",
       "\n",
       "    .dataframe thead th {\n",
       "        text-align: right;\n",
       "    }\n",
       "</style>\n",
       "<table border=\"1\" class=\"dataframe\">\n",
       "  <thead>\n",
       "    <tr style=\"text-align: right;\">\n",
       "      <th></th>\n",
       "      <th>Wikipedia movie ID</th>\n",
       "      <th>Freebase movie ID</th>\n",
       "      <th>Movie name</th>\n",
       "      <th>Movie release date</th>\n",
       "      <th>Movie box office revenue</th>\n",
       "      <th>Movie runtime</th>\n",
       "      <th>Movie languages (Freebase ID:name tuples)</th>\n",
       "      <th>Movie countries (Freebase ID:name tuples)</th>\n",
       "      <th>Movie genres (Freebase ID:name tuples)</th>\n",
       "    </tr>\n",
       "  </thead>\n",
       "  <tbody>\n",
       "    <tr>\n",
       "      <th>0</th>\n",
       "      <td>142780.0</td>\n",
       "      <td>/m/011_mj</td>\n",
       "      <td>The Circus</td>\n",
       "      <td>1928-01-06</td>\n",
       "      <td>NaN</td>\n",
       "      <td>68.0</td>\n",
       "      <td>{\"/m/06ppq\": \"Silent film\", \"/m/02h40lc\": \"Eng...</td>\n",
       "      <td>{\"/m/09c7w0\": \"United States of America\"}</td>\n",
       "      <td>{\"/m/06cvj\": \"Romantic comedy\", \"/m/06ppq\": \"S...</td>\n",
       "    </tr>\n",
       "    <tr>\n",
       "      <th>1</th>\n",
       "      <td>142786.0</td>\n",
       "      <td>/m/011_p6</td>\n",
       "      <td>Thunderbolt</td>\n",
       "      <td>1929</td>\n",
       "      <td>NaN</td>\n",
       "      <td>91.0</td>\n",
       "      <td>{\"/m/02h40lc\": \"English Language\"}</td>\n",
       "      <td>{\"/m/09c7w0\": \"United States of America\"}</td>\n",
       "      <td>{\"/m/07s9rl0\": \"Drama\", \"/m/01g6gs\": \"Black-an...</td>\n",
       "    </tr>\n",
       "    <tr>\n",
       "      <th>2</th>\n",
       "      <td>142822.0</td>\n",
       "      <td>/m/011_zy</td>\n",
       "      <td>The Green Goddess</td>\n",
       "      <td>1930-02-13</td>\n",
       "      <td>NaN</td>\n",
       "      <td>73.0</td>\n",
       "      <td>{\"/m/02h40lc\": \"English Language\"}</td>\n",
       "      <td>{\"/m/09c7w0\": \"United States of America\"}</td>\n",
       "      <td>{\"/m/02rd8h3\": \"Goat gland\", \"/m/07s9rl0\": \"Dr...</td>\n",
       "    </tr>\n",
       "  </tbody>\n",
       "</table>\n",
       "</div>"
      ],
      "text/plain": [
       "   Wikipedia movie ID Freebase movie ID         Movie name Movie release date  \\\n",
       "0            142780.0         /m/011_mj         The Circus         1928-01-06   \n",
       "1            142786.0         /m/011_p6        Thunderbolt               1929   \n",
       "2            142822.0         /m/011_zy  The Green Goddess         1930-02-13   \n",
       "\n",
       "   Movie box office revenue  Movie runtime  \\\n",
       "0                       NaN           68.0   \n",
       "1                       NaN           91.0   \n",
       "2                       NaN           73.0   \n",
       "\n",
       "           Movie languages (Freebase ID:name tuples)  \\\n",
       "0  {\"/m/06ppq\": \"Silent film\", \"/m/02h40lc\": \"Eng...   \n",
       "1                 {\"/m/02h40lc\": \"English Language\"}   \n",
       "2                 {\"/m/02h40lc\": \"English Language\"}   \n",
       "\n",
       "   Movie countries (Freebase ID:name tuples)  \\\n",
       "0  {\"/m/09c7w0\": \"United States of America\"}   \n",
       "1  {\"/m/09c7w0\": \"United States of America\"}   \n",
       "2  {\"/m/09c7w0\": \"United States of America\"}   \n",
       "\n",
       "              Movie genres (Freebase ID:name tuples)  \n",
       "0  {\"/m/06cvj\": \"Romantic comedy\", \"/m/06ppq\": \"S...  \n",
       "1  {\"/m/07s9rl0\": \"Drama\", \"/m/01g6gs\": \"Black-an...  \n",
       "2  {\"/m/02rd8h3\": \"Goat gland\", \"/m/07s9rl0\": \"Dr...  "
      ]
     },
     "execution_count": 61,
     "metadata": {},
     "output_type": "execute_result"
    }
   ],
   "source": [
    "df_movie = pd.read_csv(\"Expanded_data/movie.expanded_metadata.tsv\",sep='\\t')\n",
    "print(df_movie.shape)\n",
    "df_movie.head(3)"
   ]
  },
  {
   "cell_type": "markdown",
   "id": "e59cc76a-2e4e-45cd-9623-09936ee80272",
   "metadata": {},
   "source": [
    "The `Expanded_data/movie.expanded_metadata.tsv` is now our CMU movies metadata whose missing values were completed as much as possible. We noticed that the Movie language, Movie countries and Movie genres were of type string and it was not easy to handle with that. So, we decided, to change these columns into a dictionnary type and to create new columns with only the list of the names. We do this preprocessing with functions that are in `preprocessing.py`."
   ]
  },
  {
   "cell_type": "code",
   "execution_count": 62,
   "id": "da6e65e8-9bbd-4bb6-a43d-62de2ffa5ae0",
   "metadata": {},
   "outputs": [
    {
     "data": {
      "text/html": [
       "<div>\n",
       "<style scoped>\n",
       "    .dataframe tbody tr th:only-of-type {\n",
       "        vertical-align: middle;\n",
       "    }\n",
       "\n",
       "    .dataframe tbody tr th {\n",
       "        vertical-align: top;\n",
       "    }\n",
       "\n",
       "    .dataframe thead th {\n",
       "        text-align: right;\n",
       "    }\n",
       "</style>\n",
       "<table border=\"1\" class=\"dataframe\">\n",
       "  <thead>\n",
       "    <tr style=\"text-align: right;\">\n",
       "      <th></th>\n",
       "      <th>Wikipedia movie ID</th>\n",
       "      <th>Freebase movie ID</th>\n",
       "      <th>Movie name</th>\n",
       "      <th>Movie release date</th>\n",
       "      <th>Movie box office revenue</th>\n",
       "      <th>Movie runtime</th>\n",
       "      <th>Movie languages (Freebase ID:name tuples)</th>\n",
       "      <th>Movie countries (Freebase ID:name tuples)</th>\n",
       "      <th>Movie genres (Freebase ID:name tuples)</th>\n",
       "      <th>Movie languages names</th>\n",
       "      <th>Movie countries names</th>\n",
       "      <th>Movie genres names</th>\n",
       "    </tr>\n",
       "  </thead>\n",
       "  <tbody>\n",
       "    <tr>\n",
       "      <th>0</th>\n",
       "      <td>142780.0</td>\n",
       "      <td>/m/011_mj</td>\n",
       "      <td>The Circus</td>\n",
       "      <td>1928-01-06</td>\n",
       "      <td>NaN</td>\n",
       "      <td>68.0</td>\n",
       "      <td>{'/m/06ppq': 'Silent film', 'm/02h40lc': 'Engl...</td>\n",
       "      <td>{'/m/09c7w0': 'United States of America'}</td>\n",
       "      <td>{'/m/06cvj': 'Romantic comedy', '/m/06ppq': 'S...</td>\n",
       "      <td>[Silent film, English Language]</td>\n",
       "      <td>[United States of America]</td>\n",
       "      <td>[Romantic comedy, Silent film, Adventure, Blac...</td>\n",
       "    </tr>\n",
       "    <tr>\n",
       "      <th>1</th>\n",
       "      <td>142786.0</td>\n",
       "      <td>/m/011_p6</td>\n",
       "      <td>Thunderbolt</td>\n",
       "      <td>1929</td>\n",
       "      <td>NaN</td>\n",
       "      <td>91.0</td>\n",
       "      <td>{'/m/02h40lc': 'English Language'}</td>\n",
       "      <td>{'/m/09c7w0': 'United States of America'}</td>\n",
       "      <td>{'/m/07s9rl0': 'Drama', '/m/01g6gs': 'Black-an...</td>\n",
       "      <td>[English Language]</td>\n",
       "      <td>[United States of America]</td>\n",
       "      <td>[Drama, Black-and-white]</td>\n",
       "    </tr>\n",
       "    <tr>\n",
       "      <th>2</th>\n",
       "      <td>142822.0</td>\n",
       "      <td>/m/011_zy</td>\n",
       "      <td>The Green Goddess</td>\n",
       "      <td>1930-02-13</td>\n",
       "      <td>NaN</td>\n",
       "      <td>73.0</td>\n",
       "      <td>{'/m/02h40lc': 'English Language'}</td>\n",
       "      <td>{'/m/09c7w0': 'United States of America'}</td>\n",
       "      <td>{'/m/02rd8h3': 'Goat gland', '/m/07s9rl0': 'Dr...</td>\n",
       "      <td>[English Language]</td>\n",
       "      <td>[United States of America]</td>\n",
       "      <td>[Goat gland, Drama, Indie, Black-and-white]</td>\n",
       "    </tr>\n",
       "  </tbody>\n",
       "</table>\n",
       "</div>"
      ],
      "text/plain": [
       "   Wikipedia movie ID Freebase movie ID         Movie name Movie release date  \\\n",
       "0            142780.0         /m/011_mj         The Circus         1928-01-06   \n",
       "1            142786.0         /m/011_p6        Thunderbolt               1929   \n",
       "2            142822.0         /m/011_zy  The Green Goddess         1930-02-13   \n",
       "\n",
       "   Movie box office revenue  Movie runtime  \\\n",
       "0                       NaN           68.0   \n",
       "1                       NaN           91.0   \n",
       "2                       NaN           73.0   \n",
       "\n",
       "           Movie languages (Freebase ID:name tuples)  \\\n",
       "0  {'/m/06ppq': 'Silent film', 'm/02h40lc': 'Engl...   \n",
       "1                 {'/m/02h40lc': 'English Language'}   \n",
       "2                 {'/m/02h40lc': 'English Language'}   \n",
       "\n",
       "   Movie countries (Freebase ID:name tuples)  \\\n",
       "0  {'/m/09c7w0': 'United States of America'}   \n",
       "1  {'/m/09c7w0': 'United States of America'}   \n",
       "2  {'/m/09c7w0': 'United States of America'}   \n",
       "\n",
       "              Movie genres (Freebase ID:name tuples)  \\\n",
       "0  {'/m/06cvj': 'Romantic comedy', '/m/06ppq': 'S...   \n",
       "1  {'/m/07s9rl0': 'Drama', '/m/01g6gs': 'Black-an...   \n",
       "2  {'/m/02rd8h3': 'Goat gland', '/m/07s9rl0': 'Dr...   \n",
       "\n",
       "             Movie languages names       Movie countries names  \\\n",
       "0  [Silent film, English Language]  [United States of America]   \n",
       "1               [English Language]  [United States of America]   \n",
       "2               [English Language]  [United States of America]   \n",
       "\n",
       "                                  Movie genres names  \n",
       "0  [Romantic comedy, Silent film, Adventure, Blac...  \n",
       "1                           [Drama, Black-and-white]  \n",
       "2        [Goat gland, Drama, Indie, Black-and-white]  "
      ]
     },
     "execution_count": 62,
     "metadata": {},
     "output_type": "execute_result"
    }
   ],
   "source": [
    "# Change the (Freebase ID:name tuples) columns from strings to dictionnaries     \n",
    "df_movie['Movie genres (Freebase ID:name tuples)'] = df_movie['Movie genres (Freebase ID:name tuples)'].apply(lambda x: transform_into_dict(x))\n",
    "df_movie['Movie countries (Freebase ID:name tuples)'] = df_movie['Movie countries (Freebase ID:name tuples)'].apply(lambda x: transform_into_dict(x))\n",
    "df_movie['Movie languages (Freebase ID:name tuples)'] = df_movie['Movie languages (Freebase ID:name tuples)'].apply(lambda x: transform_into_dict_2(x))\n",
    "\n",
    "# New column with the list of names only --> easier to do analyses \n",
    "df_movie['Movie languages names'] = df_movie['Movie languages (Freebase ID:name tuples)'].apply(lambda x: transform_to_list_names(x))\n",
    "df_movie['Movie countries names'] = df_movie['Movie countries (Freebase ID:name tuples)'].apply(lambda x: transform_to_list_names(x))\n",
    "df_movie['Movie genres names'] = df_movie['Movie genres (Freebase ID:name tuples)'].apply(lambda x: transform_to_list_names(x))\n",
    "\n",
    "df_movie.head(3)"
   ]
  },
  {
   "cell_type": "markdown",
   "id": "35db3260-f1f0-4211-bc98-a36261fde5f5",
   "metadata": {},
   "source": [
    "Then, we can also merge the plot summaries to the df_movie :"
   ]
  },
  {
   "cell_type": "code",
   "execution_count": 63,
   "id": "08863e4f-f434-4945-803d-deeed0af1754",
   "metadata": {},
   "outputs": [],
   "source": [
    "# Merge with the df_movie thanks to the wikipedia movie ID\n",
    "df_movie = pd.merge(df_movie, df_cmu_summaries, how='left')"
   ]
  },
  {
   "cell_type": "markdown",
   "id": "ea73790e-cd15-485b-ae51-779b74841c89",
   "metadata": {},
   "source": [
    "Then, we can load the bigger dataset `Expanded_data/IMDB_wiki.tsv` :"
   ]
  },
  {
   "cell_type": "code",
   "execution_count": 64,
   "id": "8155bbb4-e811-49af-bcc3-4f7830c3145a",
   "metadata": {},
   "outputs": [
    {
     "name": "stdout",
     "output_type": "stream",
     "text": [
      "(9363536, 7)\n"
     ]
    },
    {
     "data": {
      "text/html": [
       "<div>\n",
       "<style scoped>\n",
       "    .dataframe tbody tr th:only-of-type {\n",
       "        vertical-align: middle;\n",
       "    }\n",
       "\n",
       "    .dataframe tbody tr th {\n",
       "        vertical-align: top;\n",
       "    }\n",
       "\n",
       "    .dataframe thead th {\n",
       "        text-align: right;\n",
       "    }\n",
       "</style>\n",
       "<table border=\"1\" class=\"dataframe\">\n",
       "  <thead>\n",
       "    <tr style=\"text-align: right;\">\n",
       "      <th></th>\n",
       "      <th>Freebase movie ID</th>\n",
       "      <th>Movie name</th>\n",
       "      <th>Movie release date</th>\n",
       "      <th>Movie genres names</th>\n",
       "      <th>averageRating</th>\n",
       "      <th>numVotes</th>\n",
       "      <th>Movie box office revenue</th>\n",
       "    </tr>\n",
       "  </thead>\n",
       "  <tbody>\n",
       "    <tr>\n",
       "      <th>0</th>\n",
       "      <td>NaN</td>\n",
       "      <td>Carmencita</td>\n",
       "      <td>1894</td>\n",
       "      <td>['Documentary', 'Short']</td>\n",
       "      <td>5.7</td>\n",
       "      <td>1922.0</td>\n",
       "      <td>NaN</td>\n",
       "    </tr>\n",
       "    <tr>\n",
       "      <th>1</th>\n",
       "      <td>NaN</td>\n",
       "      <td>The Clown and His Dogs</td>\n",
       "      <td>1892</td>\n",
       "      <td>['Animation', 'Short']</td>\n",
       "      <td>5.8</td>\n",
       "      <td>259.0</td>\n",
       "      <td>NaN</td>\n",
       "    </tr>\n",
       "    <tr>\n",
       "      <th>2</th>\n",
       "      <td>NaN</td>\n",
       "      <td>NaN</td>\n",
       "      <td>1892</td>\n",
       "      <td>['Animation', 'Comedy', 'Romance']</td>\n",
       "      <td>6.5</td>\n",
       "      <td>1733.0</td>\n",
       "      <td>NaN</td>\n",
       "    </tr>\n",
       "  </tbody>\n",
       "</table>\n",
       "</div>"
      ],
      "text/plain": [
       "  Freebase movie ID              Movie name Movie release date  \\\n",
       "0               NaN              Carmencita               1894   \n",
       "1               NaN  The Clown and His Dogs               1892   \n",
       "2               NaN                     NaN               1892   \n",
       "\n",
       "                   Movie genres names  averageRating  numVotes  \\\n",
       "0            ['Documentary', 'Short']            5.7    1922.0   \n",
       "1              ['Animation', 'Short']            5.8     259.0   \n",
       "2  ['Animation', 'Comedy', 'Romance']            6.5    1733.0   \n",
       "\n",
       "   Movie box office revenue  \n",
       "0                       NaN  \n",
       "1                       NaN  \n",
       "2                       NaN  "
      ]
     },
     "execution_count": 64,
     "metadata": {},
     "output_type": "execute_result"
    }
   ],
   "source": [
    "df_movie_big = pd.read_csv(\"Expanded_data/IMDB_wiki.tsv\",sep='\\t')\n",
    "print(df_movie_big.shape)\n",
    "df_movie_big.head(3)"
   ]
  },
  {
   "cell_type": "markdown",
   "id": "8933f804-7662-490f-9129-78a1e137dd4e",
   "metadata": {},
   "source": [
    "We noticed that there are either 'NaN' or '\\\\N' for missing values in this dataset. So, we changed the '\\\\N' into 'NaN' for more consistency across the dataset."
   ]
  },
  {
   "cell_type": "code",
   "execution_count": 65,
   "id": "3dae1e2b-31c0-4dbe-8974-ab1e9be68870",
   "metadata": {},
   "outputs": [
    {
     "name": "stdout",
     "output_type": "stream",
     "text": [
      "Percentage of NaN in each feature : \n",
      "Freebase movie ID           98.904890\n",
      "Movie name                  86.264163\n",
      "Movie release date          13.450378\n",
      "Movie genres names           0.036717\n",
      "averageRating               86.695069\n",
      "numVotes                    86.695069\n",
      "Movie box office revenue    99.967576\n",
      "dtype: float64\n"
     ]
    }
   ],
   "source": [
    "#print('\\nSum of in the string columns : ')\n",
    "#print((df_movie_big == '\\\\N').sum(axis = 0) / df_movie_big.shape[0] * 100)\n",
    "\n",
    "# float('NaN') otherwise it is not recognized as the other NaN of the dataset\n",
    "df_movie_big.replace('\\\\N', float('NaN'), inplace=True)\n",
    "\n",
    "print('Percentage of NaN in each feature : ')\n",
    "print(df_movie_big.isna().sum(axis = 0) / df_movie_big.shape[0] * 100)"
   ]
  },
  {
   "cell_type": "markdown",
   "id": "f1ecfaf9-0ab0-4bf2-b9b6-421eb9b33535",
   "metadata": {},
   "source": [
    "We have now as dataset :\n",
    "* a big dataset merged with IMDB and wikipedia data\n",
    "* one smaller dataset whose missing values were completed as much as possible\n",
    "\n",
    "So, we will merge these two datasets to have a big one that contains all the informations that we want, even if it will contain a lot of missing values. We decided to merge the 'Movie name', 'Movie release date', 'Movie genres names', 'Movie box office revenue' features thanks to the Freebase ID."
   ]
  },
  {
   "cell_type": "code",
   "execution_count": 70,
   "id": "ec8a1dca-7e1e-4701-b922-c0d4f4cadceb",
   "metadata": {},
   "outputs": [],
   "source": [
    "df_movie_final = df_movie_big.set_index('Freebase movie ID').combine_first( \\\n",
    "    df_movie.set_index('Freebase movie ID')[['Movie name', 'Movie release date', \\\n",
    "                                             'Movie genres names', 'Movie box office revenue']]).reset_index()\n",
    "\n",
    "cols = ['Freebase movie ID', 'Movie name',\n",
    "       'Movie release date', 'Movie genres names',\n",
    "       'averageRating', 'numVotes', 'Movie box office revenue']\n",
    "df_movie_final = df_movie_final[cols]"
   ]
  },
  {
   "cell_type": "code",
   "execution_count": 73,
   "id": "34af4314-49ac-4dd6-8da6-21cff506ce97",
   "metadata": {},
   "outputs": [
    {
     "name": "stdout",
     "output_type": "stream",
     "text": [
      "(9383377, 7)\n"
     ]
    },
    {
     "data": {
      "text/html": [
       "<div>\n",
       "<style scoped>\n",
       "    .dataframe tbody tr th:only-of-type {\n",
       "        vertical-align: middle;\n",
       "    }\n",
       "\n",
       "    .dataframe tbody tr th {\n",
       "        vertical-align: top;\n",
       "    }\n",
       "\n",
       "    .dataframe thead th {\n",
       "        text-align: right;\n",
       "    }\n",
       "</style>\n",
       "<table border=\"1\" class=\"dataframe\">\n",
       "  <thead>\n",
       "    <tr style=\"text-align: right;\">\n",
       "      <th></th>\n",
       "      <th>Freebase movie ID</th>\n",
       "      <th>Movie name</th>\n",
       "      <th>Movie release date</th>\n",
       "      <th>Movie genres names</th>\n",
       "      <th>averageRating</th>\n",
       "      <th>numVotes</th>\n",
       "      <th>Movie box office revenue</th>\n",
       "    </tr>\n",
       "  </thead>\n",
       "  <tbody>\n",
       "    <tr>\n",
       "      <th>0</th>\n",
       "      <td>/m/0100_m55</td>\n",
       "      <td>Urban Animals</td>\n",
       "      <td>1987</td>\n",
       "      <td>['Comedy', 'Sci-Fi']</td>\n",
       "      <td>5.2</td>\n",
       "      <td>79.0</td>\n",
       "      <td>NaN</td>\n",
       "    </tr>\n",
       "    <tr>\n",
       "      <th>1</th>\n",
       "      <td>/m/0100_mnm</td>\n",
       "      <td>NaN</td>\n",
       "      <td>1999</td>\n",
       "      <td>['Comedy']</td>\n",
       "      <td>5.8</td>\n",
       "      <td>15.0</td>\n",
       "      <td>NaN</td>\n",
       "    </tr>\n",
       "    <tr>\n",
       "      <th>2</th>\n",
       "      <td>/m/0100_nzr</td>\n",
       "      <td>NaN</td>\n",
       "      <td>1999</td>\n",
       "      <td>['Drama']</td>\n",
       "      <td>4.8</td>\n",
       "      <td>119.0</td>\n",
       "      <td>NaN</td>\n",
       "    </tr>\n",
       "    <tr>\n",
       "      <th>3</th>\n",
       "      <td>/m/0100_pgp</td>\n",
       "      <td>NaN</td>\n",
       "      <td>1988</td>\n",
       "      <td>['Comedy']</td>\n",
       "      <td>6.8</td>\n",
       "      <td>103.0</td>\n",
       "      <td>NaN</td>\n",
       "    </tr>\n",
       "    <tr>\n",
       "      <th>4</th>\n",
       "      <td>/m/0100_pz9</td>\n",
       "      <td>NaN</td>\n",
       "      <td>1985</td>\n",
       "      <td>['Comedy']</td>\n",
       "      <td>2.4</td>\n",
       "      <td>59.0</td>\n",
       "      <td>NaN</td>\n",
       "    </tr>\n",
       "  </tbody>\n",
       "</table>\n",
       "</div>"
      ],
      "text/plain": [
       "  Freebase movie ID     Movie name Movie release date    Movie genres names  \\\n",
       "0       /m/0100_m55  Urban Animals               1987  ['Comedy', 'Sci-Fi']   \n",
       "1       /m/0100_mnm            NaN               1999            ['Comedy']   \n",
       "2       /m/0100_nzr            NaN               1999             ['Drama']   \n",
       "3       /m/0100_pgp            NaN               1988            ['Comedy']   \n",
       "4       /m/0100_pz9            NaN               1985            ['Comedy']   \n",
       "\n",
       "   averageRating  numVotes  Movie box office revenue  \n",
       "0            5.2      79.0                       NaN  \n",
       "1            5.8      15.0                       NaN  \n",
       "2            4.8     119.0                       NaN  \n",
       "3            6.8     103.0                       NaN  \n",
       "4            2.4      59.0                       NaN  "
      ]
     },
     "execution_count": 73,
     "metadata": {},
     "output_type": "execute_result"
    }
   ],
   "source": [
    "print(df_movie_final.shape)\n",
    "df_movie_final.head()"
   ]
  },
  {
   "cell_type": "markdown",
   "id": "b8e0a546-8c4c-4648-9dde-7728f09bf0ba",
   "metadata": {},
   "source": [
    "As we are interested into the box office revenue, we look at this dataset when dropping the missing box office revenues :"
   ]
  },
  {
   "cell_type": "code",
   "execution_count": 74,
   "id": "a4a42f10-6b4b-4b5e-b475-d5cc4490993b",
   "metadata": {},
   "outputs": [
    {
     "name": "stdout",
     "output_type": "stream",
     "text": [
      "(10200, 7)\n"
     ]
    },
    {
     "data": {
      "text/html": [
       "<div>\n",
       "<style scoped>\n",
       "    .dataframe tbody tr th:only-of-type {\n",
       "        vertical-align: middle;\n",
       "    }\n",
       "\n",
       "    .dataframe tbody tr th {\n",
       "        vertical-align: top;\n",
       "    }\n",
       "\n",
       "    .dataframe thead th {\n",
       "        text-align: right;\n",
       "    }\n",
       "</style>\n",
       "<table border=\"1\" class=\"dataframe\">\n",
       "  <thead>\n",
       "    <tr style=\"text-align: right;\">\n",
       "      <th></th>\n",
       "      <th>Freebase movie ID</th>\n",
       "      <th>Movie name</th>\n",
       "      <th>Movie release date</th>\n",
       "      <th>Movie genres names</th>\n",
       "      <th>averageRating</th>\n",
       "      <th>numVotes</th>\n",
       "      <th>Movie box office revenue</th>\n",
       "    </tr>\n",
       "  </thead>\n",
       "  <tbody>\n",
       "    <tr>\n",
       "      <th>9</th>\n",
       "      <td>/m/0100blym</td>\n",
       "      <td>Testament of Youth</td>\n",
       "      <td>2014</td>\n",
       "      <td>['Biography', 'Drama', 'History']</td>\n",
       "      <td>7.2</td>\n",
       "      <td>29157.0</td>\n",
       "      <td>1800000.0</td>\n",
       "    </tr>\n",
       "    <tr>\n",
       "      <th>33</th>\n",
       "      <td>/m/0100khzv</td>\n",
       "      <td>Leviathan</td>\n",
       "      <td>2014</td>\n",
       "      <td>['Crime', 'Drama']</td>\n",
       "      <td>7.6</td>\n",
       "      <td>53856.0</td>\n",
       "      <td>4100000.0</td>\n",
       "    </tr>\n",
       "    <tr>\n",
       "      <th>231</th>\n",
       "      <td>/m/0105j_71</td>\n",
       "      <td>Spy</td>\n",
       "      <td>2015</td>\n",
       "      <td>['Action', 'Comedy']</td>\n",
       "      <td>7.0</td>\n",
       "      <td>245896.0</td>\n",
       "      <td>235700000.0</td>\n",
       "    </tr>\n",
       "  </tbody>\n",
       "</table>\n",
       "</div>"
      ],
      "text/plain": [
       "    Freebase movie ID          Movie name Movie release date  \\\n",
       "9         /m/0100blym  Testament of Youth               2014   \n",
       "33        /m/0100khzv           Leviathan               2014   \n",
       "231       /m/0105j_71                 Spy               2015   \n",
       "\n",
       "                    Movie genres names  averageRating  numVotes  \\\n",
       "9    ['Biography', 'Drama', 'History']            7.2   29157.0   \n",
       "33                  ['Crime', 'Drama']            7.6   53856.0   \n",
       "231               ['Action', 'Comedy']            7.0  245896.0   \n",
       "\n",
       "     Movie box office revenue  \n",
       "9                   1800000.0  \n",
       "33                  4100000.0  \n",
       "231               235700000.0  "
      ]
     },
     "execution_count": 74,
     "metadata": {},
     "output_type": "execute_result"
    }
   ],
   "source": [
    "df_movie_box = df_movie_final.dropna(subset='Movie box office revenue')\n",
    "print(df_movie_box.shape)\n",
    "df_movie_box.head(3)"
   ]
  },
  {
   "cell_type": "markdown",
   "id": "a9375f74-b6b4-45cf-97dc-781a5974eb74",
   "metadata": {},
   "source": [
    "We have 10'200 movies to do our analyses on the box office revenenues. We suppose that this sample is large enough to get reliable results. However, we have to verify this hypothese by doing some further analyses"
   ]
  }
 ],
 "metadata": {
  "kernelspec": {
   "display_name": "Python [conda env:ada] *",
   "language": "python",
   "name": "conda-env-ada-py"
  },
  "language_info": {
   "codemirror_mode": {
    "name": "ipython",
    "version": 3
   },
   "file_extension": ".py",
   "mimetype": "text/x-python",
   "name": "python",
   "nbconvert_exporter": "python",
   "pygments_lexer": "ipython3",
   "version": "3.9.13"
  }
 },
 "nbformat": 4,
 "nbformat_minor": 5
}
