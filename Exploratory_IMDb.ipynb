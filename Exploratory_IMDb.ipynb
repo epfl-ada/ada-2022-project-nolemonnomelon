{
 "cells": [
  {
   "cell_type": "code",
   "execution_count": 1,
   "id": "da5eb628-fa8e-4ae7-9a45-f89f2b0cd69e",
   "metadata": {},
   "outputs": [],
   "source": [
    "import pandas as pd\n",
    "import numpy as np\n",
    "import seaborn as sns\n",
    "from matplotlib import pyplot as plt\n",
    "from scipy import stats"
   ]
  },
  {
   "cell_type": "code",
   "execution_count": 2,
   "id": "6df0c0f9-8295-4a15-bff4-596188375613",
   "metadata": {},
   "outputs": [
    {
     "name": "stdout",
     "output_type": "stream",
     "text": [
      "(81741, 9)\n"
     ]
    },
    {
     "data": {
      "text/html": [
       "<div>\n",
       "<style scoped>\n",
       "    .dataframe tbody tr th:only-of-type {\n",
       "        vertical-align: middle;\n",
       "    }\n",
       "\n",
       "    .dataframe tbody tr th {\n",
       "        vertical-align: top;\n",
       "    }\n",
       "\n",
       "    .dataframe thead th {\n",
       "        text-align: right;\n",
       "    }\n",
       "</style>\n",
       "<table border=\"1\" class=\"dataframe\">\n",
       "  <thead>\n",
       "    <tr style=\"text-align: right;\">\n",
       "      <th></th>\n",
       "      <th>Wikipedia movie ID</th>\n",
       "      <th>Freebase movie ID</th>\n",
       "      <th>Movie name</th>\n",
       "      <th>Movie release date</th>\n",
       "      <th>Movie box office revenue</th>\n",
       "      <th>Movie runtime</th>\n",
       "      <th>Movie languages (Freebase ID:name tuples)</th>\n",
       "      <th>Movie countries (Freebase ID:name tuples)</th>\n",
       "      <th>Movie genres (Freebase ID:name tuples)</th>\n",
       "    </tr>\n",
       "  </thead>\n",
       "  <tbody>\n",
       "    <tr>\n",
       "      <th>0</th>\n",
       "      <td>142780.0</td>\n",
       "      <td>/m/011_mj</td>\n",
       "      <td>The Circus</td>\n",
       "      <td>1928-01-06</td>\n",
       "      <td>NaN</td>\n",
       "      <td>68.0</td>\n",
       "      <td>{\"/m/06ppq\": \"Silent film\", \"/m/02h40lc\": \"Eng...</td>\n",
       "      <td>{\"/m/09c7w0\": \"United States of America\"}</td>\n",
       "      <td>{\"/m/06cvj\": \"Romantic comedy\", \"/m/06ppq\": \"S...</td>\n",
       "    </tr>\n",
       "    <tr>\n",
       "      <th>1</th>\n",
       "      <td>142786.0</td>\n",
       "      <td>/m/011_p6</td>\n",
       "      <td>Thunderbolt</td>\n",
       "      <td>1929</td>\n",
       "      <td>NaN</td>\n",
       "      <td>91.0</td>\n",
       "      <td>{\"/m/02h40lc\": \"English Language\"}</td>\n",
       "      <td>{\"/m/09c7w0\": \"United States of America\"}</td>\n",
       "      <td>{\"/m/07s9rl0\": \"Drama\", \"/m/01g6gs\": \"Black-an...</td>\n",
       "    </tr>\n",
       "    <tr>\n",
       "      <th>2</th>\n",
       "      <td>142822.0</td>\n",
       "      <td>/m/011_zy</td>\n",
       "      <td>The Green Goddess</td>\n",
       "      <td>1930-02-13</td>\n",
       "      <td>NaN</td>\n",
       "      <td>73.0</td>\n",
       "      <td>{\"/m/02h40lc\": \"English Language\"}</td>\n",
       "      <td>{\"/m/09c7w0\": \"United States of America\"}</td>\n",
       "      <td>{\"/m/02rd8h3\": \"Goat gland\", \"/m/07s9rl0\": \"Dr...</td>\n",
       "    </tr>\n",
       "    <tr>\n",
       "      <th>3</th>\n",
       "      <td>142049.0</td>\n",
       "      <td>/m/011wtv</td>\n",
       "      <td>Minority Report</td>\n",
       "      <td>2002-06-17</td>\n",
       "      <td>358372926.0</td>\n",
       "      <td>139.0</td>\n",
       "      <td>{\"/m/06mp7\": \"Swedish Language\", \"/m/02h40lc\":...</td>\n",
       "      <td>{\"/m/09c7w0\": \"United States of America\"}</td>\n",
       "      <td>{\"/m/0lsxr\": \"Crime Fiction\", \"/m/01jfsb\": \"Th...</td>\n",
       "    </tr>\n",
       "    <tr>\n",
       "      <th>4</th>\n",
       "      <td>142327.0</td>\n",
       "      <td>/m/011x_4</td>\n",
       "      <td>Groundhog Day</td>\n",
       "      <td>1993-02-12</td>\n",
       "      <td>70906973.0</td>\n",
       "      <td>101.0</td>\n",
       "      <td>{\"/m/064_8sq\": \"French Language\", \"/m/02bjrlw\"...</td>\n",
       "      <td>{\"/m/09c7w0\": \"United States of America\"}</td>\n",
       "      <td>{\"/m/06cvj\": \"Romantic comedy\", \"/m/07s9rl0\": ...</td>\n",
       "    </tr>\n",
       "  </tbody>\n",
       "</table>\n",
       "</div>"
      ],
      "text/plain": [
       "   Wikipedia movie ID Freebase movie ID         Movie name Movie release date  \\\n",
       "0            142780.0         /m/011_mj         The Circus         1928-01-06   \n",
       "1            142786.0         /m/011_p6        Thunderbolt               1929   \n",
       "2            142822.0         /m/011_zy  The Green Goddess         1930-02-13   \n",
       "3            142049.0         /m/011wtv    Minority Report         2002-06-17   \n",
       "4            142327.0         /m/011x_4      Groundhog Day         1993-02-12   \n",
       "\n",
       "   Movie box office revenue  Movie runtime  \\\n",
       "0                       NaN           68.0   \n",
       "1                       NaN           91.0   \n",
       "2                       NaN           73.0   \n",
       "3               358372926.0          139.0   \n",
       "4                70906973.0          101.0   \n",
       "\n",
       "           Movie languages (Freebase ID:name tuples)  \\\n",
       "0  {\"/m/06ppq\": \"Silent film\", \"/m/02h40lc\": \"Eng...   \n",
       "1                 {\"/m/02h40lc\": \"English Language\"}   \n",
       "2                 {\"/m/02h40lc\": \"English Language\"}   \n",
       "3  {\"/m/06mp7\": \"Swedish Language\", \"/m/02h40lc\":...   \n",
       "4  {\"/m/064_8sq\": \"French Language\", \"/m/02bjrlw\"...   \n",
       "\n",
       "   Movie countries (Freebase ID:name tuples)  \\\n",
       "0  {\"/m/09c7w0\": \"United States of America\"}   \n",
       "1  {\"/m/09c7w0\": \"United States of America\"}   \n",
       "2  {\"/m/09c7w0\": \"United States of America\"}   \n",
       "3  {\"/m/09c7w0\": \"United States of America\"}   \n",
       "4  {\"/m/09c7w0\": \"United States of America\"}   \n",
       "\n",
       "              Movie genres (Freebase ID:name tuples)  \n",
       "0  {\"/m/06cvj\": \"Romantic comedy\", \"/m/06ppq\": \"S...  \n",
       "1  {\"/m/07s9rl0\": \"Drama\", \"/m/01g6gs\": \"Black-an...  \n",
       "2  {\"/m/02rd8h3\": \"Goat gland\", \"/m/07s9rl0\": \"Dr...  \n",
       "3  {\"/m/0lsxr\": \"Crime Fiction\", \"/m/01jfsb\": \"Th...  \n",
       "4  {\"/m/06cvj\": \"Romantic comedy\", \"/m/07s9rl0\": ...  "
      ]
     },
     "execution_count": 2,
     "metadata": {},
     "output_type": "execute_result"
    }
   ],
   "source": [
    "df_movie_1 = pd.read_csv(\"Expanded_data/movie.expanded_metadata.tsv\",sep='\\t')\n",
    "print(df_movie_1.shape)\n",
    "df_movie_1.head()"
   ]
  },
  {
   "cell_type": "code",
   "execution_count": 2,
   "id": "51ca2e44-9fae-4098-981d-4c6c4cc896b5",
   "metadata": {},
   "outputs": [
    {
     "name": "stderr",
     "output_type": "stream",
     "text": [
      "C:\\Users\\lisap\\AppData\\Local\\Temp/ipykernel_11560/1548154688.py:1: DtypeWarning: Columns (0) have mixed types. Specify dtype option on import or set low_memory=False.\n",
      "  df_movie = pd.read_csv(\"Expanded_data/IMDB_wiki.tsv\",sep='\\t')\n"
     ]
    },
    {
     "name": "stdout",
     "output_type": "stream",
     "text": [
      "(9385370, 9)\n"
     ]
    },
    {
     "data": {
      "text/html": [
       "<div>\n",
       "<style scoped>\n",
       "    .dataframe tbody tr th:only-of-type {\n",
       "        vertical-align: middle;\n",
       "    }\n",
       "\n",
       "    .dataframe tbody tr th {\n",
       "        vertical-align: top;\n",
       "    }\n",
       "\n",
       "    .dataframe thead th {\n",
       "        text-align: right;\n",
       "    }\n",
       "</style>\n",
       "<table border=\"1\" class=\"dataframe\">\n",
       "  <thead>\n",
       "    <tr style=\"text-align: right;\">\n",
       "      <th></th>\n",
       "      <th>Freebase movie ID</th>\n",
       "      <th>Movie name</th>\n",
       "      <th>Movie release date</th>\n",
       "      <th>genre1</th>\n",
       "      <th>genre2</th>\n",
       "      <th>genre3</th>\n",
       "      <th>averageRating</th>\n",
       "      <th>numVotes</th>\n",
       "      <th>Movie box office revenue</th>\n",
       "    </tr>\n",
       "  </thead>\n",
       "  <tbody>\n",
       "    <tr>\n",
       "      <th>0</th>\n",
       "      <td>/m/0100_m55</td>\n",
       "      <td>Urban Animals</td>\n",
       "      <td>1987</td>\n",
       "      <td>Comedy</td>\n",
       "      <td>Sci-Fi</td>\n",
       "      <td>NaN</td>\n",
       "      <td>5.2</td>\n",
       "      <td>79.0</td>\n",
       "      <td>NaN</td>\n",
       "    </tr>\n",
       "    <tr>\n",
       "      <th>1</th>\n",
       "      <td>/m/0100_mnm</td>\n",
       "      <td>NaN</td>\n",
       "      <td>1999</td>\n",
       "      <td>Comedy</td>\n",
       "      <td>NaN</td>\n",
       "      <td>NaN</td>\n",
       "      <td>5.8</td>\n",
       "      <td>15.0</td>\n",
       "      <td>NaN</td>\n",
       "    </tr>\n",
       "    <tr>\n",
       "      <th>2</th>\n",
       "      <td>/m/0100_nzr</td>\n",
       "      <td>NaN</td>\n",
       "      <td>1999</td>\n",
       "      <td>Drama</td>\n",
       "      <td>NaN</td>\n",
       "      <td>NaN</td>\n",
       "      <td>4.8</td>\n",
       "      <td>119.0</td>\n",
       "      <td>NaN</td>\n",
       "    </tr>\n",
       "    <tr>\n",
       "      <th>3</th>\n",
       "      <td>/m/0100_pgp</td>\n",
       "      <td>NaN</td>\n",
       "      <td>1988</td>\n",
       "      <td>Comedy</td>\n",
       "      <td>NaN</td>\n",
       "      <td>NaN</td>\n",
       "      <td>6.8</td>\n",
       "      <td>103.0</td>\n",
       "      <td>NaN</td>\n",
       "    </tr>\n",
       "    <tr>\n",
       "      <th>4</th>\n",
       "      <td>/m/0100_pz9</td>\n",
       "      <td>NaN</td>\n",
       "      <td>1985</td>\n",
       "      <td>Comedy</td>\n",
       "      <td>NaN</td>\n",
       "      <td>NaN</td>\n",
       "      <td>2.4</td>\n",
       "      <td>59.0</td>\n",
       "      <td>NaN</td>\n",
       "    </tr>\n",
       "  </tbody>\n",
       "</table>\n",
       "</div>"
      ],
      "text/plain": [
       "  Freebase movie ID     Movie name Movie release date  genre1  genre2 genre3  \\\n",
       "0       /m/0100_m55  Urban Animals               1987  Comedy  Sci-Fi    NaN   \n",
       "1       /m/0100_mnm            NaN               1999  Comedy     NaN    NaN   \n",
       "2       /m/0100_nzr            NaN               1999   Drama     NaN    NaN   \n",
       "3       /m/0100_pgp            NaN               1988  Comedy     NaN    NaN   \n",
       "4       /m/0100_pz9            NaN               1985  Comedy     NaN    NaN   \n",
       "\n",
       "   averageRating  numVotes  Movie box office revenue  \n",
       "0            5.2      79.0                       NaN  \n",
       "1            5.8      15.0                       NaN  \n",
       "2            4.8     119.0                       NaN  \n",
       "3            6.8     103.0                       NaN  \n",
       "4            2.4      59.0                       NaN  "
      ]
     },
     "execution_count": 2,
     "metadata": {},
     "output_type": "execute_result"
    }
   ],
   "source": [
    "df_movie = pd.read_csv(\"Expanded_data/IMDB_wiki.tsv\",sep='\\t')\n",
    "print(df_movie.shape)\n",
    "df_movie.head()"
   ]
  },
  {
   "cell_type": "code",
   "execution_count": 4,
   "id": "653fd2e9-ca1d-40d4-840a-ca5103c947e3",
   "metadata": {},
   "outputs": [
    {
     "name": "stdout",
     "output_type": "stream",
     "text": [
      "Sum of NaN in each feature : \n"
     ]
    },
    {
     "data": {
      "text/plain": [
       "Freebase movie ID           9262986\n",
       "Movie name                  8059519\n",
       "Movie release date             6661\n",
       "genre1                        23280\n",
       "genre2                      5393432\n",
       "genre3                      7833573\n",
       "averageRating               8139222\n",
       "numVotes                    8139222\n",
       "Movie box office revenue    9375163\n",
       "dtype: int64"
      ]
     },
     "execution_count": 4,
     "metadata": {},
     "output_type": "execute_result"
    }
   ],
   "source": [
    "print('Sum of NaN in each feature : ')\n",
    "df_movie.isna().sum(axis = 0)"
   ]
  },
  {
   "cell_type": "markdown",
   "id": "14c5822d-d01a-43f2-b842-9f919c357ea8",
   "metadata": {},
   "source": [
    "### Genre distribution"
   ]
  },
  {
   "cell_type": "code",
   "execution_count": 5,
   "id": "49bba9b6-6b17-4e8a-b1b7-8cfd8223af1e",
   "metadata": {},
   "outputs": [],
   "source": [
    "#remove nan\n",
    "df_genre = df_movie[~df_movie['genre1'].isna()]\n",
    "#remove '\\N' \n",
    "df_genre = df_genre[df_genre.genre1 != \"\\\\N\"]\n"
   ]
  },
  {
   "cell_type": "code",
   "execution_count": 6,
   "id": "a36f3eb8-7802-4018-a9df-d3ef09f246e5",
   "metadata": {},
   "outputs": [
    {
     "data": {
      "image/png": "[encoded data removed]",
      "text/plain": [
       "<Figure size 1080x576 with 1 Axes>"
      ]
     },
     "metadata": {
      "needs_background": "light"
     },
     "output_type": "display_data"
    }
   ],
   "source": [
    "count_genre = df_genre.genre1.value_counts()\n",
    "\n",
    "plt.figure(figsize=(15,8))\n",
    "ax = sns.barplot(x=count_genre.values, y=count_genre.index).set(title='genres')\n",
    "plt.show()\n"
   ]
  },
  {
   "cell_type": "markdown",
   "id": "26dc30af-0bad-41fa-9e68-c5efb3dc710a",
   "metadata": {},
   "source": [
    "### Year distribution"
   ]
  },
  {
   "cell_type": "code",
   "execution_count": 7,
   "id": "58fac4ee-f520-4b83-abcf-a433c99990f4",
   "metadata": {},
   "outputs": [
    {
     "data": {
      "image/png": "[encoded data removed]",
      "text/plain": [
       "<Figure size 1440x576 with 1 Axes>"
      ]
     },
     "metadata": {
      "needs_background": "light"
     },
     "output_type": "display_data"
    }
   ],
   "source": [
    "df_date = df_movie[~df_movie['Movie release date'].isna()]\n",
    "df_date = df_date[df_date['Movie release date'] != \"\\\\N\"]\n",
    "\n",
    "df_date['Movie release date'] = pd.to_datetime(df_date['Movie release date'], errors='coerce') # ajoute 01-01 pour ceux sans jour et mois\n",
    "df_date['Movie release year'] = df_date['Movie release date'].dt.year.astype('Int64')\n",
    "count_per_year = df_date['Movie release year'].value_counts()\n",
    "plt.figure(figsize=(20,8))\n",
    "ax = sns.barplot(x=count_per_year.index, y=count_per_year.values).set(title='date')\n",
    "plt.xticks(rotation='vertical')\n",
    "plt.show()"
   ]
  },
  {
   "cell_type": "code",
   "execution_count": 8,
   "id": "340a0237-0ec9-4195-a6b4-d67c043a6509",
   "metadata": {},
   "outputs": [
    {
     "name": "stdout",
     "output_type": "stream",
     "text": [
      "900\n",
      "1372\n",
      "8472\n",
      "433\n"
     ]
    }
   ],
   "source": [
    "print(count_per_year[1896])\n",
    "print(count_per_year[1897])\n",
    "print(count_per_year[2023])\n",
    "print(count_per_year[2024])\n",
    "\n",
    "# 1897 : more than 1000 movies until 2023"
   ]
  },
  {
   "cell_type": "markdown",
   "id": "30500791-2e02-46d3-b797-c52f80033abf",
   "metadata": {},
   "source": [
    "### Genre per year"
   ]
  },
  {
   "cell_type": "code",
   "execution_count": null,
   "id": "bfc52393-e283-4818-a731-081fe196c9a5",
   "metadata": {},
   "outputs": [
    {
     "ename": "MemoryError",
     "evalue": "Unable to allocate 296. MiB for an array with shape (5, 7753778) and data type object",
     "output_type": "error",
     "traceback": [
      "\u001b[1;31m---------------------------------------------------------------------------\u001b[0m",
      "\u001b[1;31mMemoryError\u001b[0m                               Traceback (most recent call last)",
      "\u001b[1;32m~\\AppData\\Local\\Temp/ipykernel_12148/139152072.py\u001b[0m in \u001b[0;36m<module>\u001b[1;34m\u001b[0m\n\u001b[0;32m      2\u001b[0m \u001b[0mdf_genre_date\u001b[0m \u001b[1;33m=\u001b[0m \u001b[0mdf_date\u001b[0m\u001b[1;33m[\u001b[0m\u001b[1;33m~\u001b[0m\u001b[0mdf_date\u001b[0m\u001b[1;33m[\u001b[0m\u001b[1;34m'genre1'\u001b[0m\u001b[1;33m]\u001b[0m\u001b[1;33m.\u001b[0m\u001b[0misna\u001b[0m\u001b[1;33m(\u001b[0m\u001b[1;33m)\u001b[0m\u001b[1;33m]\u001b[0m\u001b[1;33m\u001b[0m\u001b[1;33m\u001b[0m\u001b[0m\n\u001b[0;32m      3\u001b[0m \u001b[1;31m#remove '\\N'\u001b[0m\u001b[1;33m\u001b[0m\u001b[1;33m\u001b[0m\u001b[1;33m\u001b[0m\u001b[0m\n\u001b[1;32m----> 4\u001b[1;33m \u001b[0mdf_genre_date\u001b[0m \u001b[1;33m=\u001b[0m \u001b[0mdf_genre_date\u001b[0m\u001b[1;33m[\u001b[0m\u001b[0mdf_genre_date\u001b[0m\u001b[1;33m.\u001b[0m\u001b[0mgenre1\u001b[0m \u001b[1;33m!=\u001b[0m \u001b[1;34m\"\\\\N\"\u001b[0m\u001b[1;33m]\u001b[0m\u001b[1;33m\u001b[0m\u001b[1;33m\u001b[0m\u001b[0m\n\u001b[0m",
      "\u001b[1;32m~\\anaconda3\\envs\\IPLAB\\lib\\site-packages\\pandas\\core\\frame.py\u001b[0m in \u001b[0;36m__getitem__\u001b[1;34m(self, key)\u001b[0m\n\u001b[0;32m   3494\u001b[0m         \u001b[1;31m# Do we have a (boolean) 1d indexer?\u001b[0m\u001b[1;33m\u001b[0m\u001b[1;33m\u001b[0m\u001b[1;33m\u001b[0m\u001b[0m\n\u001b[0;32m   3495\u001b[0m         \u001b[1;32mif\u001b[0m \u001b[0mcom\u001b[0m\u001b[1;33m.\u001b[0m\u001b[0mis_bool_indexer\u001b[0m\u001b[1;33m(\u001b[0m\u001b[0mkey\u001b[0m\u001b[1;33m)\u001b[0m\u001b[1;33m:\u001b[0m\u001b[1;33m\u001b[0m\u001b[1;33m\u001b[0m\u001b[0m\n\u001b[1;32m-> 3496\u001b[1;33m             \u001b[1;32mreturn\u001b[0m \u001b[0mself\u001b[0m\u001b[1;33m.\u001b[0m\u001b[0m_getitem_bool_array\u001b[0m\u001b[1;33m(\u001b[0m\u001b[0mkey\u001b[0m\u001b[1;33m)\u001b[0m\u001b[1;33m\u001b[0m\u001b[1;33m\u001b[0m\u001b[0m\n\u001b[0m\u001b[0;32m   3497\u001b[0m \u001b[1;33m\u001b[0m\u001b[0m\n\u001b[0;32m   3498\u001b[0m         \u001b[1;31m# We are left with two options: a single key, and a collection of keys,\u001b[0m\u001b[1;33m\u001b[0m\u001b[1;33m\u001b[0m\u001b[1;33m\u001b[0m\u001b[0m\n",
      "\u001b[1;32m~\\anaconda3\\envs\\IPLAB\\lib\\site-packages\\pandas\\core\\frame.py\u001b[0m in \u001b[0;36m_getitem_bool_array\u001b[1;34m(self, key)\u001b[0m\n\u001b[0;32m   3549\u001b[0m         \u001b[0mkey\u001b[0m \u001b[1;33m=\u001b[0m \u001b[0mcheck_bool_indexer\u001b[0m\u001b[1;33m(\u001b[0m\u001b[0mself\u001b[0m\u001b[1;33m.\u001b[0m\u001b[0mindex\u001b[0m\u001b[1;33m,\u001b[0m \u001b[0mkey\u001b[0m\u001b[1;33m)\u001b[0m\u001b[1;33m\u001b[0m\u001b[1;33m\u001b[0m\u001b[0m\n\u001b[0;32m   3550\u001b[0m         \u001b[0mindexer\u001b[0m \u001b[1;33m=\u001b[0m \u001b[0mkey\u001b[0m\u001b[1;33m.\u001b[0m\u001b[0mnonzero\u001b[0m\u001b[1;33m(\u001b[0m\u001b[1;33m)\u001b[0m\u001b[1;33m[\u001b[0m\u001b[1;36m0\u001b[0m\u001b[1;33m]\u001b[0m\u001b[1;33m\u001b[0m\u001b[1;33m\u001b[0m\u001b[0m\n\u001b[1;32m-> 3551\u001b[1;33m         \u001b[1;32mreturn\u001b[0m \u001b[0mself\u001b[0m\u001b[1;33m.\u001b[0m\u001b[0m_take_with_is_copy\u001b[0m\u001b[1;33m(\u001b[0m\u001b[0mindexer\u001b[0m\u001b[1;33m,\u001b[0m \u001b[0maxis\u001b[0m\u001b[1;33m=\u001b[0m\u001b[1;36m0\u001b[0m\u001b[1;33m)\u001b[0m\u001b[1;33m\u001b[0m\u001b[1;33m\u001b[0m\u001b[0m\n\u001b[0m\u001b[0;32m   3552\u001b[0m \u001b[1;33m\u001b[0m\u001b[0m\n\u001b[0;32m   3553\u001b[0m     \u001b[1;32mdef\u001b[0m \u001b[0m_getitem_multilevel\u001b[0m\u001b[1;33m(\u001b[0m\u001b[0mself\u001b[0m\u001b[1;33m,\u001b[0m \u001b[0mkey\u001b[0m\u001b[1;33m)\u001b[0m\u001b[1;33m:\u001b[0m\u001b[1;33m\u001b[0m\u001b[1;33m\u001b[0m\u001b[0m\n",
      "\u001b[1;32m~\\anaconda3\\envs\\IPLAB\\lib\\site-packages\\pandas\\core\\generic.py\u001b[0m in \u001b[0;36m_take_with_is_copy\u001b[1;34m(self, indices, axis)\u001b[0m\n\u001b[0;32m   3726\u001b[0m         \u001b[0mSee\u001b[0m \u001b[0mthe\u001b[0m \u001b[0mdocstring\u001b[0m \u001b[0mof\u001b[0m\u001b[0;31m \u001b[0m\u001b[0;31m`\u001b[0m\u001b[0mtake\u001b[0m\u001b[0;31m`\u001b[0m \u001b[1;32mfor\u001b[0m \u001b[0mfull\u001b[0m \u001b[0mexplanation\u001b[0m \u001b[0mof\u001b[0m \u001b[0mthe\u001b[0m \u001b[0mparameters\u001b[0m\u001b[1;33m.\u001b[0m\u001b[1;33m\u001b[0m\u001b[1;33m\u001b[0m\u001b[0m\n\u001b[0;32m   3727\u001b[0m         \"\"\"\n\u001b[1;32m-> 3728\u001b[1;33m         \u001b[0mresult\u001b[0m \u001b[1;33m=\u001b[0m \u001b[0mself\u001b[0m\u001b[1;33m.\u001b[0m\u001b[0mtake\u001b[0m\u001b[1;33m(\u001b[0m\u001b[0mindices\u001b[0m\u001b[1;33m=\u001b[0m\u001b[0mindices\u001b[0m\u001b[1;33m,\u001b[0m \u001b[0maxis\u001b[0m\u001b[1;33m=\u001b[0m\u001b[0maxis\u001b[0m\u001b[1;33m)\u001b[0m\u001b[1;33m\u001b[0m\u001b[1;33m\u001b[0m\u001b[0m\n\u001b[0m\u001b[0;32m   3729\u001b[0m         \u001b[1;31m# Maybe set copy if we didn't actually change the index.\u001b[0m\u001b[1;33m\u001b[0m\u001b[1;33m\u001b[0m\u001b[1;33m\u001b[0m\u001b[0m\n\u001b[0;32m   3730\u001b[0m         \u001b[1;32mif\u001b[0m \u001b[1;32mnot\u001b[0m \u001b[0mresult\u001b[0m\u001b[1;33m.\u001b[0m\u001b[0m_get_axis\u001b[0m\u001b[1;33m(\u001b[0m\u001b[0maxis\u001b[0m\u001b[1;33m)\u001b[0m\u001b[1;33m.\u001b[0m\u001b[0mequals\u001b[0m\u001b[1;33m(\u001b[0m\u001b[0mself\u001b[0m\u001b[1;33m.\u001b[0m\u001b[0m_get_axis\u001b[0m\u001b[1;33m(\u001b[0m\u001b[0maxis\u001b[0m\u001b[1;33m)\u001b[0m\u001b[1;33m)\u001b[0m\u001b[1;33m:\u001b[0m\u001b[1;33m\u001b[0m\u001b[1;33m\u001b[0m\u001b[0m\n",
      "\u001b[1;32m~\\anaconda3\\envs\\IPLAB\\lib\\site-packages\\pandas\\core\\generic.py\u001b[0m in \u001b[0;36mtake\u001b[1;34m(self, indices, axis, is_copy, **kwargs)\u001b[0m\n\u001b[0;32m   3713\u001b[0m         \u001b[0mself\u001b[0m\u001b[1;33m.\u001b[0m\u001b[0m_consolidate_inplace\u001b[0m\u001b[1;33m(\u001b[0m\u001b[1;33m)\u001b[0m\u001b[1;33m\u001b[0m\u001b[1;33m\u001b[0m\u001b[0m\n\u001b[0;32m   3714\u001b[0m \u001b[1;33m\u001b[0m\u001b[0m\n\u001b[1;32m-> 3715\u001b[1;33m         new_data = self._mgr.take(\n\u001b[0m\u001b[0;32m   3716\u001b[0m             \u001b[0mindices\u001b[0m\u001b[1;33m,\u001b[0m \u001b[0maxis\u001b[0m\u001b[1;33m=\u001b[0m\u001b[0mself\u001b[0m\u001b[1;33m.\u001b[0m\u001b[0m_get_block_manager_axis\u001b[0m\u001b[1;33m(\u001b[0m\u001b[0maxis\u001b[0m\u001b[1;33m)\u001b[0m\u001b[1;33m,\u001b[0m \u001b[0mverify\u001b[0m\u001b[1;33m=\u001b[0m\u001b[1;32mTrue\u001b[0m\u001b[1;33m\u001b[0m\u001b[1;33m\u001b[0m\u001b[0m\n\u001b[0;32m   3717\u001b[0m         )\n",
      "\u001b[1;32m~\\anaconda3\\envs\\IPLAB\\lib\\site-packages\\pandas\\core\\internals\\managers.py\u001b[0m in \u001b[0;36mtake\u001b[1;34m(self, indexer, axis, verify)\u001b[0m\n\u001b[0;32m    898\u001b[0m \u001b[1;33m\u001b[0m\u001b[0m\n\u001b[0;32m    899\u001b[0m         \u001b[0mnew_labels\u001b[0m \u001b[1;33m=\u001b[0m \u001b[0mself\u001b[0m\u001b[1;33m.\u001b[0m\u001b[0maxes\u001b[0m\u001b[1;33m[\u001b[0m\u001b[0maxis\u001b[0m\u001b[1;33m]\u001b[0m\u001b[1;33m.\u001b[0m\u001b[0mtake\u001b[0m\u001b[1;33m(\u001b[0m\u001b[0mindexer\u001b[0m\u001b[1;33m)\u001b[0m\u001b[1;33m\u001b[0m\u001b[1;33m\u001b[0m\u001b[0m\n\u001b[1;32m--> 900\u001b[1;33m         return self.reindex_indexer(\n\u001b[0m\u001b[0;32m    901\u001b[0m             \u001b[0mnew_axis\u001b[0m\u001b[1;33m=\u001b[0m\u001b[0mnew_labels\u001b[0m\u001b[1;33m,\u001b[0m\u001b[1;33m\u001b[0m\u001b[1;33m\u001b[0m\u001b[0m\n\u001b[0;32m    902\u001b[0m             \u001b[0mindexer\u001b[0m\u001b[1;33m=\u001b[0m\u001b[0mindexer\u001b[0m\u001b[1;33m,\u001b[0m\u001b[1;33m\u001b[0m\u001b[1;33m\u001b[0m\u001b[0m\n",
      "\u001b[1;32m~\\anaconda3\\envs\\IPLAB\\lib\\site-packages\\pandas\\core\\internals\\managers.py\u001b[0m in \u001b[0;36mreindex_indexer\u001b[1;34m(self, new_axis, indexer, axis, fill_value, allow_dups, copy, consolidate, only_slice, use_na_proxy)\u001b[0m\n\u001b[0;32m    690\u001b[0m             )\n\u001b[0;32m    691\u001b[0m         \u001b[1;32melse\u001b[0m\u001b[1;33m:\u001b[0m\u001b[1;33m\u001b[0m\u001b[1;33m\u001b[0m\u001b[0m\n\u001b[1;32m--> 692\u001b[1;33m             new_blocks = [\n\u001b[0m\u001b[0;32m    693\u001b[0m                 blk.take_nd(\n\u001b[0;32m    694\u001b[0m                     \u001b[0mindexer\u001b[0m\u001b[1;33m,\u001b[0m\u001b[1;33m\u001b[0m\u001b[1;33m\u001b[0m\u001b[0m\n",
      "\u001b[1;32m~\\anaconda3\\envs\\IPLAB\\lib\\site-packages\\pandas\\core\\internals\\managers.py\u001b[0m in \u001b[0;36m<listcomp>\u001b[1;34m(.0)\u001b[0m\n\u001b[0;32m    691\u001b[0m         \u001b[1;32melse\u001b[0m\u001b[1;33m:\u001b[0m\u001b[1;33m\u001b[0m\u001b[1;33m\u001b[0m\u001b[0m\n\u001b[0;32m    692\u001b[0m             new_blocks = [\n\u001b[1;32m--> 693\u001b[1;33m                 blk.take_nd(\n\u001b[0m\u001b[0;32m    694\u001b[0m                     \u001b[0mindexer\u001b[0m\u001b[1;33m,\u001b[0m\u001b[1;33m\u001b[0m\u001b[1;33m\u001b[0m\u001b[0m\n\u001b[0;32m    695\u001b[0m                     \u001b[0maxis\u001b[0m\u001b[1;33m=\u001b[0m\u001b[1;36m1\u001b[0m\u001b[1;33m,\u001b[0m\u001b[1;33m\u001b[0m\u001b[1;33m\u001b[0m\u001b[0m\n",
      "\u001b[1;32m~\\anaconda3\\envs\\IPLAB\\lib\\site-packages\\pandas\\core\\internals\\blocks.py\u001b[0m in \u001b[0;36mtake_nd\u001b[1;34m(self, indexer, axis, new_mgr_locs, fill_value)\u001b[0m\n\u001b[0;32m   1119\u001b[0m             \u001b[0mallow_fill\u001b[0m \u001b[1;33m=\u001b[0m \u001b[1;32mTrue\u001b[0m\u001b[1;33m\u001b[0m\u001b[1;33m\u001b[0m\u001b[0m\n\u001b[0;32m   1120\u001b[0m \u001b[1;33m\u001b[0m\u001b[0m\n\u001b[1;32m-> 1121\u001b[1;33m         new_values = algos.take_nd(\n\u001b[0m\u001b[0;32m   1122\u001b[0m             \u001b[0mvalues\u001b[0m\u001b[1;33m,\u001b[0m \u001b[0mindexer\u001b[0m\u001b[1;33m,\u001b[0m \u001b[0maxis\u001b[0m\u001b[1;33m=\u001b[0m\u001b[0maxis\u001b[0m\u001b[1;33m,\u001b[0m \u001b[0mallow_fill\u001b[0m\u001b[1;33m=\u001b[0m\u001b[0mallow_fill\u001b[0m\u001b[1;33m,\u001b[0m \u001b[0mfill_value\u001b[0m\u001b[1;33m=\u001b[0m\u001b[0mfill_value\u001b[0m\u001b[1;33m\u001b[0m\u001b[1;33m\u001b[0m\u001b[0m\n\u001b[0;32m   1123\u001b[0m         )\n",
      "\u001b[1;32m~\\anaconda3\\envs\\IPLAB\\lib\\site-packages\\pandas\\core\\array_algos\\take.py\u001b[0m in \u001b[0;36mtake_nd\u001b[1;34m(arr, indexer, axis, fill_value, allow_fill)\u001b[0m\n\u001b[0;32m    115\u001b[0m \u001b[1;33m\u001b[0m\u001b[0m\n\u001b[0;32m    116\u001b[0m     \u001b[0marr\u001b[0m \u001b[1;33m=\u001b[0m \u001b[0mnp\u001b[0m\u001b[1;33m.\u001b[0m\u001b[0masarray\u001b[0m\u001b[1;33m(\u001b[0m\u001b[0marr\u001b[0m\u001b[1;33m)\u001b[0m\u001b[1;33m\u001b[0m\u001b[1;33m\u001b[0m\u001b[0m\n\u001b[1;32m--> 117\u001b[1;33m     \u001b[1;32mreturn\u001b[0m \u001b[0m_take_nd_ndarray\u001b[0m\u001b[1;33m(\u001b[0m\u001b[0marr\u001b[0m\u001b[1;33m,\u001b[0m \u001b[0mindexer\u001b[0m\u001b[1;33m,\u001b[0m \u001b[0maxis\u001b[0m\u001b[1;33m,\u001b[0m \u001b[0mfill_value\u001b[0m\u001b[1;33m,\u001b[0m \u001b[0mallow_fill\u001b[0m\u001b[1;33m)\u001b[0m\u001b[1;33m\u001b[0m\u001b[1;33m\u001b[0m\u001b[0m\n\u001b[0m\u001b[0;32m    118\u001b[0m \u001b[1;33m\u001b[0m\u001b[0m\n\u001b[0;32m    119\u001b[0m \u001b[1;33m\u001b[0m\u001b[0m\n",
      "\u001b[1;32m~\\anaconda3\\envs\\IPLAB\\lib\\site-packages\\pandas\\core\\array_algos\\take.py\u001b[0m in \u001b[0;36m_take_nd_ndarray\u001b[1;34m(arr, indexer, axis, fill_value, allow_fill)\u001b[0m\n\u001b[0;32m    156\u001b[0m         \u001b[0mout\u001b[0m \u001b[1;33m=\u001b[0m \u001b[0mnp\u001b[0m\u001b[1;33m.\u001b[0m\u001b[0mempty\u001b[0m\u001b[1;33m(\u001b[0m\u001b[0mout_shape\u001b[0m\u001b[1;33m,\u001b[0m \u001b[0mdtype\u001b[0m\u001b[1;33m=\u001b[0m\u001b[0mdtype\u001b[0m\u001b[1;33m,\u001b[0m \u001b[0morder\u001b[0m\u001b[1;33m=\u001b[0m\u001b[1;34m\"F\"\u001b[0m\u001b[1;33m)\u001b[0m\u001b[1;33m\u001b[0m\u001b[1;33m\u001b[0m\u001b[0m\n\u001b[0;32m    157\u001b[0m     \u001b[1;32melse\u001b[0m\u001b[1;33m:\u001b[0m\u001b[1;33m\u001b[0m\u001b[1;33m\u001b[0m\u001b[0m\n\u001b[1;32m--> 158\u001b[1;33m         \u001b[0mout\u001b[0m \u001b[1;33m=\u001b[0m \u001b[0mnp\u001b[0m\u001b[1;33m.\u001b[0m\u001b[0mempty\u001b[0m\u001b[1;33m(\u001b[0m\u001b[0mout_shape\u001b[0m\u001b[1;33m,\u001b[0m \u001b[0mdtype\u001b[0m\u001b[1;33m=\u001b[0m\u001b[0mdtype\u001b[0m\u001b[1;33m)\u001b[0m\u001b[1;33m\u001b[0m\u001b[1;33m\u001b[0m\u001b[0m\n\u001b[0m\u001b[0;32m    159\u001b[0m \u001b[1;33m\u001b[0m\u001b[0m\n\u001b[0;32m    160\u001b[0m     func = _get_take_nd_function(\n",
      "\u001b[1;31mMemoryError\u001b[0m: Unable to allocate 296. MiB for an array with shape (5, 7753778) and data type object"
     ]
    }
   ],
   "source": [
    "#remove nan\n",
    "df_genre_date = df_date[~df_date['genre1'].isna()]\n",
    "#remove '\\N' \n",
    "df_genre_date = df_genre_date[df_genre_date.genre1 != \"\\\\N\"]"
   ]
  },
  {
   "cell_type": "code",
   "execution_count": null,
   "id": "6de5af14-955e-483c-b17a-21723ca45997",
   "metadata": {},
   "outputs": [],
   "source": [
    "df_genre_date.groupby(['Movie release year', 'genre1']).size().unstack().plot(kind='bar', stacked=True)\n",
    "#illisible"
   ]
  },
  {
   "cell_type": "code",
   "execution_count": null,
   "id": "67bdebf1-dfdd-430c-9e02-1139ced3a307",
   "metadata": {},
   "outputs": [],
   "source": [
    "# Plot relative number of genres per year\n",
    "\n",
    "cross_tab_prop = pd.crosstab(index=df_genre_date['Movie release year'],\n",
    "                             columns=df_genre_date['genre1'],\n",
    "                             normalize=\"index\")\n",
    "cross_tab_prop"
   ]
  },
  {
   "cell_type": "code",
   "execution_count": null,
   "id": "53141f6f-8464-4c46-bb3e-6f2d50347a29",
   "metadata": {},
   "outputs": [],
   "source": [
    "cross_tab = pd.crosstab(index=df_genre_date['Movie release year'],\n",
    "                        columns=df_genre_date['genre1'])\n",
    "cross_tab"
   ]
  },
  {
   "cell_type": "code",
   "execution_count": null,
   "id": "a88680e4-70c9-43e7-bc0b-ac90110632d5",
   "metadata": {},
   "outputs": [],
   "source": [
    "cross_tab_prop.plot(kind='bar', \n",
    "                    stacked=True,  \n",
    "                    figsize=(50, 6))\n",
    "\n",
    "plt.legend(loc=\"upper left\", ncol=2)\n",
    "plt.xlabel(\"Movie release year\")\n",
    "plt.ylabel(\"Proportion\")\n",
    "plt.show()"
   ]
  },
  {
   "cell_type": "markdown",
   "id": "def38fda-c88e-4144-92b8-f0e869035ef2",
   "metadata": {},
   "source": [
    "#### Genre per year (retirer valeurs rares)"
   ]
  },
  {
   "cell_type": "code",
   "execution_count": null,
   "id": "f34adffb-e248-4445-96ec-f4115e98c3a5",
   "metadata": {},
   "outputs": [],
   "source": [
    "# Reduce number of genres (otherwise not lisibe on the graphs)\n",
    "thr_genre = 300000 #minimal number of movies with a certain genre\n",
    "\n",
    "# Select the values where the count is less than 3 (or 5 if you like)\n",
    "to_remove = count_genre[count_genre <= thr_genre].index\n",
    "\n",
    "# Keep rows where the city column is not in to_remove\n",
    "df_genre_date_thr = df_genre_date[~df_genre_date.genre1.isin(to_remove)]"
   ]
  },
  {
   "cell_type": "code",
   "execution_count": null,
   "id": "4ee64c52-376f-4b3c-b9be-62d65adbff62",
   "metadata": {},
   "outputs": [],
   "source": [
    "# print only from 1897 (more than 1000 movies)\n",
    "df_genre_date_thr = df_genre_date_thr[df_genre_date_thr['Movie release year']>=1897]\n",
    "df_genre_date_thr = df_genre_date_thr[df_genre_date_thr['Movie release year']<=2023]\n",
    "\n",
    "cross_tab_prop = pd.crosstab(index=df_genre_date_thr['Movie release year'],\n",
    "                             columns=df_genre_date_thr['genre1'],\n",
    "                             normalize=\"index\")\n",
    "cross_tab_prop.plot(kind='bar', \n",
    "                    stacked=True,\n",
    "                    colormap='tab20',\n",
    "                    figsize=(50, 6))\n",
    "\n",
    "plt.legend(loc=\"upper left\", ncol=2)\n",
    "plt.xlabel(\"Movie release year\")\n",
    "plt.ylabel(\"Proportion\")\n",
    "plt.show()"
   ]
  },
  {
   "cell_type": "markdown",
   "id": "34d672ad",
   "metadata": {},
   "source": [
    "## An overview of rating and revenue"
   ]
  },
  {
   "cell_type": "markdown",
   "id": "94b6c5d5",
   "metadata": {},
   "source": [
    "The rating is represented in the column 'averageRating' and it ranges from 0 to 10, where 10 is the best score and 0 is the lowest."
   ]
  },
  {
   "cell_type": "markdown",
   "id": "b71bd2c9",
   "metadata": {},
   "source": [
    "Since we want to consider both the rating and the revenu at the same time, we remove the rows that have NaN in the column 'averageRating' or 'Movie box office revenue'."
   ]
  },
  {
   "cell_type": "code",
   "execution_count": 3,
   "id": "66785267",
   "metadata": {},
   "outputs": [],
   "source": [
    "revenue = df_movie.copy()\n",
    "revenue = revenue[revenue['Movie box office revenue'].notna()]\n",
    "revenue = revenue[revenue['averageRating'].notna()]"
   ]
  },
  {
   "cell_type": "code",
   "execution_count": null,
   "id": "e5db2544",
   "metadata": {
    "scrolled": true
   },
   "outputs": [],
   "source": [
    "revenue['averageRating'].describe()"
   ]
  },
  {
   "cell_type": "code",
   "execution_count": null,
   "id": "de65b19b",
   "metadata": {},
   "outputs": [],
   "source": [
    "revenue.head()"
   ]
  },
  {
   "cell_type": "code",
   "execution_count": 4,
   "id": "7dcbb6d5",
   "metadata": {},
   "outputs": [],
   "source": [
    "revenue['Movie release date'] = pd.to_datetime(revenue['Movie release date'], errors='coerce')\n",
    "revenue['Movie release date'] = revenue['Movie release date'].dt.year.astype('Int64')"
   ]
  },
  {
   "cell_type": "markdown",
   "id": "106de421",
   "metadata": {},
   "source": [
    "### Plots"
   ]
  },
  {
   "cell_type": "markdown",
   "id": "b6515341",
   "metadata": {},
   "source": [
    "Let's plot the variables!"
   ]
  },
  {
   "cell_type": "code",
   "execution_count": 5,
   "id": "fe238067",
   "metadata": {},
   "outputs": [],
   "source": [
    "years = revenue['Movie release date'].unique()\n",
    "mean_revenue = np.zeros_like(years)\n",
    "median_revenue = np.zeros_like(years)\n",
    "mean_rating = np.zeros_like(years)\n",
    "median_rating = np.zeros_like(years)\n",
    "for i,y in enumerate(years):\n",
    "    \n",
    "    rev = revenue.loc[revenue['Movie release date'] == y]['Movie box office revenue']\n",
    "    rat = revenue.loc[revenue['Movie release date'] == y]['averageRating']\n",
    "    \n",
    "    mean = np.mean(rev)\n",
    "    median = np.median(rev)\n",
    "    mean_revenue[i] = mean\n",
    "    median_revenue[i] = median\n",
    "    \n",
    "    mean = np.mean(rat)\n",
    "    median = np.median(rat)\n",
    "    mean_rating[i] = mean\n",
    "    median_rating[i] = median"
   ]
  },
  {
   "cell_type": "code",
   "execution_count": 6,
   "id": "ac69737b",
   "metadata": {},
   "outputs": [
    {
     "name": "stderr",
     "output_type": "stream",
     "text": [
      "C:\\Users\\lisap\\anaconda3\\envs\\IPLAB\\lib\\site-packages\\seaborn\\_decorators.py:36: FutureWarning: Pass the following variables as keyword args: x, y. From version 0.12, the only valid positional argument will be `data`, and passing other arguments without an explicit keyword will result in an error or misinterpretation.\n",
      "  warnings.warn(\n",
      "C:\\Users\\lisap\\anaconda3\\envs\\IPLAB\\lib\\site-packages\\seaborn\\_decorators.py:36: FutureWarning: Pass the following variables as keyword args: x, y. From version 0.12, the only valid positional argument will be `data`, and passing other arguments without an explicit keyword will result in an error or misinterpretation.\n",
      "  warnings.warn(\n"
     ]
    },
    {
     "data": {
      "image/png": "[encoded data removed]",
      "text/plain": [
       "<Figure size 842.4x595.44 with 1 Axes>"
      ]
     },
     "metadata": {},
     "output_type": "display_data"
    }
   ],
   "source": [
    "sns.set(rc={'figure.figsize':(11.7,8.27)})\n",
    "splot = sns.scatterplot(years, mean_revenue,label='Mean')\n",
    "splot = sns.scatterplot(years, median_revenue,label='Median')\n",
    "splot.set(yscale=\"log\")\n",
    "plt.title('Mean and Median movie revenue')\n",
    "plt.xlabel('Year')\n",
    "plt.ylabel('Revenue')\n",
    "plt.show()"
   ]
  },
  {
   "cell_type": "code",
   "execution_count": 7,
   "id": "971ba1e9",
   "metadata": {},
   "outputs": [
    {
     "name": "stderr",
     "output_type": "stream",
     "text": [
      "C:\\Users\\lisap\\anaconda3\\envs\\IPLAB\\lib\\site-packages\\seaborn\\_decorators.py:36: FutureWarning: Pass the following variables as keyword args: x, y. From version 0.12, the only valid positional argument will be `data`, and passing other arguments without an explicit keyword will result in an error or misinterpretation.\n",
      "  warnings.warn(\n",
      "C:\\Users\\lisap\\anaconda3\\envs\\IPLAB\\lib\\site-packages\\seaborn\\_decorators.py:36: FutureWarning: Pass the following variables as keyword args: x, y. From version 0.12, the only valid positional argument will be `data`, and passing other arguments without an explicit keyword will result in an error or misinterpretation.\n",
      "  warnings.warn(\n"
     ]
    },
    {
     "data": {
      "image/png": "[encoded data removed]",
      "text/plain": [
       "<Figure size 842.4x595.44 with 1 Axes>"
      ]
     },
     "metadata": {},
     "output_type": "display_data"
    }
   ],
   "source": [
    "sns.set(rc={'figure.figsize':(11.7,8.27)})\n",
    "splot = sns.scatterplot(years, mean_rating,label='Mean')\n",
    "splot = sns.scatterplot(years, median_rating,label='Median')\n",
    "plt.title('Mean and Median movie rating')\n",
    "plt.xlabel('Year')\n",
    "plt.ylabel('Rating')\n",
    "plt.show()"
   ]
  },
  {
   "cell_type": "markdown",
   "id": "b98ecba8",
   "metadata": {},
   "source": [
    "Let's try to do some statistics. It seems that the mean rating and the mean revenue are not linearly correlated. The median values seem to be significantly correlated but the coefficient is quite small (-0.2)."
   ]
  },
  {
   "cell_type": "code",
   "execution_count": null,
   "id": "23005d04",
   "metadata": {},
   "outputs": [],
   "source": [
    "stats.pearsonr(mean_rating,mean_revenue)"
   ]
  },
  {
   "cell_type": "code",
   "execution_count": null,
   "id": "22e62de4",
   "metadata": {},
   "outputs": [],
   "source": [
    "stats.pearsonr(median_rating,median_revenue)"
   ]
  },
  {
   "cell_type": "markdown",
   "id": "61cf0270",
   "metadata": {},
   "source": [
    "In order to really draw conclusion we should take into consideration the inflation!"
   ]
  },
  {
   "cell_type": "code",
   "execution_count": 8,
   "id": "7408f8b2",
   "metadata": {},
   "outputs": [
    {
     "data": {
      "text/html": [
       "<div>\n",
       "<style scoped>\n",
       "    .dataframe tbody tr th:only-of-type {\n",
       "        vertical-align: middle;\n",
       "    }\n",
       "\n",
       "    .dataframe tbody tr th {\n",
       "        vertical-align: top;\n",
       "    }\n",
       "\n",
       "    .dataframe thead th {\n",
       "        text-align: right;\n",
       "    }\n",
       "</style>\n",
       "<table border=\"1\" class=\"dataframe\">\n",
       "  <thead>\n",
       "    <tr style=\"text-align: right;\">\n",
       "      <th></th>\n",
       "      <th>Country Name</th>\n",
       "      <th>Country Code</th>\n",
       "      <th>Indicator Name</th>\n",
       "      <th>Indicator Code</th>\n",
       "      <th>1960</th>\n",
       "      <th>1961</th>\n",
       "      <th>1962</th>\n",
       "      <th>1963</th>\n",
       "      <th>1964</th>\n",
       "      <th>1965</th>\n",
       "      <th>...</th>\n",
       "      <th>2013</th>\n",
       "      <th>2014</th>\n",
       "      <th>2015</th>\n",
       "      <th>2016</th>\n",
       "      <th>2017</th>\n",
       "      <th>2018</th>\n",
       "      <th>2019</th>\n",
       "      <th>2020</th>\n",
       "      <th>2021</th>\n",
       "      <th>Unnamed: 66</th>\n",
       "    </tr>\n",
       "  </thead>\n",
       "  <tbody>\n",
       "    <tr>\n",
       "      <th>0</th>\n",
       "      <td>Aruba</td>\n",
       "      <td>ABW</td>\n",
       "      <td>Inflation, consumer prices (annual %)</td>\n",
       "      <td>FP.CPI.TOTL.ZG</td>\n",
       "      <td>NaN</td>\n",
       "      <td>NaN</td>\n",
       "      <td>NaN</td>\n",
       "      <td>NaN</td>\n",
       "      <td>NaN</td>\n",
       "      <td>NaN</td>\n",
       "      <td>...</td>\n",
       "      <td>-2.372065</td>\n",
       "      <td>0.421441</td>\n",
       "      <td>0.474764</td>\n",
       "      <td>-0.931196</td>\n",
       "      <td>-1.028282</td>\n",
       "      <td>3.626041</td>\n",
       "      <td>4.257462</td>\n",
       "      <td>NaN</td>\n",
       "      <td>NaN</td>\n",
       "      <td>NaN</td>\n",
       "    </tr>\n",
       "    <tr>\n",
       "      <th>1</th>\n",
       "      <td>Africa Eastern and Southern</td>\n",
       "      <td>AFE</td>\n",
       "      <td>Inflation, consumer prices (annual %)</td>\n",
       "      <td>FP.CPI.TOTL.ZG</td>\n",
       "      <td>NaN</td>\n",
       "      <td>NaN</td>\n",
       "      <td>NaN</td>\n",
       "      <td>NaN</td>\n",
       "      <td>NaN</td>\n",
       "      <td>NaN</td>\n",
       "      <td>...</td>\n",
       "      <td>5.750981</td>\n",
       "      <td>5.370290</td>\n",
       "      <td>5.250171</td>\n",
       "      <td>6.571396</td>\n",
       "      <td>6.399343</td>\n",
       "      <td>4.720811</td>\n",
       "      <td>4.120246</td>\n",
       "      <td>5.404815</td>\n",
       "      <td>7.240978</td>\n",
       "      <td>NaN</td>\n",
       "    </tr>\n",
       "    <tr>\n",
       "      <th>2</th>\n",
       "      <td>Afghanistan</td>\n",
       "      <td>AFG</td>\n",
       "      <td>Inflation, consumer prices (annual %)</td>\n",
       "      <td>FP.CPI.TOTL.ZG</td>\n",
       "      <td>NaN</td>\n",
       "      <td>NaN</td>\n",
       "      <td>NaN</td>\n",
       "      <td>NaN</td>\n",
       "      <td>NaN</td>\n",
       "      <td>NaN</td>\n",
       "      <td>...</td>\n",
       "      <td>7.385772</td>\n",
       "      <td>4.673996</td>\n",
       "      <td>-0.661709</td>\n",
       "      <td>4.383892</td>\n",
       "      <td>4.975952</td>\n",
       "      <td>0.626149</td>\n",
       "      <td>2.302373</td>\n",
       "      <td>NaN</td>\n",
       "      <td>NaN</td>\n",
       "      <td>NaN</td>\n",
       "    </tr>\n",
       "    <tr>\n",
       "      <th>3</th>\n",
       "      <td>Africa Western and Central</td>\n",
       "      <td>AFW</td>\n",
       "      <td>Inflation, consumer prices (annual %)</td>\n",
       "      <td>FP.CPI.TOTL.ZG</td>\n",
       "      <td>NaN</td>\n",
       "      <td>NaN</td>\n",
       "      <td>NaN</td>\n",
       "      <td>NaN</td>\n",
       "      <td>NaN</td>\n",
       "      <td>NaN</td>\n",
       "      <td>...</td>\n",
       "      <td>2.439201</td>\n",
       "      <td>1.758052</td>\n",
       "      <td>2.130268</td>\n",
       "      <td>1.494564</td>\n",
       "      <td>1.764635</td>\n",
       "      <td>1.784050</td>\n",
       "      <td>1.758565</td>\n",
       "      <td>2.492522</td>\n",
       "      <td>3.925603</td>\n",
       "      <td>NaN</td>\n",
       "    </tr>\n",
       "    <tr>\n",
       "      <th>4</th>\n",
       "      <td>Angola</td>\n",
       "      <td>AGO</td>\n",
       "      <td>Inflation, consumer prices (annual %)</td>\n",
       "      <td>FP.CPI.TOTL.ZG</td>\n",
       "      <td>NaN</td>\n",
       "      <td>NaN</td>\n",
       "      <td>NaN</td>\n",
       "      <td>NaN</td>\n",
       "      <td>NaN</td>\n",
       "      <td>NaN</td>\n",
       "      <td>...</td>\n",
       "      <td>8.777814</td>\n",
       "      <td>7.280387</td>\n",
       "      <td>9.150372</td>\n",
       "      <td>30.695313</td>\n",
       "      <td>29.843587</td>\n",
       "      <td>19.628608</td>\n",
       "      <td>17.081215</td>\n",
       "      <td>NaN</td>\n",
       "      <td>NaN</td>\n",
       "      <td>NaN</td>\n",
       "    </tr>\n",
       "  </tbody>\n",
       "</table>\n",
       "<p>5 rows × 67 columns</p>\n",
       "</div>"
      ],
      "text/plain": [
       "                  Country Name Country Code  \\\n",
       "0                        Aruba          ABW   \n",
       "1  Africa Eastern and Southern          AFE   \n",
       "2                  Afghanistan          AFG   \n",
       "3   Africa Western and Central          AFW   \n",
       "4                       Angola          AGO   \n",
       "\n",
       "                          Indicator Name  Indicator Code  1960  1961  1962  \\\n",
       "0  Inflation, consumer prices (annual %)  FP.CPI.TOTL.ZG   NaN   NaN   NaN   \n",
       "1  Inflation, consumer prices (annual %)  FP.CPI.TOTL.ZG   NaN   NaN   NaN   \n",
       "2  Inflation, consumer prices (annual %)  FP.CPI.TOTL.ZG   NaN   NaN   NaN   \n",
       "3  Inflation, consumer prices (annual %)  FP.CPI.TOTL.ZG   NaN   NaN   NaN   \n",
       "4  Inflation, consumer prices (annual %)  FP.CPI.TOTL.ZG   NaN   NaN   NaN   \n",
       "\n",
       "   1963  1964  1965  ...      2013      2014      2015       2016       2017  \\\n",
       "0   NaN   NaN   NaN  ... -2.372065  0.421441  0.474764  -0.931196  -1.028282   \n",
       "1   NaN   NaN   NaN  ...  5.750981  5.370290  5.250171   6.571396   6.399343   \n",
       "2   NaN   NaN   NaN  ...  7.385772  4.673996 -0.661709   4.383892   4.975952   \n",
       "3   NaN   NaN   NaN  ...  2.439201  1.758052  2.130268   1.494564   1.764635   \n",
       "4   NaN   NaN   NaN  ...  8.777814  7.280387  9.150372  30.695313  29.843587   \n",
       "\n",
       "        2018       2019      2020      2021  Unnamed: 66  \n",
       "0   3.626041   4.257462       NaN       NaN          NaN  \n",
       "1   4.720811   4.120246  5.404815  7.240978          NaN  \n",
       "2   0.626149   2.302373       NaN       NaN          NaN  \n",
       "3   1.784050   1.758565  2.492522  3.925603          NaN  \n",
       "4  19.628608  17.081215       NaN       NaN          NaN  \n",
       "\n",
       "[5 rows x 67 columns]"
      ]
     },
     "execution_count": 8,
     "metadata": {},
     "output_type": "execute_result"
    }
   ],
   "source": [
    "df_inflation = pd.read_csv(\"Inflation_data/inflation.csv\",header=2)\n",
    "df_inflation.head()"
   ]
  },
  {
   "cell_type": "code",
   "execution_count": 9,
   "id": "78731689",
   "metadata": {},
   "outputs": [],
   "source": [
    "usa_inflation = df_inflation.loc[df_inflation[\"Country Code\"]==\"USA\"]"
   ]
  },
  {
   "cell_type": "code",
   "execution_count": 10,
   "id": "faa66b61",
   "metadata": {},
   "outputs": [
    {
     "data": {
      "text/html": [
       "<div>\n",
       "<style scoped>\n",
       "    .dataframe tbody tr th:only-of-type {\n",
       "        vertical-align: middle;\n",
       "    }\n",
       "\n",
       "    .dataframe tbody tr th {\n",
       "        vertical-align: top;\n",
       "    }\n",
       "\n",
       "    .dataframe thead th {\n",
       "        text-align: right;\n",
       "    }\n",
       "</style>\n",
       "<table border=\"1\" class=\"dataframe\">\n",
       "  <thead>\n",
       "    <tr style=\"text-align: right;\">\n",
       "      <th></th>\n",
       "      <th>Country Name</th>\n",
       "      <th>Country Code</th>\n",
       "      <th>Indicator Name</th>\n",
       "      <th>Indicator Code</th>\n",
       "      <th>1960</th>\n",
       "      <th>1961</th>\n",
       "      <th>1962</th>\n",
       "      <th>1963</th>\n",
       "      <th>1964</th>\n",
       "      <th>1965</th>\n",
       "      <th>...</th>\n",
       "      <th>2013</th>\n",
       "      <th>2014</th>\n",
       "      <th>2015</th>\n",
       "      <th>2016</th>\n",
       "      <th>2017</th>\n",
       "      <th>2018</th>\n",
       "      <th>2019</th>\n",
       "      <th>2020</th>\n",
       "      <th>2021</th>\n",
       "      <th>Unnamed: 66</th>\n",
       "    </tr>\n",
       "  </thead>\n",
       "  <tbody>\n",
       "    <tr>\n",
       "      <th>251</th>\n",
       "      <td>United States</td>\n",
       "      <td>USA</td>\n",
       "      <td>Inflation, consumer prices (annual %)</td>\n",
       "      <td>FP.CPI.TOTL.ZG</td>\n",
       "      <td>1.457976</td>\n",
       "      <td>1.070724</td>\n",
       "      <td>1.198773</td>\n",
       "      <td>1.239669</td>\n",
       "      <td>1.278912</td>\n",
       "      <td>1.585169</td>\n",
       "      <td>...</td>\n",
       "      <td>1.464833</td>\n",
       "      <td>1.622223</td>\n",
       "      <td>0.118627</td>\n",
       "      <td>1.261583</td>\n",
       "      <td>2.13011</td>\n",
       "      <td>2.442583</td>\n",
       "      <td>1.81221</td>\n",
       "      <td>1.233584</td>\n",
       "      <td>4.697859</td>\n",
       "      <td>NaN</td>\n",
       "    </tr>\n",
       "  </tbody>\n",
       "</table>\n",
       "<p>1 rows × 67 columns</p>\n",
       "</div>"
      ],
      "text/plain": [
       "      Country Name Country Code                         Indicator Name  \\\n",
       "251  United States          USA  Inflation, consumer prices (annual %)   \n",
       "\n",
       "     Indicator Code      1960      1961      1962      1963      1964  \\\n",
       "251  FP.CPI.TOTL.ZG  1.457976  1.070724  1.198773  1.239669  1.278912   \n",
       "\n",
       "         1965  ...      2013      2014      2015      2016     2017      2018  \\\n",
       "251  1.585169  ...  1.464833  1.622223  0.118627  1.261583  2.13011  2.442583   \n",
       "\n",
       "        2019      2020      2021  Unnamed: 66  \n",
       "251  1.81221  1.233584  4.697859          NaN  \n",
       "\n",
       "[1 rows x 67 columns]"
      ]
     },
     "execution_count": 10,
     "metadata": {},
     "output_type": "execute_result"
    }
   ],
   "source": [
    "usa_inflation.head()"
   ]
  },
  {
   "cell_type": "code",
   "execution_count": null,
   "id": "619dbbec",
   "metadata": {},
   "outputs": [],
   "source": [
    "for i in range(2021-1960):\n",
    "    x = i+1960\n",
    "    print(usa_inflation[str(x)])"
   ]
  },
  {
   "cell_type": "code",
   "execution_count": 26,
   "id": "4b5f7677",
   "metadata": {
    "scrolled": true
   },
   "outputs": [],
   "source": [
    "inflation_coef = np.zeros(63)\n",
    "inflation_coef[0] = 1"
   ]
  },
  {
   "cell_type": "code",
   "execution_count": 27,
   "id": "fe053820",
   "metadata": {},
   "outputs": [],
   "source": [
    "for i in range(62):\n",
    "    year = i + 1960\n",
    "    inflation_coef[i+1] = inflation_coef[i] * (1 + usa_inflation[str(year)]/100)"
   ]
  },
  {
   "cell_type": "code",
   "execution_count": 28,
   "id": "add8d8de",
   "metadata": {},
   "outputs": [
    {
     "data": {
      "text/plain": [
       "array([1.        , 1.01457976, 1.02544311, 1.03773585, 1.05060034,\n",
       "       1.06403659, 1.08090337, 1.11349342, 1.14436821, 1.19325329,\n",
       "       1.25843339, 1.33190395, 1.38907947, 1.43453402, 1.52315609,\n",
       "       1.69153802, 1.84619783, 1.95225843, 2.07918811, 2.2378502 ,\n",
       "       2.4897084 , 2.82704403, 3.11921098, 3.31046312, 3.41680961,\n",
       "       3.56375071, 3.69010863, 3.76014866, 3.89794168, 4.05688965,\n",
       "       4.25271584, 4.48227559, 4.67209834, 4.81360778, 4.95568897,\n",
       "       5.08490566, 5.2275586 , 5.38078902, 5.50657519, 5.5920526 ,\n",
       "       5.71440823, 5.90737564, 6.07432819, 6.17066895, 6.310749  ,\n",
       "       6.47970269, 6.6995426 , 6.91566609, 7.1129474 , 7.38602058,\n",
       "       7.35975986, 7.48046312, 7.71660949, 7.87629217, 7.99166667,\n",
       "       8.12130932, 8.1309434 , 8.23352201, 8.40890509, 8.6142996 ,\n",
       "       8.77040881, 8.8785992 , 9.29570326])"
      ]
     },
     "execution_count": 28,
     "metadata": {},
     "output_type": "execute_result"
    }
   ],
   "source": [
    "inflation_coef"
   ]
  },
  {
   "cell_type": "code",
   "execution_count": 24,
   "id": "fd7ade8e",
   "metadata": {},
   "outputs": [],
   "source": [
    "inflation_revenue = revenue.loc[(revenue[\"Movie release date\"] <= 2021) & (revenue[\"Movie release date\"] >= 1959)]"
   ]
  },
  {
   "cell_type": "code",
   "execution_count": 25,
   "id": "32313d18",
   "metadata": {
    "scrolled": false
   },
   "outputs": [
    {
     "data": {
      "text/html": [
       "<div>\n",
       "<style scoped>\n",
       "    .dataframe tbody tr th:only-of-type {\n",
       "        vertical-align: middle;\n",
       "    }\n",
       "\n",
       "    .dataframe tbody tr th {\n",
       "        vertical-align: top;\n",
       "    }\n",
       "\n",
       "    .dataframe thead th {\n",
       "        text-align: right;\n",
       "    }\n",
       "</style>\n",
       "<table border=\"1\" class=\"dataframe\">\n",
       "  <thead>\n",
       "    <tr style=\"text-align: right;\">\n",
       "      <th></th>\n",
       "      <th>Freebase movie ID</th>\n",
       "      <th>Movie name</th>\n",
       "      <th>Movie release date</th>\n",
       "      <th>genre1</th>\n",
       "      <th>genre2</th>\n",
       "      <th>genre3</th>\n",
       "      <th>averageRating</th>\n",
       "      <th>numVotes</th>\n",
       "      <th>Movie box office revenue</th>\n",
       "    </tr>\n",
       "  </thead>\n",
       "  <tbody>\n",
       "    <tr>\n",
       "      <th>9</th>\n",
       "      <td>/m/0100blym</td>\n",
       "      <td>Testament of Youth</td>\n",
       "      <td>2014</td>\n",
       "      <td>Biography</td>\n",
       "      <td>Drama</td>\n",
       "      <td>History</td>\n",
       "      <td>7.2</td>\n",
       "      <td>29157.0</td>\n",
       "      <td>1800000.0</td>\n",
       "    </tr>\n",
       "    <tr>\n",
       "      <th>33</th>\n",
       "      <td>/m/0100khzv</td>\n",
       "      <td>Leviathan</td>\n",
       "      <td>2014</td>\n",
       "      <td>Crime</td>\n",
       "      <td>Drama</td>\n",
       "      <td>NaN</td>\n",
       "      <td>7.6</td>\n",
       "      <td>53861.0</td>\n",
       "      <td>4100000.0</td>\n",
       "    </tr>\n",
       "    <tr>\n",
       "      <th>231</th>\n",
       "      <td>/m/0105j_71</td>\n",
       "      <td>Spy</td>\n",
       "      <td>2015</td>\n",
       "      <td>Action</td>\n",
       "      <td>Comedy</td>\n",
       "      <td>NaN</td>\n",
       "      <td>7.0</td>\n",
       "      <td>245920.0</td>\n",
       "      <td>235700000.0</td>\n",
       "    </tr>\n",
       "    <tr>\n",
       "      <th>303</th>\n",
       "      <td>/m/0106bp29</td>\n",
       "      <td>The Last Face</td>\n",
       "      <td>2016</td>\n",
       "      <td>Drama</td>\n",
       "      <td>Romance</td>\n",
       "      <td>War</td>\n",
       "      <td>4.9</td>\n",
       "      <td>5159.0</td>\n",
       "      <td>1200000.0</td>\n",
       "    </tr>\n",
       "    <tr>\n",
       "      <th>465</th>\n",
       "      <td>/m/0109gmqq</td>\n",
       "      <td>Babysitting</td>\n",
       "      <td>2014</td>\n",
       "      <td>Comedy</td>\n",
       "      <td>NaN</td>\n",
       "      <td>NaN</td>\n",
       "      <td>6.7</td>\n",
       "      <td>10765.0</td>\n",
       "      <td>1080000.0</td>\n",
       "    </tr>\n",
       "    <tr>\n",
       "      <th>...</th>\n",
       "      <td>...</td>\n",
       "      <td>...</td>\n",
       "      <td>...</td>\n",
       "      <td>...</td>\n",
       "      <td>...</td>\n",
       "      <td>...</td>\n",
       "      <td>...</td>\n",
       "      <td>...</td>\n",
       "      <td>...</td>\n",
       "    </tr>\n",
       "    <tr>\n",
       "      <th>9347419</th>\n",
       "      <td>NaN</td>\n",
       "      <td>Post Mortem</td>\n",
       "      <td>2020</td>\n",
       "      <td>Horror</td>\n",
       "      <td>Mystery</td>\n",
       "      <td>Thriller</td>\n",
       "      <td>5.5</td>\n",
       "      <td>2284.0</td>\n",
       "      <td>141915.0</td>\n",
       "    </tr>\n",
       "    <tr>\n",
       "      <th>9348864</th>\n",
       "      <td>NaN</td>\n",
       "      <td>NaN</td>\n",
       "      <td>2018</td>\n",
       "      <td>Action</td>\n",
       "      <td>Comedy</td>\n",
       "      <td>NaN</td>\n",
       "      <td>5.1</td>\n",
       "      <td>139.0</td>\n",
       "      <td>235600000.0</td>\n",
       "    </tr>\n",
       "    <tr>\n",
       "      <th>9349543</th>\n",
       "      <td>NaN</td>\n",
       "      <td>Jim Button and the Wild 13</td>\n",
       "      <td>2020</td>\n",
       "      <td>Adventure</td>\n",
       "      <td>Comedy</td>\n",
       "      <td>Family</td>\n",
       "      <td>6.3</td>\n",
       "      <td>621.0</td>\n",
       "      <td>6880898.0</td>\n",
       "    </tr>\n",
       "    <tr>\n",
       "      <th>9380630</th>\n",
       "      <td>NaN</td>\n",
       "      <td>Manoharam</td>\n",
       "      <td>2019</td>\n",
       "      <td>Comedy</td>\n",
       "      <td>Drama</td>\n",
       "      <td>NaN</td>\n",
       "      <td>6.8</td>\n",
       "      <td>827.0</td>\n",
       "      <td>56200000.0</td>\n",
       "    </tr>\n",
       "    <tr>\n",
       "      <th>9385135</th>\n",
       "      <td>NaN</td>\n",
       "      <td>Coven</td>\n",
       "      <td>2020</td>\n",
       "      <td>Drama</td>\n",
       "      <td>History</td>\n",
       "      <td>NaN</td>\n",
       "      <td>6.4</td>\n",
       "      <td>4976.0</td>\n",
       "      <td>311592.0</td>\n",
       "    </tr>\n",
       "  </tbody>\n",
       "</table>\n",
       "<p>9570 rows × 9 columns</p>\n",
       "</div>"
      ],
      "text/plain": [
       "        Freebase movie ID                  Movie name  Movie release date  \\\n",
       "9             /m/0100blym          Testament of Youth                2014   \n",
       "33            /m/0100khzv                   Leviathan                2014   \n",
       "231           /m/0105j_71                         Spy                2015   \n",
       "303           /m/0106bp29               The Last Face                2016   \n",
       "465           /m/0109gmqq                 Babysitting                2014   \n",
       "...                   ...                         ...                 ...   \n",
       "9347419               NaN                 Post Mortem                2020   \n",
       "9348864               NaN                         NaN                2018   \n",
       "9349543               NaN  Jim Button and the Wild 13                2020   \n",
       "9380630               NaN                   Manoharam                2019   \n",
       "9385135               NaN                       Coven                2020   \n",
       "\n",
       "            genre1   genre2    genre3  averageRating  numVotes  \\\n",
       "9        Biography    Drama   History            7.2   29157.0   \n",
       "33           Crime    Drama       NaN            7.6   53861.0   \n",
       "231         Action   Comedy       NaN            7.0  245920.0   \n",
       "303          Drama  Romance       War            4.9    5159.0   \n",
       "465         Comedy      NaN       NaN            6.7   10765.0   \n",
       "...            ...      ...       ...            ...       ...   \n",
       "9347419     Horror  Mystery  Thriller            5.5    2284.0   \n",
       "9348864     Action   Comedy       NaN            5.1     139.0   \n",
       "9349543  Adventure   Comedy    Family            6.3     621.0   \n",
       "9380630     Comedy    Drama       NaN            6.8     827.0   \n",
       "9385135      Drama  History       NaN            6.4    4976.0   \n",
       "\n",
       "         Movie box office revenue  \n",
       "9                       1800000.0  \n",
       "33                      4100000.0  \n",
       "231                   235700000.0  \n",
       "303                     1200000.0  \n",
       "465                     1080000.0  \n",
       "...                           ...  \n",
       "9347419                  141915.0  \n",
       "9348864               235600000.0  \n",
       "9349543                 6880898.0  \n",
       "9380630                56200000.0  \n",
       "9385135                  311592.0  \n",
       "\n",
       "[9570 rows x 9 columns]"
      ]
     },
     "execution_count": 25,
     "metadata": {},
     "output_type": "execute_result"
    }
   ],
   "source": [
    "revenue"
   ]
  },
  {
   "cell_type": "code",
   "execution_count": 38,
   "id": "a889a189",
   "metadata": {},
   "outputs": [],
   "source": [
    "def get_inflation(year):\n",
    "    x = year-1959\n",
    "    return inflation_coef[-1]/inflation_coef[x]"
   ]
  },
  {
   "cell_type": "code",
   "execution_count": 39,
   "id": "ca664d65",
   "metadata": {},
   "outputs": [
    {
     "name": "stderr",
     "output_type": "stream",
     "text": [
      "C:\\Users\\lisap\\AppData\\Local\\Temp/ipykernel_11560/2179505125.py:1: SettingWithCopyWarning: \n",
      "A value is trying to be set on a copy of a slice from a DataFrame.\n",
      "Try using .loc[row_indexer,col_indexer] = value instead\n",
      "\n",
      "See the caveats in the documentation: https://pandas.pydata.org/pandas-docs/stable/user_guide/indexing.html#returning-a-view-versus-a-copy\n",
      "  inflation_revenue[\"Inflation\"] = inflation_revenue[\"Movie box office revenue\"]*inflation_revenue[\"Movie release date\"].apply(get_inflation)\n"
     ]
    }
   ],
   "source": [
    "inflation_revenue[\"Inflation\"] = inflation_revenue[\"Movie box office revenue\"]*inflation_revenue[\"Movie release date\"].apply(get_inflation)"
   ]
  },
  {
   "cell_type": "code",
   "execution_count": 40,
   "id": "14d5ae10",
   "metadata": {},
   "outputs": [
    {
     "data": {
      "text/html": [
       "<div>\n",
       "<style scoped>\n",
       "    .dataframe tbody tr th:only-of-type {\n",
       "        vertical-align: middle;\n",
       "    }\n",
       "\n",
       "    .dataframe tbody tr th {\n",
       "        vertical-align: top;\n",
       "    }\n",
       "\n",
       "    .dataframe thead th {\n",
       "        text-align: right;\n",
       "    }\n",
       "</style>\n",
       "<table border=\"1\" class=\"dataframe\">\n",
       "  <thead>\n",
       "    <tr style=\"text-align: right;\">\n",
       "      <th></th>\n",
       "      <th>Freebase movie ID</th>\n",
       "      <th>Movie name</th>\n",
       "      <th>Movie release date</th>\n",
       "      <th>genre1</th>\n",
       "      <th>genre2</th>\n",
       "      <th>genre3</th>\n",
       "      <th>averageRating</th>\n",
       "      <th>numVotes</th>\n",
       "      <th>Movie box office revenue</th>\n",
       "      <th>Inflation</th>\n",
       "    </tr>\n",
       "  </thead>\n",
       "  <tbody>\n",
       "    <tr>\n",
       "      <th>9</th>\n",
       "      <td>/m/0100blym</td>\n",
       "      <td>Testament of Youth</td>\n",
       "      <td>2014</td>\n",
       "      <td>Biography</td>\n",
       "      <td>Drama</td>\n",
       "      <td>History</td>\n",
       "      <td>7.2</td>\n",
       "      <td>29157.0</td>\n",
       "      <td>1800000.0</td>\n",
       "      <td>2.060292e+06</td>\n",
       "    </tr>\n",
       "    <tr>\n",
       "      <th>33</th>\n",
       "      <td>/m/0100khzv</td>\n",
       "      <td>Leviathan</td>\n",
       "      <td>2014</td>\n",
       "      <td>Crime</td>\n",
       "      <td>Drama</td>\n",
       "      <td>NaN</td>\n",
       "      <td>7.6</td>\n",
       "      <td>53861.0</td>\n",
       "      <td>4100000.0</td>\n",
       "      <td>4.692887e+06</td>\n",
       "    </tr>\n",
       "    <tr>\n",
       "      <th>231</th>\n",
       "      <td>/m/0105j_71</td>\n",
       "      <td>Spy</td>\n",
       "      <td>2015</td>\n",
       "      <td>Action</td>\n",
       "      <td>Comedy</td>\n",
       "      <td>NaN</td>\n",
       "      <td>7.0</td>\n",
       "      <td>245920.0</td>\n",
       "      <td>235700000.0</td>\n",
       "      <td>2.694641e+08</td>\n",
       "    </tr>\n",
       "    <tr>\n",
       "      <th>303</th>\n",
       "      <td>/m/0106bp29</td>\n",
       "      <td>The Last Face</td>\n",
       "      <td>2016</td>\n",
       "      <td>Drama</td>\n",
       "      <td>Romance</td>\n",
       "      <td>War</td>\n",
       "      <td>4.9</td>\n",
       "      <td>5159.0</td>\n",
       "      <td>1200000.0</td>\n",
       "      <td>1.354808e+06</td>\n",
       "    </tr>\n",
       "    <tr>\n",
       "      <th>465</th>\n",
       "      <td>/m/0109gmqq</td>\n",
       "      <td>Babysitting</td>\n",
       "      <td>2014</td>\n",
       "      <td>Comedy</td>\n",
       "      <td>NaN</td>\n",
       "      <td>NaN</td>\n",
       "      <td>6.7</td>\n",
       "      <td>10765.0</td>\n",
       "      <td>1080000.0</td>\n",
       "      <td>1.236175e+06</td>\n",
       "    </tr>\n",
       "    <tr>\n",
       "      <th>...</th>\n",
       "      <td>...</td>\n",
       "      <td>...</td>\n",
       "      <td>...</td>\n",
       "      <td>...</td>\n",
       "      <td>...</td>\n",
       "      <td>...</td>\n",
       "      <td>...</td>\n",
       "      <td>...</td>\n",
       "      <td>...</td>\n",
       "      <td>...</td>\n",
       "    </tr>\n",
       "    <tr>\n",
       "      <th>9347419</th>\n",
       "      <td>NaN</td>\n",
       "      <td>Post Mortem</td>\n",
       "      <td>2020</td>\n",
       "      <td>Horror</td>\n",
       "      <td>Mystery</td>\n",
       "      <td>Thriller</td>\n",
       "      <td>5.5</td>\n",
       "      <td>2284.0</td>\n",
       "      <td>141915.0</td>\n",
       "      <td>1.485820e+05</td>\n",
       "    </tr>\n",
       "    <tr>\n",
       "      <th>9348864</th>\n",
       "      <td>NaN</td>\n",
       "      <td>NaN</td>\n",
       "      <td>2018</td>\n",
       "      <td>Action</td>\n",
       "      <td>Comedy</td>\n",
       "      <td>NaN</td>\n",
       "      <td>5.1</td>\n",
       "      <td>139.0</td>\n",
       "      <td>235600000.0</td>\n",
       "      <td>2.542363e+08</td>\n",
       "    </tr>\n",
       "    <tr>\n",
       "      <th>9349543</th>\n",
       "      <td>NaN</td>\n",
       "      <td>Jim Button and the Wild 13</td>\n",
       "      <td>2020</td>\n",
       "      <td>Adventure</td>\n",
       "      <td>Comedy</td>\n",
       "      <td>Family</td>\n",
       "      <td>6.3</td>\n",
       "      <td>621.0</td>\n",
       "      <td>6880898.0</td>\n",
       "      <td>7.204153e+06</td>\n",
       "    </tr>\n",
       "    <tr>\n",
       "      <th>9380630</th>\n",
       "      <td>NaN</td>\n",
       "      <td>Manoharam</td>\n",
       "      <td>2019</td>\n",
       "      <td>Comedy</td>\n",
       "      <td>Drama</td>\n",
       "      <td>NaN</td>\n",
       "      <td>6.8</td>\n",
       "      <td>827.0</td>\n",
       "      <td>56200000.0</td>\n",
       "      <td>5.956604e+07</td>\n",
       "    </tr>\n",
       "    <tr>\n",
       "      <th>9385135</th>\n",
       "      <td>NaN</td>\n",
       "      <td>Coven</td>\n",
       "      <td>2020</td>\n",
       "      <td>Drama</td>\n",
       "      <td>History</td>\n",
       "      <td>NaN</td>\n",
       "      <td>6.4</td>\n",
       "      <td>4976.0</td>\n",
       "      <td>311592.0</td>\n",
       "      <td>3.262302e+05</td>\n",
       "    </tr>\n",
       "  </tbody>\n",
       "</table>\n",
       "<p>8453 rows × 10 columns</p>\n",
       "</div>"
      ],
      "text/plain": [
       "        Freebase movie ID                  Movie name  Movie release date  \\\n",
       "9             /m/0100blym          Testament of Youth                2014   \n",
       "33            /m/0100khzv                   Leviathan                2014   \n",
       "231           /m/0105j_71                         Spy                2015   \n",
       "303           /m/0106bp29               The Last Face                2016   \n",
       "465           /m/0109gmqq                 Babysitting                2014   \n",
       "...                   ...                         ...                 ...   \n",
       "9347419               NaN                 Post Mortem                2020   \n",
       "9348864               NaN                         NaN                2018   \n",
       "9349543               NaN  Jim Button and the Wild 13                2020   \n",
       "9380630               NaN                   Manoharam                2019   \n",
       "9385135               NaN                       Coven                2020   \n",
       "\n",
       "            genre1   genre2    genre3  averageRating  numVotes  \\\n",
       "9        Biography    Drama   History            7.2   29157.0   \n",
       "33           Crime    Drama       NaN            7.6   53861.0   \n",
       "231         Action   Comedy       NaN            7.0  245920.0   \n",
       "303          Drama  Romance       War            4.9    5159.0   \n",
       "465         Comedy      NaN       NaN            6.7   10765.0   \n",
       "...            ...      ...       ...            ...       ...   \n",
       "9347419     Horror  Mystery  Thriller            5.5    2284.0   \n",
       "9348864     Action   Comedy       NaN            5.1     139.0   \n",
       "9349543  Adventure   Comedy    Family            6.3     621.0   \n",
       "9380630     Comedy    Drama       NaN            6.8     827.0   \n",
       "9385135      Drama  History       NaN            6.4    4976.0   \n",
       "\n",
       "         Movie box office revenue     Inflation  \n",
       "9                       1800000.0  2.060292e+06  \n",
       "33                      4100000.0  4.692887e+06  \n",
       "231                   235700000.0  2.694641e+08  \n",
       "303                     1200000.0  1.354808e+06  \n",
       "465                     1080000.0  1.236175e+06  \n",
       "...                           ...           ...  \n",
       "9347419                  141915.0  1.485820e+05  \n",
       "9348864               235600000.0  2.542363e+08  \n",
       "9349543                 6880898.0  7.204153e+06  \n",
       "9380630                56200000.0  5.956604e+07  \n",
       "9385135                  311592.0  3.262302e+05  \n",
       "\n",
       "[8453 rows x 10 columns]"
      ]
     },
     "execution_count": 40,
     "metadata": {},
     "output_type": "execute_result"
    }
   ],
   "source": [
    "inflation_revenue"
   ]
  },
  {
   "cell_type": "code",
   "execution_count": null,
   "id": "bef394eb",
   "metadata": {},
   "outputs": [],
   "source": []
  }
 ],
 "metadata": {
  "kernelspec": {
   "display_name": "Python [conda env:IPLAB] *",
   "language": "python",
   "name": "conda-env-IPLAB-py"
  },
  "language_info": {
   "codemirror_mode": {
    "name": "ipython",
    "version": 3
   },
   "file_extension": ".py",
   "mimetype": "text/x-python",
   "name": "python",
   "nbconvert_exporter": "python",
   "pygments_lexer": "ipython3",
   "version": "3.8.12"
  }
 },
 "nbformat": 4,
 "nbformat_minor": 5
}
