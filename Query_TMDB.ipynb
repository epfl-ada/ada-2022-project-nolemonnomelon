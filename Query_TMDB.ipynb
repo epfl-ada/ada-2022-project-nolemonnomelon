{
 "cells": [
  {
   "cell_type": "code",
   "execution_count": 2,
   "id": "a5f5f407-f043-40d0-aab5-19d8f9a4999e",
   "metadata": {},
   "outputs": [],
   "source": [
    "import requests as re"
   ]
  },
  {
   "cell_type": "markdown",
   "id": "2d49e9e6-8c19-4acf-bfb8-d540b87c9740",
   "metadata": {},
   "source": [
    "Good tuto : https://www.dataquest.io/blog/python-api-tutorial/"
   ]
  },
  {
   "cell_type": "code",
   "execution_count": 5,
   "id": "c43cf17a-0a48-45dc-96ba-72bc79a87124",
   "metadata": {},
   "outputs": [
    {
     "name": "stdout",
     "output_type": "stream",
     "text": [
      "401\n"
     ]
    }
   ],
   "source": [
    "response = re.get(\"https://api.themoviedb.org/3/search/movie\")\n",
    "print(response.status_code)"
   ]
  },
  {
   "cell_type": "markdown",
   "id": "8715a41b-9a54-4756-9123-87a3e1d5ba82",
   "metadata": {},
   "source": [
    "401 = Need API key --> https://developers.themoviedb.org/3/getting-started/authentication\n",
    "\n",
    "Créer un compte : https://www.themoviedb.org/login"
   ]
  },
  {
   "cell_type": "code",
   "execution_count": 4,
   "id": "bcf3f2c6-c164-4c37-b741-1c8c4c0b6444",
   "metadata": {},
   "outputs": [
    {
     "name": "stdout",
     "output_type": "stream",
     "text": [
      "401\n"
     ]
    }
   ],
   "source": [
    "response = re.get(\"https://api.themoviedb.org/3/search/movie?api_key={api_key}&query=Jack+Reacher\")\n",
    "print(response.status_code)"
   ]
  },
  {
   "cell_type": "markdown",
   "id": "4f2d6d51-0a96-4023-946a-a8177edafe58",
   "metadata": {},
   "source": [
    "## Exemple de la semaine passée qui fonctionnait :"
   ]
  },
  {
   "cell_type": "code",
   "execution_count": 36,
   "id": "82b81593-e9f6-4027-b0fd-2fe8b9c9052b",
   "metadata": {},
   "outputs": [
    {
     "name": "stdout",
     "output_type": "stream",
     "text": [
      "[{\"name\": \"natasha henstridge\", \"net_worth\": 14500000, \"gender\": \"female\", \"nationality\": \"ca\", \"occupation\": [\"actor\", \"fashion_model\"], \"height\": 1.78, \"birthday\": \"1974-08-15\", \"age\": 48, \"is_alive\": true}]\n"
     ]
    }
   ],
   "source": [
    "# from https://api-ninjas.com/api/celebrity\n",
    "# ATTENTION IL FAUT S'INCRIRE SUR LE SITE ET CHANGER LA X-API_KEY AVEC LA VOTRE \n",
    "import requests\n",
    "\n",
    "#name = 'Michael Jordan'\n",
    "name = 'Natasha Henstridge'\n",
    "\n",
    "api_url = 'https://api.api-ninjas.com/v1/celebrity?name={}'.format(name)\n",
    "response = requests.get(api_url, headers={'X-Api-Key': '+cLgHi329Ho2PyrMa57xdQ==nQWTN3qC2c8esJjo'})\n",
    "if response.status_code == requests.codes.ok:\n",
    "    print(response.text)\n",
    "else:\n",
    "    print(\"Error:\", response.status_code, response.text)"
   ]
  },
  {
   "cell_type": "code",
   "execution_count": 37,
   "id": "5f57bd51-e8c7-4405-a233-ca3ccaf22b79",
   "metadata": {},
   "outputs": [
    {
     "data": {
      "text/plain": [
       "'name: natasha henstridge, net_worth: 14500000, gender: female, nationality: ca, occupation: [actor, fashion_model], height: 1.78, birthday: 1974-08-15, age: 48, is_alive: true'"
      ]
     },
     "execution_count": 37,
     "metadata": {},
     "output_type": "execute_result"
    }
   ],
   "source": [
    "response.text\n",
    "response.text.replace('\"','')[2:-2]"
   ]
  },
  {
   "cell_type": "code",
   "execution_count": 38,
   "id": "f45c2bfe-9612-454e-94e3-4ba11f9b29df",
   "metadata": {},
   "outputs": [
    {
     "name": "stdout",
     "output_type": "stream",
     "text": [
      "{'name': 'natasha henstridge', 'net_worth': '14500000', 'gender': 'female', 'nationality': 'ca'}\n"
     ]
    },
    {
     "data": {
      "text/plain": [
       "'ca'"
      ]
     },
     "execution_count": 38,
     "metadata": {},
     "output_type": "execute_result"
    }
   ],
   "source": [
    "text = response.text.replace('\"','')[2:-2]\n",
    "#text = text.replace(' ', '')\n",
    "dictionary = dict(subString.split(\": \") for subString in text.split(\", \")[0:4])\n",
    "print(dictionary)\n",
    "dictionary['nationality']"
   ]
  },
  {
   "cell_type": "code",
   "execution_count": 39,
   "id": "2223ece7-39ec-4f0a-a6f7-a7d0d53679d3",
   "metadata": {},
   "outputs": [],
   "source": [
    "# Ne pas run cette cell --> tres long\n",
    "def get_nationality(name, key = '+cLgHi329Ho2PyrMa57xdQ==nQWTN3qC2c8esJjo') : \n",
    "    api_url = 'https://api.api-ninjas.com/v1/celebrity?name={}'.format(name)\n",
    "    response = requests.get(api_url, headers={'X-Api-Key': key})\n",
    "    if response.status_code == requests.codes.ok:\n",
    "        if len(response.text) > 10 :\n",
    "            text = response.text.replace('\"','')[2:-2]\n",
    "            dictionary = dict(subString.split(\": \") for subString in text.split(\", \")[0:4])\n",
    "            if 'nationality' in dictionary :\n",
    "                return dictionary['nationality']\n",
    "            else :\n",
    "                return 'NaN'\n",
    "        else :\n",
    "            return 'NaN'\n",
    "    else :\n",
    "        return 'NaN'\n",
    "\n",
    "\n",
    "# Run long time and not enough request to map the entire dataset, only 50'000 free from the website\n",
    "nationalities = []\n",
    "names = df_character['Actor name']\n",
    "for name in names :\n",
    "    nationalities.append(get_nationality(name))"
   ]
  }
 ],
 "metadata": {
  "kernelspec": {
   "display_name": "Python [conda env:ada] *",
   "language": "python",
   "name": "conda-env-ada-py"
  },
  "language_info": {
   "codemirror_mode": {
    "name": "ipython",
    "version": 3
   },
   "file_extension": ".py",
   "mimetype": "text/x-python",
   "name": "python",
   "nbconvert_exporter": "python",
   "pygments_lexer": "ipython3",
   "version": "3.9.13"
  }
 },
 "nbformat": 4,
 "nbformat_minor": 5
}
