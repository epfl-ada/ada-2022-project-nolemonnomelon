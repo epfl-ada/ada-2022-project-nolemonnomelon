{
 "cells": [
  {
   "cell_type": "code",
   "execution_count": 2,
   "outputs": [],
   "source": [
    "import pandas as pd"
   ],
   "metadata": {
    "collapsed": false
   }
  },
  {
   "cell_type": "markdown",
   "source": [
    "## Some basic exploration of the CMU data original dataset\n",
    "First, we opened the **CMU character metadata** and look at the missing values :"
   ],
   "metadata": {
    "collapsed": false
   }
  },
  {
   "cell_type": "code",
   "execution_count": 2,
   "outputs": [
    {
     "name": "stdout",
     "output_type": "stream",
     "text": [
      "(450669, 13)\n",
      "Percentage of NaN in each feature : \n",
      "Wikipedia movie ID                  0.000000\n",
      "Freebase movie ID                   0.000000\n",
      "Movie release date                  2.217814\n",
      "Character name                     57.220488\n",
      "Actor date of birth                23.552763\n",
      "Actor gender                       10.120288\n",
      "Actor height (in meters)           65.645740\n",
      "Actor ethnicity (Freebase ID)      76.466542\n",
      "Actor name                          0.272484\n",
      "Actor age at movie release         35.084064\n",
      "Freebase character/actor map ID     0.000000\n",
      "Freebase character ID              57.218269\n",
      "Freebase actor ID                   0.180842\n",
      "dtype: float64\n"
     ]
    }
   ],
   "source": [
    "columns_character = ['Wikipedia movie ID', 'Freebase movie ID', 'Movie release date', 'Character name', 'Actor date of birth',\n",
    "                     'Actor gender', 'Actor height (in meters)', 'Actor ethnicity (Freebase ID)', 'Actor name',\n",
    "                     'Actor age at movie release', 'Freebase character/actor map ID', 'Freebase character ID',\n",
    "                     'Freebase actor ID']\n",
    "\n",
    "df_cmu_character = pd.read_csv(\"MovieSummaries/character.metadata.tsv\",sep='\\t',names=columns_character)\n",
    "\n",
    "print(df_cmu_character.shape)\n",
    "print('Percentage of NaN in each feature : ')\n",
    "print(df_cmu_character.isna().sum(axis = 0) / df_cmu_character.shape[0] * 100)"
   ],
   "metadata": {
    "collapsed": false
   }
  },
  {
   "cell_type": "markdown",
   "source": [
    "As we were first interested in looking at the ethnicities of the actors, we map the freebase ID with its label thanks to the `mid2name.tsv` file found on : https://github.com/xiaoling/figer/issues/6"
   ],
   "metadata": {
    "collapsed": false
   }
  },
  {
   "cell_type": "code",
   "execution_count": 3,
   "outputs": [],
   "source": [
    "df_mapID = pd.read_csv(\"Expanded_data/mid2name.tsv\", sep='\\t', names=['ID', 'label'])\n",
    "df_mapID = df_mapID.drop_duplicates(subset=[\"ID\"], keep='first')\n",
    "ethnicity = df_cmu_character['Actor ethnicity (Freebase ID)']\n",
    "df_ethnicity = ethnicity.to_frame()\n",
    "df_ethnicity.columns = ['ID']\n",
    "df_merge = pd.merge(df_ethnicity, df_mapID, how='left')\n",
    "df_cmu_character['Ethnicity'] = df_merge['label']"
   ],
   "metadata": {
    "collapsed": false
   }
  },
  {
   "cell_type": "markdown",
   "source": [
    "We found that it is was difficult to complete the ethnicities of the actors with external datatset. So, we decided to choose another idea."
   ],
   "metadata": {
    "collapsed": false
   }
  },
  {
   "cell_type": "markdown",
   "source": [
    "Then, we opened the **CMU movies metadata** and look at the missing values :"
   ],
   "metadata": {
    "collapsed": false
   }
  },
  {
   "cell_type": "code",
   "execution_count": 4,
   "outputs": [
    {
     "name": "stdout",
     "output_type": "stream",
     "text": [
      "(81741, 9)\n",
      "Percentage of NaN in each feature : \n",
      "Wikipedia movie ID                            0.000000\n",
      "Freebase movie ID                             0.000000\n",
      "Movie name                                    0.000000\n",
      "Movie release date                            8.443743\n",
      "Movie box office revenue                     89.722416\n",
      "Movie runtime                                25.018045\n",
      "Movie languages (Freebase ID:name tuples)     0.000000\n",
      "Movie countries (Freebase ID:name tuples)     0.000000\n",
      "Movie genres (Freebase ID:name tuples)        0.000000\n",
      "dtype: float64\n",
      "\n",
      "Sum of {} in the string columns : \n",
      "Movie languages : 13866\n",
      "Movie countries : 8154\n",
      "Movie genres : 2294\n"
     ]
    }
   ],
   "source": [
    "columns_movie = ['Wikipedia movie ID', 'Freebase movie ID', 'Movie name', 'Movie release date', 'Movie box office revenue',\n",
    "                 'Movie runtime', 'Movie languages (Freebase ID:name tuples)', 'Movie countries (Freebase ID:name tuples)',\n",
    "                 'Movie genres (Freebase ID:name tuples)']\n",
    "df_cmu_movie = pd.read_csv(\"MovieSummaries/movie.metadata.tsv\",sep='\\t', names=columns_movie)\n",
    "\n",
    "print(df_cmu_movie.shape)\n",
    "print('Percentage of NaN in each feature : ')\n",
    "print(df_cmu_movie.isna().sum(axis = 0) / df_cmu_movie.shape[0] * 100)\n",
    "\n",
    "print('\\nSum of {} in the string columns : ')\n",
    "print('Movie languages : {}'.format(sum(df_cmu_movie['Movie languages (Freebase ID:name tuples)']=='{}')))\n",
    "print('Movie countries : {}'.format(sum(df_cmu_movie['Movie countries (Freebase ID:name tuples)']=='{}')))\n",
    "print('Movie genres : {}'.format(sum(df_cmu_movie['Movie genres (Freebase ID:name tuples)']=='{}')))"
   ],
   "metadata": {
    "collapsed": false
   }
  },
  {
   "cell_type": "markdown",
   "source": [
    "Then, we looked at the CMU plot summaries data :"
   ],
   "metadata": {
    "collapsed": false
   }
  },
  {
   "cell_type": "code",
   "execution_count": 5,
   "outputs": [
    {
     "name": "stdout",
     "output_type": "stream",
     "text": [
      "Percentage of missing summaries : \n",
      "48.24751348772342\n"
     ]
    }
   ],
   "source": [
    "df_cmu_summaries = pd.read_csv(\"MovieSummaries/plot_summaries.txt\",sep='\\t', names=['Wikipedia movie ID', 'Plot summary'])\n",
    "df_cmu_summaries.head(3)\n",
    "\n",
    "print('Percentage of missing summaries : ')\n",
    "print(100 - df_cmu_summaries.shape[0] / df_cmu_movie.shape[0] * 100)"
   ],
   "metadata": {
    "collapsed": false
   }
  },
  {
   "cell_type": "markdown",
   "source": [
    "## Pulling data to complete our dataset"
   ],
   "metadata": {
    "collapsed": false
   }
  },
  {
   "cell_type": "markdown",
   "source": [
    "The CMU movie metadata contains not many and not recent movies (until 2012 only). Moreover, it has a lot of NA values, espcially for the box office revenue. So, we decided to complete this dataset to have more representative one. We use :\n",
    "* **Wikipedia** to query box office revenues that were missing\n",
    "* **IMDB** dataset to complete the amount of movies and ensure good representation of their variety\n",
    "* **TMDB** dataset to fetch movie budget and country of origin (production)\n",
    "\n",
    "If you want to run the notebooks, you have to download IMDB data from https://datasets.imdbws.com/. Please download these files :\n",
    "* `title.akas.tsv.gz`\n",
    "* `title.basics.tsv.gz`\n",
    "* `title.ratings.tsv.gz`\n",
    "Unzip them, and place them in `IMDB_data/`\n",
    "\n",
    "The other data is obtained by running .py files, which make direct query using APIs."
   ],
   "metadata": {
    "collapsed": false
   }
  },
  {
   "cell_type": "markdown",
   "source": [
    "### Wikipedia query\n",
    "By running `wikipedia_query.py`, a `Expanded_data/wikipedia_query.tsv` file will be created. The script requests imdb-associated films on wikipedia, with associated box office revenues and freebase IDs if available (on wikipedia). With the freebase IDs we will be able to associate this data with the CMU movie metadata. You do not need to run this command as the `wikipedia_query.tsv` file was small enough to be pushed on Github."
   ],
   "metadata": {
    "collapsed": false
   }
  },
  {
   "cell_type": "code",
   "execution_count": 6,
   "outputs": [],
   "source": [
    "#!python3 wikipedia_query.py"
   ],
   "metadata": {
    "collapsed": false
   }
  },
  {
   "cell_type": "markdown",
   "source": [
    "### Merge IMDB and Wikipedia data\n",
    "By running `expand_data.py`, a `Expanded_data/big_data.tsv`file will ber created. The script brings together IMDB data with associated wikipedia data and notably box office values from the CMU dataset to create a big representative movie dataset, used for large-scale analysis. So, we have :\n",
    "* `Expanded_data/big_data.tsv` which is the merge between IMDB, wikipedia query data, and info from our original dataset."
   ],
   "metadata": {
    "collapsed": false
   }
  },
  {
   "cell_type": "code",
   "execution_count": 5,
   "outputs": [],
   "source": [
    "#!python3 expand_data.py"
   ],
   "metadata": {
    "collapsed": false
   }
  },
  {
   "cell_type": "markdown",
   "source": [
    "### TMDB query\n",
    "By running `TMDB_query.py`, a `Expanded_data/TMDB_query.tsv` file will be created. The script uses the imdb ids and freebase ids to query movie budgets and country of origin (production)."
   ],
   "metadata": {
    "collapsed": false
   }
  },
  {
   "cell_type": "code",
   "execution_count": 9,
   "outputs": [],
   "source": [
    "#!python3 TMDB_query.py"
   ],
   "metadata": {
    "collapsed": false
   }
  },
  {
   "cell_type": "markdown",
   "source": [
    "### Merge TMDB to big_data\n",
    "By running `expand_data_2.py`, `Expanded_data/big_data.tsv` will be updated. The script adds budget and revenue to our previous big data using the index corresponding to box office revenue.\n",
    "TO DO: ADD INFLATION AND OTHER USEFUL INFORMATION, AS WELL AS BIG DATASET PREPROCESSING THROUGH THIS SCRIPT, SUCH THAT THE BIG DATASET IS FINISHED. THEN EXPORT TO CMU DATASET ?"
   ],
   "metadata": {
    "collapsed": false
   }
  },
  {
   "cell_type": "code",
   "execution_count": null,
   "outputs": [],
   "source": [
    "# !python3 expand_data_2.py"
   ],
   "metadata": {
    "collapsed": false
   }
  },
  {
   "cell_type": "markdown",
   "source": [
    "TEMPORARY STATE OF big_data:"
   ],
   "metadata": {
    "collapsed": false
   }
  },
  {
   "cell_type": "code",
   "execution_count": 3,
   "outputs": [
    {
     "name": "stderr",
     "output_type": "stream",
     "text": [
      "C:\\Users\\loris\\AppData\\Local\\Temp\\ipykernel_6852\\4229692301.py:1: DtypeWarning: Columns (0,9) have mixed types. Specify dtype option on import or set low_memory=False.\n",
      "  big_data = pd.read_csv('Expanded_data/big_data.tsv', sep='\\t')\n"
     ]
    }
   ],
   "source": [
    "big_data = pd.read_csv('Expanded_data/big_data.tsv', sep='\\t')"
   ],
   "metadata": {
    "collapsed": false
   }
  },
  {
   "cell_type": "code",
   "execution_count": 4,
   "outputs": [
    {
     "data": {
      "text/plain": "  Freebase movie ID    IMDB_id  Movie box office revenue  \\\n0       /m/0100_m55  tt0138297                       NaN   \n1       /m/0100_mnm  tt0202813                       NaN   \n\n     Movie genres names     Movie name Movie release date  averageRating  \\\n0  ['Comedy', 'Sci-Fi']  Urban Animals               1987            5.2   \n1            ['Comedy']            NaN               1999            5.8   \n\n   budget  numVotes prod_country  \n0     NaN      79.0          NaN  \n1     NaN      15.0          NaN  ",
      "text/html": "<div>\n<style scoped>\n    .dataframe tbody tr th:only-of-type {\n        vertical-align: middle;\n    }\n\n    .dataframe tbody tr th {\n        vertical-align: top;\n    }\n\n    .dataframe thead th {\n        text-align: right;\n    }\n</style>\n<table border=\"1\" class=\"dataframe\">\n  <thead>\n    <tr style=\"text-align: right;\">\n      <th></th>\n      <th>Freebase movie ID</th>\n      <th>IMDB_id</th>\n      <th>Movie box office revenue</th>\n      <th>Movie genres names</th>\n      <th>Movie name</th>\n      <th>Movie release date</th>\n      <th>averageRating</th>\n      <th>budget</th>\n      <th>numVotes</th>\n      <th>prod_country</th>\n    </tr>\n  </thead>\n  <tbody>\n    <tr>\n      <th>0</th>\n      <td>/m/0100_m55</td>\n      <td>tt0138297</td>\n      <td>NaN</td>\n      <td>['Comedy', 'Sci-Fi']</td>\n      <td>Urban Animals</td>\n      <td>1987</td>\n      <td>5.2</td>\n      <td>NaN</td>\n      <td>79.0</td>\n      <td>NaN</td>\n    </tr>\n    <tr>\n      <th>1</th>\n      <td>/m/0100_mnm</td>\n      <td>tt0202813</td>\n      <td>NaN</td>\n      <td>['Comedy']</td>\n      <td>NaN</td>\n      <td>1999</td>\n      <td>5.8</td>\n      <td>NaN</td>\n      <td>15.0</td>\n      <td>NaN</td>\n    </tr>\n  </tbody>\n</table>\n</div>"
     },
     "execution_count": 4,
     "metadata": {},
     "output_type": "execute_result"
    }
   ],
   "source": [
    "big_data.head(2)"
   ],
   "metadata": {
    "collapsed": false
   }
  },
  {
   "cell_type": "code",
   "execution_count": null,
   "outputs": [],
   "source": [
    "big_data.count()"
   ],
   "metadata": {
    "collapsed": false
   }
  },
  {
   "cell_type": "markdown",
   "source": [
    "### Inflation\n",
    "As we are interested in the analyses of the box office revenues, we have to take care of the inflation. So, we found data on the inflation of each country from 1960 to 2021 on https://data.worldbank.org/indicator/FP.CPI.TOTL.ZG"
   ],
   "metadata": {
    "collapsed": false
   }
  },
  {
   "cell_type": "code",
   "execution_count": 9,
   "outputs": [],
   "source": [
    "# Inflation per country from 1960 to 2021\n",
    "col = [\"Country Code\",\"Indicator Name\",\"Indicator Code\",\"1960\",\"1961\",\"1962\",\"1963\",\"1964\",\"1965\",\"1966\",\"1967\",\"1968\",\"1969\",\"1970\",\"1971\",\"1972\",\"1973\",\"1974\",\"1975\",\"1976\",\"1977\",\"1978\",\"1979\",\"1980\",\"1981\",\"1982\",\"1983\",\"1984\",\"1985\",\"1986\",\"1987\",\"1988\",\"1989\",\"1990\",\"1991\",\"1992\",\"1993\",\"1994\",\"1995\",\"1996\",\"1997\",\"1998\",\"1999\",\"2000\",\"2001\",\"2002\",\"2003\",\"2004\",\"2005\",\"2006\",\"2007\",\"2008\",\"2009\",\"2010\",\"2011\",\"2012\",\"2013\",\"2014\",\"2015\",\"2016\",\"2017\",\"2018\",\"2019\",\"2020\", \"2021\", \"2022\"]\n",
    "df_inf = pd.read_csv(\"Inflation_data/inflation.csv\", names=col, sep=',', skiprows=[0,1,2,3,4])\n",
    "\n",
    "# Delete 2022 column because all are NaN\n",
    "df_inf = df_inf.iloc[:,0:-1]\n",
    "\n",
    "# Metadata to link the country code with some information about the Region, Income and other stuffs.\n",
    "df_metadata_inf = pd.read_csv(\"Inflation_data/inflation_metadata.csv\", sep=',')"
   ],
   "metadata": {
    "collapsed": false
   }
  },
  {
   "cell_type": "markdown",
   "source": [
    "We extracted from this dataset, the information that are useful for our analyzes :"
   ],
   "metadata": {
    "collapsed": false
   }
  },
  {
   "cell_type": "code",
   "execution_count": 11,
   "outputs": [],
   "source": [
    "# First the world inflation mean\n",
    "df_world_inflation = df_inf.iloc[:,3:df_inf.shape[1]]\n",
    "world_inf_mean = df_world_inflation.mean(axis=0)\n",
    "\n",
    "# Then, the inflation specifically in the USA\n",
    "us_inf = df_inf[df_inf['Country Code'] == 'USA']\n",
    "\n",
    "# Finally, the inflation in the high income countries only\n",
    "df_meta_HI = df_metadata_inf[df_metadata_inf['IncomeGroup'] == 'High income']\n",
    "df_HI_inf = df_inf[df_inf['Country Code'].isin(df_meta_HI['Country Code'])]\n",
    "HI_inf_mean = df_HI_inf.iloc[:,3:df_HI_inf.shape[1]].mean(axis=0)"
   ],
   "metadata": {
    "collapsed": false
   }
  },
  {
   "cell_type": "markdown",
   "source": [
    "## Preprocessing\n",
    "DO THE WHOLE CMU COMPLETION USING THE BIG DATASET AND PREPROCESSING IN A .PY ?"
   ],
   "metadata": {
    "collapsed": false
   }
  },
  {
   "cell_type": "code",
   "execution_count": 12,
   "outputs": [],
   "source": [
    "from preprocessing import *"
   ],
   "metadata": {
    "collapsed": false
   }
  },
  {
   "cell_type": "markdown",
   "source": [
    "First, we load the `Expanded_data/movie.expanded_metadata.tsv` file :"
   ],
   "metadata": {
    "collapsed": false
   }
  },
  {
   "cell_type": "code",
   "execution_count": 13,
   "outputs": [
    {
     "name": "stdout",
     "output_type": "stream",
     "text": [
      "(81741, 9)\n"
     ]
    },
    {
     "data": {
      "text/plain": "   Wikipedia movie ID Freebase movie ID         Movie name Movie release date  \\\n0            142780.0         /m/011_mj         The Circus         1928-01-06   \n1            142786.0         /m/011_p6        Thunderbolt               1929   \n2            142822.0         /m/011_zy  The Green Goddess         1930-02-13   \n\n   Movie box office revenue  Movie runtime  \\\n0                       NaN           68.0   \n1                       NaN           91.0   \n2                       NaN           73.0   \n\n           Movie languages (Freebase ID:name tuples)  \\\n0  {\"/m/06ppq\": \"Silent film\", \"/m/02h40lc\": \"Eng...   \n1                 {\"/m/02h40lc\": \"English Language\"}   \n2                 {\"/m/02h40lc\": \"English Language\"}   \n\n   Movie countries (Freebase ID:name tuples)  \\\n0  {\"/m/09c7w0\": \"United States of America\"}   \n1  {\"/m/09c7w0\": \"United States of America\"}   \n2  {\"/m/09c7w0\": \"United States of America\"}   \n\n              Movie genres (Freebase ID:name tuples)  \n0  {\"/m/06cvj\": \"Romantic comedy\", \"/m/06ppq\": \"S...  \n1  {\"/m/07s9rl0\": \"Drama\", \"/m/01g6gs\": \"Black-an...  \n2  {\"/m/02rd8h3\": \"Goat gland\", \"/m/07s9rl0\": \"Dr...  ",
      "text/html": "<div>\n<style scoped>\n    .dataframe tbody tr th:only-of-type {\n        vertical-align: middle;\n    }\n\n    .dataframe tbody tr th {\n        vertical-align: top;\n    }\n\n    .dataframe thead th {\n        text-align: right;\n    }\n</style>\n<table border=\"1\" class=\"dataframe\">\n  <thead>\n    <tr style=\"text-align: right;\">\n      <th></th>\n      <th>Wikipedia movie ID</th>\n      <th>Freebase movie ID</th>\n      <th>Movie name</th>\n      <th>Movie release date</th>\n      <th>Movie box office revenue</th>\n      <th>Movie runtime</th>\n      <th>Movie languages (Freebase ID:name tuples)</th>\n      <th>Movie countries (Freebase ID:name tuples)</th>\n      <th>Movie genres (Freebase ID:name tuples)</th>\n    </tr>\n  </thead>\n  <tbody>\n    <tr>\n      <th>0</th>\n      <td>142780.0</td>\n      <td>/m/011_mj</td>\n      <td>The Circus</td>\n      <td>1928-01-06</td>\n      <td>NaN</td>\n      <td>68.0</td>\n      <td>{\"/m/06ppq\": \"Silent film\", \"/m/02h40lc\": \"Eng...</td>\n      <td>{\"/m/09c7w0\": \"United States of America\"}</td>\n      <td>{\"/m/06cvj\": \"Romantic comedy\", \"/m/06ppq\": \"S...</td>\n    </tr>\n    <tr>\n      <th>1</th>\n      <td>142786.0</td>\n      <td>/m/011_p6</td>\n      <td>Thunderbolt</td>\n      <td>1929</td>\n      <td>NaN</td>\n      <td>91.0</td>\n      <td>{\"/m/02h40lc\": \"English Language\"}</td>\n      <td>{\"/m/09c7w0\": \"United States of America\"}</td>\n      <td>{\"/m/07s9rl0\": \"Drama\", \"/m/01g6gs\": \"Black-an...</td>\n    </tr>\n    <tr>\n      <th>2</th>\n      <td>142822.0</td>\n      <td>/m/011_zy</td>\n      <td>The Green Goddess</td>\n      <td>1930-02-13</td>\n      <td>NaN</td>\n      <td>73.0</td>\n      <td>{\"/m/02h40lc\": \"English Language\"}</td>\n      <td>{\"/m/09c7w0\": \"United States of America\"}</td>\n      <td>{\"/m/02rd8h3\": \"Goat gland\", \"/m/07s9rl0\": \"Dr...</td>\n    </tr>\n  </tbody>\n</table>\n</div>"
     },
     "execution_count": 13,
     "metadata": {},
     "output_type": "execute_result"
    }
   ],
   "source": [
    "df_movie = pd.read_csv(\"Expanded_data/movie.expanded_metadata.tsv\",sep='\\t')\n",
    "print(df_movie.shape)\n",
    "df_movie.head(3)"
   ],
   "metadata": {
    "collapsed": false
   }
  },
  {
   "cell_type": "markdown",
   "source": [
    "The `Expanded_data/movie.expanded_metadata.tsv` is now our CMU movies metadata whose missing values were completed as much as possible. We noticed that the Movie language, Movie countries and Movie genres were of type string and it was not easy to work with that. So, we decided, to change these columns into a dictionnary type and to create new columns with only the list of the names. We do this preprocessing with functions that are in `preprocessing.py`."
   ],
   "metadata": {
    "collapsed": false
   }
  },
  {
   "cell_type": "code",
   "execution_count": 14,
   "outputs": [
    {
     "data": {
      "text/plain": "   Wikipedia movie ID Freebase movie ID         Movie name  \\\n0            142780.0         /m/011_mj         The Circus   \n1            142786.0         /m/011_p6        Thunderbolt   \n2            142822.0         /m/011_zy  The Green Goddess   \n\n   Movie release date  Movie box office revenue  Movie runtime  \\\n0                1928                       NaN           68.0   \n1                1929                       NaN           91.0   \n2                1930                       NaN           73.0   \n\n           Movie languages (Freebase ID:name tuples)  \\\n0  {'/m/06ppq': 'Silent film', 'm/02h40lc': 'Engl...   \n1                 {'/m/02h40lc': 'English Language'}   \n2                 {'/m/02h40lc': 'English Language'}   \n\n   Movie countries (Freebase ID:name tuples)  \\\n0  {'/m/09c7w0': 'United States of America'}   \n1  {'/m/09c7w0': 'United States of America'}   \n2  {'/m/09c7w0': 'United States of America'}   \n\n              Movie genres (Freebase ID:name tuples)  \\\n0  {'/m/06cvj': 'Romantic comedy', '/m/06ppq': 'S...   \n1  {'/m/07s9rl0': 'Drama', '/m/01g6gs': 'Black-an...   \n2  {'/m/02rd8h3': 'Goat gland', '/m/07s9rl0': 'Dr...   \n\n             Movie languages names       Movie countries names  \\\n0  [Silent film, English Language]  [United States of America]   \n1               [English Language]  [United States of America]   \n2               [English Language]  [United States of America]   \n\n                                  Movie genres names  \n0  [Romantic comedy, Silent film, Adventure, Blac...  \n1                           [Drama, Black-and-white]  \n2        [Goat gland, Drama, Indie, Black-and-white]  ",
      "text/html": "<div>\n<style scoped>\n    .dataframe tbody tr th:only-of-type {\n        vertical-align: middle;\n    }\n\n    .dataframe tbody tr th {\n        vertical-align: top;\n    }\n\n    .dataframe thead th {\n        text-align: right;\n    }\n</style>\n<table border=\"1\" class=\"dataframe\">\n  <thead>\n    <tr style=\"text-align: right;\">\n      <th></th>\n      <th>Wikipedia movie ID</th>\n      <th>Freebase movie ID</th>\n      <th>Movie name</th>\n      <th>Movie release date</th>\n      <th>Movie box office revenue</th>\n      <th>Movie runtime</th>\n      <th>Movie languages (Freebase ID:name tuples)</th>\n      <th>Movie countries (Freebase ID:name tuples)</th>\n      <th>Movie genres (Freebase ID:name tuples)</th>\n      <th>Movie languages names</th>\n      <th>Movie countries names</th>\n      <th>Movie genres names</th>\n    </tr>\n  </thead>\n  <tbody>\n    <tr>\n      <th>0</th>\n      <td>142780.0</td>\n      <td>/m/011_mj</td>\n      <td>The Circus</td>\n      <td>1928</td>\n      <td>NaN</td>\n      <td>68.0</td>\n      <td>{'/m/06ppq': 'Silent film', 'm/02h40lc': 'Engl...</td>\n      <td>{'/m/09c7w0': 'United States of America'}</td>\n      <td>{'/m/06cvj': 'Romantic comedy', '/m/06ppq': 'S...</td>\n      <td>[Silent film, English Language]</td>\n      <td>[United States of America]</td>\n      <td>[Romantic comedy, Silent film, Adventure, Blac...</td>\n    </tr>\n    <tr>\n      <th>1</th>\n      <td>142786.0</td>\n      <td>/m/011_p6</td>\n      <td>Thunderbolt</td>\n      <td>1929</td>\n      <td>NaN</td>\n      <td>91.0</td>\n      <td>{'/m/02h40lc': 'English Language'}</td>\n      <td>{'/m/09c7w0': 'United States of America'}</td>\n      <td>{'/m/07s9rl0': 'Drama', '/m/01g6gs': 'Black-an...</td>\n      <td>[English Language]</td>\n      <td>[United States of America]</td>\n      <td>[Drama, Black-and-white]</td>\n    </tr>\n    <tr>\n      <th>2</th>\n      <td>142822.0</td>\n      <td>/m/011_zy</td>\n      <td>The Green Goddess</td>\n      <td>1930</td>\n      <td>NaN</td>\n      <td>73.0</td>\n      <td>{'/m/02h40lc': 'English Language'}</td>\n      <td>{'/m/09c7w0': 'United States of America'}</td>\n      <td>{'/m/02rd8h3': 'Goat gland', '/m/07s9rl0': 'Dr...</td>\n      <td>[English Language]</td>\n      <td>[United States of America]</td>\n      <td>[Goat gland, Drama, Indie, Black-and-white]</td>\n    </tr>\n  </tbody>\n</table>\n</div>"
     },
     "execution_count": 14,
     "metadata": {},
     "output_type": "execute_result"
    }
   ],
   "source": [
    "# Change the (Freebase ID:name tuples) columns from strings to dictionnaries\n",
    "df_movie['Movie genres (Freebase ID:name tuples)'] = df_movie['Movie genres (Freebase ID:name tuples)'].apply(lambda x: transform_into_dict(x))\n",
    "df_movie['Movie countries (Freebase ID:name tuples)'] = df_movie['Movie countries (Freebase ID:name tuples)'].apply(lambda x: transform_into_dict(x))\n",
    "df_movie['Movie languages (Freebase ID:name tuples)'] = df_movie['Movie languages (Freebase ID:name tuples)'].apply(lambda x: transform_into_dict_2(x))\n",
    "\n",
    "# New column with the list of names only --> easier to do analyses\n",
    "df_movie['Movie languages names'] = df_movie['Movie languages (Freebase ID:name tuples)'].apply(lambda x: transform_to_list_names(x))\n",
    "df_movie['Movie countries names'] = df_movie['Movie countries (Freebase ID:name tuples)'].apply(lambda x: transform_to_list_names(x))\n",
    "df_movie['Movie genres names'] = df_movie['Movie genres (Freebase ID:name tuples)'].apply(lambda x: transform_to_list_names(x))\n",
    "\n",
    "# As the Movie release date is not homogeneous across all movies, we decided to only keep the year as a timestamp.\n",
    "df_movie['Movie release date'] = pd.to_datetime(df_movie['Movie release date'], errors='coerce').dt.year.astype('Int64')\n",
    "\n",
    "df_movie.head(3)"
   ],
   "metadata": {
    "collapsed": false
   }
  },
  {
   "cell_type": "markdown",
   "source": [
    "Then, we can also merge the plot summaries to the df_movie :"
   ],
   "metadata": {
    "collapsed": false
   }
  },
  {
   "cell_type": "code",
   "execution_count": 15,
   "outputs": [],
   "source": [
    "# Merge with the df_movie thanks to the wikipedia movie ID\n",
    "df_movie = pd.merge(df_movie, df_cmu_summaries, how='left')"
   ],
   "metadata": {
    "collapsed": false
   }
  },
  {
   "cell_type": "code",
   "execution_count": null,
   "outputs": [],
   "source": [],
   "metadata": {
    "collapsed": false
   }
  },
  {
   "cell_type": "code",
   "execution_count": null,
   "outputs": [],
   "source": [],
   "metadata": {
    "collapsed": false
   }
  },
  {
   "cell_type": "code",
   "execution_count": null,
   "outputs": [],
   "source": [],
   "metadata": {
    "collapsed": false
   }
  },
  {
   "cell_type": "markdown",
   "source": [
    "Then, we can load the bigger dataset `Expanded_data/IMDB_wiki.tsv` :"
   ],
   "metadata": {
    "collapsed": false
   }
  },
  {
   "cell_type": "code",
   "execution_count": 22,
   "outputs": [
    {
     "name": "stderr",
     "output_type": "stream",
     "text": [
      "C:\\Users\\loris\\AppData\\Local\\Temp\\ipykernel_9128\\1971059664.py:1: DtypeWarning: Columns (3) have mixed types. Specify dtype option on import or set low_memory=False.\n",
      "  df_movie_big = pd.read_csv(\"Expanded_data/IMDB_wiki.tsv\",sep='\\t')\n"
     ]
    },
    {
     "name": "stdout",
     "output_type": "stream",
     "text": [
      "(9343301, 8)\n"
     ]
    },
    {
     "data": {
      "text/plain": "     IMDB_id Freebase movie ID              Movie name Movie release date  \\\n0  tt0000001               NaN              Carmencita             1894.0   \n1  tt0000002               NaN  The Clown and His Dogs             1892.0   \n2  tt0000003               NaN                     NaN             1892.0   \n\n                   Movie genres names  averageRating  numVotes  \\\n0            ['Documentary', 'Short']            5.7    1921.0   \n1              ['Animation', 'Short']            5.8     260.0   \n2  ['Animation', 'Comedy', 'Romance']            6.5    1729.0   \n\n   Movie box office revenue  \n0                       NaN  \n1                       NaN  \n2                       NaN  ",
      "text/html": "<div>\n<style scoped>\n    .dataframe tbody tr th:only-of-type {\n        vertical-align: middle;\n    }\n\n    .dataframe tbody tr th {\n        vertical-align: top;\n    }\n\n    .dataframe thead th {\n        text-align: right;\n    }\n</style>\n<table border=\"1\" class=\"dataframe\">\n  <thead>\n    <tr style=\"text-align: right;\">\n      <th></th>\n      <th>IMDB_id</th>\n      <th>Freebase movie ID</th>\n      <th>Movie name</th>\n      <th>Movie release date</th>\n      <th>Movie genres names</th>\n      <th>averageRating</th>\n      <th>numVotes</th>\n      <th>Movie box office revenue</th>\n    </tr>\n  </thead>\n  <tbody>\n    <tr>\n      <th>0</th>\n      <td>tt0000001</td>\n      <td>NaN</td>\n      <td>Carmencita</td>\n      <td>1894.0</td>\n      <td>['Documentary', 'Short']</td>\n      <td>5.7</td>\n      <td>1921.0</td>\n      <td>NaN</td>\n    </tr>\n    <tr>\n      <th>1</th>\n      <td>tt0000002</td>\n      <td>NaN</td>\n      <td>The Clown and His Dogs</td>\n      <td>1892.0</td>\n      <td>['Animation', 'Short']</td>\n      <td>5.8</td>\n      <td>260.0</td>\n      <td>NaN</td>\n    </tr>\n    <tr>\n      <th>2</th>\n      <td>tt0000003</td>\n      <td>NaN</td>\n      <td>NaN</td>\n      <td>1892.0</td>\n      <td>['Animation', 'Comedy', 'Romance']</td>\n      <td>6.5</td>\n      <td>1729.0</td>\n      <td>NaN</td>\n    </tr>\n  </tbody>\n</table>\n</div>"
     },
     "execution_count": 22,
     "metadata": {},
     "output_type": "execute_result"
    }
   ],
   "source": [
    "df_movie_big = pd.read_csv(\"Expanded_data/IMDB_wiki.tsv\",sep='\\t')\n",
    "print(df_movie_big.shape)\n",
    "df_movie_big.head(3)"
   ],
   "metadata": {
    "collapsed": false
   }
  },
  {
   "cell_type": "markdown",
   "source": [
    "As for the CMU dataset df_movie, we only keep the Movie release year.\n",
    "DO THIS PREPROCESSING IN LAST BIG DATA SCRIPT ?"
   ],
   "metadata": {
    "collapsed": false
   }
  },
  {
   "cell_type": "code",
   "execution_count": 23,
   "outputs": [],
   "source": [
    "df_movie_big['Movie release date'] = pd.to_datetime(df_movie_big['Movie release date'], errors='coerce').dt.year.astype('Int64')"
   ],
   "metadata": {
    "collapsed": false
   }
  },
  {
   "cell_type": "markdown",
   "source": [
    "We noticed that there are either 'NaN' or '\\\\N' for missing values in this dataset. So, we changed the '\\\\N' into 'NaN' for more consistency across the dataset."
   ],
   "metadata": {
    "collapsed": false
   }
  },
  {
   "cell_type": "code",
   "execution_count": 24,
   "outputs": [
    {
     "name": "stdout",
     "output_type": "stream",
     "text": [
      "Percentage of NaN in each feature : \n",
      "IMDB_id                      0.000000\n",
      "Freebase movie ID           98.902476\n",
      "Movie name                  86.257962\n",
      "Movie release date          13.435808\n",
      "Movie genres names           0.036796\n",
      "averageRating               86.695955\n",
      "numVotes                    86.695955\n",
      "Movie box office revenue    99.967324\n",
      "dtype: float64\n"
     ]
    }
   ],
   "source": [
    "#print('\\nSum of in the string columns : ')\n",
    "#print((df_movie_big == '\\\\N').sum(axis = 0) / df_movie_big.shape[0] * 100)\n",
    "\n",
    "# float('NaN') otherwise it is not recognized as the other NaN of the dataset\n",
    "df_movie_big.replace('\\\\N', float('NaN'), inplace=True)\n",
    "\n",
    "print('Percentage of NaN in each feature : ')\n",
    "print(df_movie_big.isna().sum(axis = 0) / df_movie_big.shape[0] * 100)"
   ],
   "metadata": {
    "collapsed": false
   }
  },
  {
   "cell_type": "markdown",
   "source": [
    "As we are interested into the box office revenue, we look at this dataset when dropping the missing box office revenues :"
   ],
   "metadata": {
    "collapsed": false
   }
  },
  {
   "cell_type": "code",
   "execution_count": 21,
   "outputs": [
    {
     "name": "stdout",
     "output_type": "stream",
     "text": [
      "(10210, 7)\n"
     ]
    },
    {
     "data": {
      "text/plain": "    Freebase movie ID          Movie name  Movie release date  \\\n9         /m/0100blym  Testament of Youth                2014   \n33        /m/0100khzv           Leviathan                2014   \n231       /m/0105j_71                 Spy                2015   \n\n                    Movie genres names  averageRating  numVotes  \\\n9    ['Biography', 'Drama', 'History']            7.2   29135.0   \n33                  ['Crime', 'Drama']            7.6   53818.0   \n231               ['Action', 'Comedy']            7.0  245758.0   \n\n     Movie box office revenue  \n9                   1800000.0  \n33                  4100000.0  \n231               235700000.0  ",
      "text/html": "<div>\n<style scoped>\n    .dataframe tbody tr th:only-of-type {\n        vertical-align: middle;\n    }\n\n    .dataframe tbody tr th {\n        vertical-align: top;\n    }\n\n    .dataframe thead th {\n        text-align: right;\n    }\n</style>\n<table border=\"1\" class=\"dataframe\">\n  <thead>\n    <tr style=\"text-align: right;\">\n      <th></th>\n      <th>Freebase movie ID</th>\n      <th>Movie name</th>\n      <th>Movie release date</th>\n      <th>Movie genres names</th>\n      <th>averageRating</th>\n      <th>numVotes</th>\n      <th>Movie box office revenue</th>\n    </tr>\n  </thead>\n  <tbody>\n    <tr>\n      <th>9</th>\n      <td>/m/0100blym</td>\n      <td>Testament of Youth</td>\n      <td>2014</td>\n      <td>['Biography', 'Drama', 'History']</td>\n      <td>7.2</td>\n      <td>29135.0</td>\n      <td>1800000.0</td>\n    </tr>\n    <tr>\n      <th>33</th>\n      <td>/m/0100khzv</td>\n      <td>Leviathan</td>\n      <td>2014</td>\n      <td>['Crime', 'Drama']</td>\n      <td>7.6</td>\n      <td>53818.0</td>\n      <td>4100000.0</td>\n    </tr>\n    <tr>\n      <th>231</th>\n      <td>/m/0105j_71</td>\n      <td>Spy</td>\n      <td>2015</td>\n      <td>['Action', 'Comedy']</td>\n      <td>7.0</td>\n      <td>245758.0</td>\n      <td>235700000.0</td>\n    </tr>\n  </tbody>\n</table>\n</div>"
     },
     "execution_count": 21,
     "metadata": {},
     "output_type": "execute_result"
    }
   ],
   "source": [
    "df_movie_box = df_movie_final.dropna(subset='Movie box office revenue')\n",
    "print(df_movie_box.shape)\n",
    "df_movie_box.head(3)"
   ],
   "metadata": {
    "collapsed": false
   }
  },
  {
   "cell_type": "markdown",
   "source": [
    "We have 10'200 movies to do our analyses on the box office revenenues. We suppose that this sample is large enough to get reliable results. However, we have to verify this hypothese by doing some further analyses"
   ],
   "metadata": {
    "collapsed": false
   }
  }
 ],
 "metadata": {
  "kernelspec": {
   "display_name": "Python 3",
   "language": "python",
   "name": "python3"
  },
  "language_info": {
   "codemirror_mode": {
    "name": "ipython",
    "version": 2
   },
   "file_extension": ".py",
   "mimetype": "text/x-python",
   "name": "python",
   "nbconvert_exporter": "python",
   "pygments_lexer": "ipython2",
   "version": "2.7.6"
  }
 },
 "nbformat": 4,
 "nbformat_minor": 0
}
