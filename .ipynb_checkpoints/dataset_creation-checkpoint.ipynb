{
 "cells": [
  {
   "cell_type": "code",
   "execution_count": 1,
   "metadata": {
    "jupyter": {
     "outputs_hidden": false
    }
   },
   "outputs": [],
   "source": [
    "import pandas as pd"
   ]
  },
  {
   "cell_type": "markdown",
   "metadata": {},
   "source": [
    "## Basic exploration of the CMU data original dataset\n",
    "First, we opened the **CMU character metadata** and look at the missing values :"
   ]
  },
  {
   "cell_type": "code",
   "execution_count": 2,
   "metadata": {
    "jupyter": {
     "outputs_hidden": false
    }
   },
   "outputs": [
    {
     "name": "stdout",
     "output_type": "stream",
     "text": [
      "(450669, 13)\n",
      "Percentage of NaN in each feature : \n",
      "Wikipedia movie ID                  0.000000\n",
      "Freebase movie ID                   0.000000\n",
      "Movie release date                  2.217814\n",
      "Character name                     57.220488\n",
      "Actor date of birth                23.552763\n",
      "Actor gender                       10.120288\n",
      "Actor height (in meters)           65.645740\n",
      "Actor ethnicity (Freebase ID)      76.466542\n",
      "Actor name                          0.272484\n",
      "Actor age at movie release         35.084064\n",
      "Freebase character/actor map ID     0.000000\n",
      "Freebase character ID              57.218269\n",
      "Freebase actor ID                   0.180842\n",
      "dtype: float64\n"
     ]
    }
   ],
   "source": [
    "columns_character = ['Wikipedia movie ID', 'Freebase movie ID', 'Movie release date', 'Character name', 'Actor date of birth',\n",
    "                     'Actor gender', 'Actor height (in meters)', 'Actor ethnicity (Freebase ID)', 'Actor name',\n",
    "                     'Actor age at movie release', 'Freebase character/actor map ID', 'Freebase character ID',\n",
    "                     'Freebase actor ID']\n",
    "\n",
    "df_cmu_character = pd.read_csv(\"MovieSummaries/character.metadata.tsv\",sep='\\t',names=columns_character)\n",
    "\n",
    "print(df_cmu_character.shape)\n",
    "print('Percentage of NaN in each feature : ')\n",
    "print(df_cmu_character.isna().sum(axis = 0) / df_cmu_character.shape[0] * 100)"
   ]
  },
  {
   "cell_type": "markdown",
   "metadata": {},
   "source": [
    "As we were first interested in looking at the ethnicities of the actors, we map the freebase ID with its label thanks to the `mid2name.tsv` file found on : https://github.com/xiaoling/figer/issues/6"
   ]
  },
  {
   "cell_type": "code",
   "execution_count": 4,
   "metadata": {
    "jupyter": {
     "outputs_hidden": false
    }
   },
   "outputs": [],
   "source": [
    "df_mapID = pd.read_csv(\"Expanded_data/mid2name.tsv\", sep='\\t', names=['ID', 'label'])\n",
    "df_mapID = df_mapID.drop_duplicates(subset=[\"ID\"], keep='first')\n",
    "ethnicity = df_cmu_character['Actor ethnicity (Freebase ID)']\n",
    "df_ethnicity = ethnicity.to_frame()\n",
    "df_ethnicity.columns = ['ID']\n",
    "df_merge = pd.merge(df_ethnicity, df_mapID, how='left')\n",
    "df_cmu_character['Ethnicity'] = df_merge['label']"
   ]
  },
  {
   "cell_type": "markdown",
   "metadata": {},
   "source": [
    "We found that it is was difficult to complete the ethnicities of the actors with external datatset. So, we decided to choose another idea."
   ]
  },
  {
   "cell_type": "markdown",
   "metadata": {},
   "source": [
    "Then, we opened the **CMU movies metadata** and look at the missing values :"
   ]
  },
  {
   "cell_type": "code",
   "execution_count": 7,
   "metadata": {
    "jupyter": {
     "outputs_hidden": false
    }
   },
   "outputs": [
    {
     "name": "stdout",
     "output_type": "stream",
     "text": [
      "(81741, 9)\n",
      "Percentage of NaN in each feature : \n",
      "Wikipedia movie ID                            0.000000\n",
      "Freebase movie ID                             0.000000\n",
      "Movie name                                    0.000000\n",
      "Movie release date                            8.443743\n",
      "Movie box office revenue                     89.722416\n",
      "Movie runtime                                25.018045\n",
      "Movie languages (Freebase ID:name tuples)     0.000000\n",
      "Movie countries (Freebase ID:name tuples)     0.000000\n",
      "Movie genres (Freebase ID:name tuples)        0.000000\n",
      "dtype: float64\n",
      "\n",
      "Sum of {} in the string columns : \n",
      "Movie languages : 13866\n",
      "Movie countries : 8154\n",
      "Movie genres : 2294\n"
     ]
    }
   ],
   "source": [
    "columns_movie = ['Wikipedia movie ID', 'Freebase movie ID', 'Movie name', 'Movie release date', 'Movie box office revenue',\n",
    "                 'Movie runtime', 'Movie languages (Freebase ID:name tuples)', 'Movie countries (Freebase ID:name tuples)',\n",
    "                 'Movie genres (Freebase ID:name tuples)']\n",
    "df_cmu_movie = pd.read_csv(\"MovieSummaries/movie.metadata.tsv\",sep='\\t', names=columns_movie)\n",
    "\n",
    "print(df_cmu_movie.shape)\n",
    "print('Percentage of NaN in each feature : ')\n",
    "print(df_cmu_movie.isna().sum(axis = 0) / df_cmu_movie.shape[0] * 100)\n",
    "\n",
    "print('\\nSum of {} in the string columns : ')\n",
    "print('Movie languages : {}'.format(sum(df_cmu_movie['Movie languages (Freebase ID:name tuples)']=='{}')))\n",
    "print('Movie countries : {}'.format(sum(df_cmu_movie['Movie countries (Freebase ID:name tuples)']=='{}')))\n",
    "print('Movie genres : {}'.format(sum(df_cmu_movie['Movie genres (Freebase ID:name tuples)']=='{}')))"
   ]
  },
  {
   "cell_type": "markdown",
   "metadata": {},
   "source": [
    "Then, we looked at the CMU plot summaries data :"
   ]
  },
  {
   "cell_type": "code",
   "execution_count": 8,
   "metadata": {
    "jupyter": {
     "outputs_hidden": false
    }
   },
   "outputs": [
    {
     "name": "stdout",
     "output_type": "stream",
     "text": [
      "Percentage of missing summaries : \n",
      "48.24751348772342\n"
     ]
    }
   ],
   "source": [
    "df_cmu_summaries = pd.read_csv(\"MovieSummaries/plot_summaries.txt\",sep='\\t', names=['Wikipedia movie ID', 'Plot summary'])\n",
    "df_cmu_summaries.head(3)\n",
    "\n",
    "print('Percentage of missing summaries : ')\n",
    "print(100 - df_cmu_summaries.shape[0] / df_cmu_movie.shape[0] * 100)"
   ]
  },
  {
   "cell_type": "markdown",
   "metadata": {},
   "source": [
    "## Pulling data to complete our dataset"
   ]
  },
  {
   "cell_type": "markdown",
   "metadata": {},
   "source": [
    "The CMU movie metadata contains not many and not recent movies (until 2012 only). Moreover, it has a lot of NA values, espcially for the box office revenue. So, we decided to complete this dataset to have more representative one. We use :\n",
    "* **Wikipedia** to query box office revenues that were missing\n",
    "* **IMDB** dataset to complete the amount of movies and ensure good representation of their variety\n",
    "* **TMDB** dataset to fetch movie budget and country of origin (production)\n",
    "* **Inflation** dataset to get corrected box office revenue and budget across the years. We found data on the inflation of each country from 1960 to 2021 on https://data.worldbank.org/indicator/FP.CPI.TOTL.ZG\n",
    "\n",
    "If you want to run the notebooks, you have to download IMDB data from https://datasets.imdbws.com/. Please download these files :\n",
    "* `title.akas.tsv.gz`\n",
    "* `title.basics.tsv.gz`\n",
    "* `title.ratings.tsv.gz`\n",
    "Unzip them, and place them in `IMDB_data/`\n",
    "\n",
    "The other data is obtained by running .py files, which make direct query using APIs."
   ]
  },
  {
   "cell_type": "markdown",
   "metadata": {},
   "source": [
    "### Wikipedia query\n",
    "By running `wikipedia_query.py`, a `Expanded_data/wikipedia_query.tsv` file will be created. The script requests imdb-associated films on wikipedia, with associated box office revenues and freebase IDs if available (on wikipedia). With the freebase IDs we will be able to associate this data with the CMU movie metadata. You do not need to run this command as the `wikipedia_query.tsv` file was small enough to be pushed on Github."
   ]
  },
  {
   "cell_type": "code",
   "execution_count": 10,
   "metadata": {
    "jupyter": {
     "outputs_hidden": false
    }
   },
   "outputs": [],
   "source": [
    "#!python3 wikipedia_query.py"
   ]
  },
  {
   "cell_type": "markdown",
   "metadata": {},
   "source": [
    "### Merge IMDB and Wikipedia data\n",
    "By running `expand_data.py`, a `Expanded_data/big_data.tsv`file will ber created. The script brings together IMDB data with associated wikipedia data and notably box office values from the CMU dataset to create a big representative movie dataset, used for large-scale analysis."
   ]
  },
  {
   "cell_type": "code",
   "execution_count": 11,
   "metadata": {
    "jupyter": {
     "outputs_hidden": false
    }
   },
   "outputs": [],
   "source": [
    "#!python3 expand_data.py"
   ]
  },
  {
   "cell_type": "markdown",
   "metadata": {},
   "source": [
    "### TMDB query\n",
    "By running `TMDB_query.py`, a `Expanded_data/TMDB_query.tsv` file will be created. The script uses the imdb ids and freebase ids to query movie budgets and country of origin (production). You do not need to run this script as the `TMDB_query.tsv` file was small enough to be pushed on Github."
   ]
  },
  {
   "cell_type": "code",
   "execution_count": 4,
   "metadata": {
    "jupyter": {
     "outputs_hidden": false
    },
    "scrolled": false
   },
   "outputs": [],
   "source": [
    "#!python3 TMDB_query.py"
   ]
  },
  {
   "cell_type": "markdown",
   "metadata": {},
   "source": [
    "### Merge TMDB to big_data\n",
    "By running `final_dataset_creation.py`, `Expanded_data/big_data_final.tsv` will be created. The script adds budget and revenue to our previous big data using the index corresponding to box office revenue. We also preprocess this big dataset :\n",
    "* As the Movie release date is not homogeneous across all movies, we decided to only keep the year as a timestamp.\n",
    "* We noticed that there are either 'NaN' or '\\\\N' for missing values in this dataset. So, we changed the '\\\\N' into 'NaN' for more consistency across the dataset\n",
    "* We preprocessed the Movie genres because they were string type. We changed them into list of strings and we replaced the [\\\\\\N] list into NaN.\n",
    "* We calculated the inflation coefficient, the inflation-corrected box office revenue and the inflation-corrected budget for the non-missing data. It results in three new columns in the final dataset. We choose the USA inflation as all the prices of the datasets are in US dollards"
   ]
  },
  {
   "cell_type": "code",
   "execution_count": 2,
   "metadata": {
    "jupyter": {
     "outputs_hidden": false
    }
   },
   "outputs": [
    {
     "name": "stderr",
     "output_type": "stream",
     "text": [
      "C:\\Users\\lisap\\OneDrive\\Documenti\\GitHub\\ada-2022-project-nolemonnomelon\\final_dataset_creation.py:9: DtypeWarning: Columns (1) have mixed types. Specify dtype option on import or set low_memory=False.\n",
      "  big_data = pd.read_csv('Expanded_data/big_data.tsv', sep='\\t')\n"
     ]
    }
   ],
   "source": [
    "!python3 final_dataset_creation.py"
   ]
  },
  {
   "cell_type": "markdown",
   "metadata": {},
   "source": [
    "## Basic exploration of the final dataset"
   ]
  },
  {
   "cell_type": "code",
   "execution_count": 3,
   "metadata": {
    "jupyter": {
     "outputs_hidden": false
    }
   },
   "outputs": [
    {
     "name": "stderr",
     "output_type": "stream",
     "text": [
      "C:\\Users\\lisap\\AppData\\Local\\Temp/ipykernel_2824/2620059275.py:1: DtypeWarning: Columns (0,9) have mixed types. Specify dtype option on import or set low_memory=False.\n",
      "  final_data = pd.read_csv('Expanded_data/big_data_final.tsv', sep='\\t')\n"
     ]
    },
    {
     "data": {
      "text/html": [
       "<div>\n",
       "<style scoped>\n",
       "    .dataframe tbody tr th:only-of-type {\n",
       "        vertical-align: middle;\n",
       "    }\n",
       "\n",
       "    .dataframe tbody tr th {\n",
       "        vertical-align: top;\n",
       "    }\n",
       "\n",
       "    .dataframe thead th {\n",
       "        text-align: right;\n",
       "    }\n",
       "</style>\n",
       "<table border=\"1\" class=\"dataframe\">\n",
       "  <thead>\n",
       "    <tr style=\"text-align: right;\">\n",
       "      <th></th>\n",
       "      <th>Freebase movie ID</th>\n",
       "      <th>IMDB_id</th>\n",
       "      <th>Movie box office revenue</th>\n",
       "      <th>Movie genres names</th>\n",
       "      <th>Movie name</th>\n",
       "      <th>Movie release date</th>\n",
       "      <th>averageRating</th>\n",
       "      <th>budget</th>\n",
       "      <th>numVotes</th>\n",
       "      <th>prod_country</th>\n",
       "      <th>inflation coeff</th>\n",
       "      <th>inflation corrected revenue</th>\n",
       "      <th>inflation corrected budget</th>\n",
       "    </tr>\n",
       "  </thead>\n",
       "  <tbody>\n",
       "    <tr>\n",
       "      <th>0</th>\n",
       "      <td>/m/0100_m55</td>\n",
       "      <td>tt0138297</td>\n",
       "      <td>NaN</td>\n",
       "      <td>['Comedy', 'Sci-Fi']</td>\n",
       "      <td>Urban Animals</td>\n",
       "      <td>1987.0</td>\n",
       "      <td>5.2</td>\n",
       "      <td>NaN</td>\n",
       "      <td>79.0</td>\n",
       "      <td>NaN</td>\n",
       "      <td>2.384772</td>\n",
       "      <td>NaN</td>\n",
       "      <td>NaN</td>\n",
       "    </tr>\n",
       "    <tr>\n",
       "      <th>1</th>\n",
       "      <td>/m/0100_mnm</td>\n",
       "      <td>tt0202813</td>\n",
       "      <td>NaN</td>\n",
       "      <td>['Comedy']</td>\n",
       "      <td>NaN</td>\n",
       "      <td>1999.0</td>\n",
       "      <td>5.8</td>\n",
       "      <td>NaN</td>\n",
       "      <td>15.0</td>\n",
       "      <td>NaN</td>\n",
       "      <td>1.626713</td>\n",
       "      <td>NaN</td>\n",
       "      <td>NaN</td>\n",
       "    </tr>\n",
       "    <tr>\n",
       "      <th>2</th>\n",
       "      <td>/m/0100_nzr</td>\n",
       "      <td>tt0184302</td>\n",
       "      <td>NaN</td>\n",
       "      <td>['Drama']</td>\n",
       "      <td>NaN</td>\n",
       "      <td>1999.0</td>\n",
       "      <td>4.8</td>\n",
       "      <td>NaN</td>\n",
       "      <td>119.0</td>\n",
       "      <td>NaN</td>\n",
       "      <td>1.626713</td>\n",
       "      <td>NaN</td>\n",
       "      <td>NaN</td>\n",
       "    </tr>\n",
       "    <tr>\n",
       "      <th>3</th>\n",
       "      <td>/m/0100_pgp</td>\n",
       "      <td>tt0094831</td>\n",
       "      <td>NaN</td>\n",
       "      <td>['Comedy']</td>\n",
       "      <td>NaN</td>\n",
       "      <td>1988.0</td>\n",
       "      <td>6.8</td>\n",
       "      <td>NaN</td>\n",
       "      <td>103.0</td>\n",
       "      <td>NaN</td>\n",
       "      <td>2.291337</td>\n",
       "      <td>NaN</td>\n",
       "      <td>NaN</td>\n",
       "    </tr>\n",
       "    <tr>\n",
       "      <th>4</th>\n",
       "      <td>/m/0100_pz9</td>\n",
       "      <td>tt0088884</td>\n",
       "      <td>NaN</td>\n",
       "      <td>['Comedy']</td>\n",
       "      <td>NaN</td>\n",
       "      <td>1985.0</td>\n",
       "      <td>2.4</td>\n",
       "      <td>NaN</td>\n",
       "      <td>59.0</td>\n",
       "      <td>NaN</td>\n",
       "      <td>2.519087</td>\n",
       "      <td>NaN</td>\n",
       "      <td>NaN</td>\n",
       "    </tr>\n",
       "  </tbody>\n",
       "</table>\n",
       "</div>"
      ],
      "text/plain": [
       "  Freebase movie ID    IMDB_id  Movie box office revenue  \\\n",
       "0       /m/0100_m55  tt0138297                       NaN   \n",
       "1       /m/0100_mnm  tt0202813                       NaN   \n",
       "2       /m/0100_nzr  tt0184302                       NaN   \n",
       "3       /m/0100_pgp  tt0094831                       NaN   \n",
       "4       /m/0100_pz9  tt0088884                       NaN   \n",
       "\n",
       "     Movie genres names     Movie name  Movie release date  averageRating  \\\n",
       "0  ['Comedy', 'Sci-Fi']  Urban Animals              1987.0            5.2   \n",
       "1            ['Comedy']            NaN              1999.0            5.8   \n",
       "2             ['Drama']            NaN              1999.0            4.8   \n",
       "3            ['Comedy']            NaN              1988.0            6.8   \n",
       "4            ['Comedy']            NaN              1985.0            2.4   \n",
       "\n",
       "   budget  numVotes prod_country  inflation coeff  \\\n",
       "0     NaN      79.0          NaN         2.384772   \n",
       "1     NaN      15.0          NaN         1.626713   \n",
       "2     NaN     119.0          NaN         1.626713   \n",
       "3     NaN     103.0          NaN         2.291337   \n",
       "4     NaN      59.0          NaN         2.519087   \n",
       "\n",
       "   inflation corrected revenue  inflation corrected budget  \n",
       "0                          NaN                         NaN  \n",
       "1                          NaN                         NaN  \n",
       "2                          NaN                         NaN  \n",
       "3                          NaN                         NaN  \n",
       "4                          NaN                         NaN  "
      ]
     },
     "execution_count": 3,
     "metadata": {},
     "output_type": "execute_result"
    }
   ],
   "source": [
    "final_data = pd.read_csv('Expanded_data/big_data_final.tsv', sep='\\t')\n",
    "final_data.head(5)"
   ]
  },
  {
   "cell_type": "code",
   "execution_count": 161,
   "metadata": {
    "tags": []
   },
   "outputs": [
    {
     "data": {
      "text/html": [
       "<div>\n",
       "<style scoped>\n",
       "    .dataframe tbody tr th:only-of-type {\n",
       "        vertical-align: middle;\n",
       "    }\n",
       "\n",
       "    .dataframe tbody tr th {\n",
       "        vertical-align: top;\n",
       "    }\n",
       "\n",
       "    .dataframe thead th {\n",
       "        text-align: right;\n",
       "    }\n",
       "</style>\n",
       "<table border=\"1\" class=\"dataframe\">\n",
       "  <thead>\n",
       "    <tr style=\"text-align: right;\">\n",
       "      <th></th>\n",
       "      <th>Freebase movie ID</th>\n",
       "      <th>IMDB_id</th>\n",
       "      <th>Movie box office revenue</th>\n",
       "      <th>Movie genres names</th>\n",
       "      <th>Movie name</th>\n",
       "      <th>Movie release date</th>\n",
       "      <th>averageRating</th>\n",
       "      <th>budget</th>\n",
       "      <th>numVotes</th>\n",
       "      <th>prod_country</th>\n",
       "      <th>inflation coeff</th>\n",
       "      <th>inflation corrected revenue</th>\n",
       "      <th>inflation corrected budget</th>\n",
       "    </tr>\n",
       "  </thead>\n",
       "  <tbody>\n",
       "    <tr>\n",
       "      <th>0</th>\n",
       "      <td>/m/0100_m55</td>\n",
       "      <td>tt0138297</td>\n",
       "      <td>NaN</td>\n",
       "      <td>['Comedy', 'Sci-Fi']</td>\n",
       "      <td>Urban Animals</td>\n",
       "      <td>1987.0</td>\n",
       "      <td>5.2</td>\n",
       "      <td>NaN</td>\n",
       "      <td>79.0</td>\n",
       "      <td>NaN</td>\n",
       "      <td>2.384772</td>\n",
       "      <td>NaN</td>\n",
       "      <td>NaN</td>\n",
       "    </tr>\n",
       "    <tr>\n",
       "      <th>1</th>\n",
       "      <td>/m/0100_mnm</td>\n",
       "      <td>tt0202813</td>\n",
       "      <td>NaN</td>\n",
       "      <td>['Comedy']</td>\n",
       "      <td>NaN</td>\n",
       "      <td>1999.0</td>\n",
       "      <td>5.8</td>\n",
       "      <td>NaN</td>\n",
       "      <td>15.0</td>\n",
       "      <td>NaN</td>\n",
       "      <td>1.626713</td>\n",
       "      <td>NaN</td>\n",
       "      <td>NaN</td>\n",
       "    </tr>\n",
       "    <tr>\n",
       "      <th>2</th>\n",
       "      <td>/m/0100_nzr</td>\n",
       "      <td>tt0184302</td>\n",
       "      <td>NaN</td>\n",
       "      <td>['Drama']</td>\n",
       "      <td>NaN</td>\n",
       "      <td>1999.0</td>\n",
       "      <td>4.8</td>\n",
       "      <td>NaN</td>\n",
       "      <td>119.0</td>\n",
       "      <td>NaN</td>\n",
       "      <td>1.626713</td>\n",
       "      <td>NaN</td>\n",
       "      <td>NaN</td>\n",
       "    </tr>\n",
       "    <tr>\n",
       "      <th>3</th>\n",
       "      <td>/m/0100_pgp</td>\n",
       "      <td>tt0094831</td>\n",
       "      <td>NaN</td>\n",
       "      <td>['Comedy']</td>\n",
       "      <td>NaN</td>\n",
       "      <td>1988.0</td>\n",
       "      <td>6.8</td>\n",
       "      <td>NaN</td>\n",
       "      <td>103.0</td>\n",
       "      <td>NaN</td>\n",
       "      <td>2.291337</td>\n",
       "      <td>NaN</td>\n",
       "      <td>NaN</td>\n",
       "    </tr>\n",
       "    <tr>\n",
       "      <th>4</th>\n",
       "      <td>/m/0100_pz9</td>\n",
       "      <td>tt0088884</td>\n",
       "      <td>NaN</td>\n",
       "      <td>['Comedy']</td>\n",
       "      <td>NaN</td>\n",
       "      <td>1985.0</td>\n",
       "      <td>2.4</td>\n",
       "      <td>NaN</td>\n",
       "      <td>59.0</td>\n",
       "      <td>NaN</td>\n",
       "      <td>2.519087</td>\n",
       "      <td>NaN</td>\n",
       "      <td>NaN</td>\n",
       "    </tr>\n",
       "    <tr>\n",
       "      <th>5</th>\n",
       "      <td>/m/0100b4n_</td>\n",
       "      <td>tt0074791</td>\n",
       "      <td>NaN</td>\n",
       "      <td>['Comedy', 'Romance']</td>\n",
       "      <td>NaN</td>\n",
       "      <td>1976.0</td>\n",
       "      <td>5.0</td>\n",
       "      <td>NaN</td>\n",
       "      <td>39.0</td>\n",
       "      <td>NaN</td>\n",
       "      <td>4.761513</td>\n",
       "      <td>NaN</td>\n",
       "      <td>NaN</td>\n",
       "    </tr>\n",
       "    <tr>\n",
       "      <th>6</th>\n",
       "      <td>/m/0100b5r4</td>\n",
       "      <td>tt10147624</td>\n",
       "      <td>NaN</td>\n",
       "      <td>['Comedy']</td>\n",
       "      <td>NaN</td>\n",
       "      <td>1992.0</td>\n",
       "      <td>NaN</td>\n",
       "      <td>NaN</td>\n",
       "      <td>NaN</td>\n",
       "      <td>NaN</td>\n",
       "      <td>1.931130</td>\n",
       "      <td>NaN</td>\n",
       "      <td>NaN</td>\n",
       "    </tr>\n",
       "    <tr>\n",
       "      <th>7</th>\n",
       "      <td>/m/0100b64g</td>\n",
       "      <td>tt6568614</td>\n",
       "      <td>NaN</td>\n",
       "      <td>['Western']</td>\n",
       "      <td>NaN</td>\n",
       "      <td>1970.0</td>\n",
       "      <td>6.7</td>\n",
       "      <td>NaN</td>\n",
       "      <td>7.0</td>\n",
       "      <td>NaN</td>\n",
       "      <td>6.979259</td>\n",
       "      <td>NaN</td>\n",
       "      <td>NaN</td>\n",
       "    </tr>\n",
       "    <tr>\n",
       "      <th>8</th>\n",
       "      <td>/m/0100bkr7</td>\n",
       "      <td>tt1329171</td>\n",
       "      <td>NaN</td>\n",
       "      <td>NaN</td>\n",
       "      <td>NaN</td>\n",
       "      <td>1993.0</td>\n",
       "      <td>NaN</td>\n",
       "      <td>NaN</td>\n",
       "      <td>NaN</td>\n",
       "      <td>NaN</td>\n",
       "      <td>1.875764</td>\n",
       "      <td>NaN</td>\n",
       "      <td>NaN</td>\n",
       "    </tr>\n",
       "    <tr>\n",
       "      <th>9</th>\n",
       "      <td>/m/0100blym</td>\n",
       "      <td>tt1441953</td>\n",
       "      <td>1800000.0</td>\n",
       "      <td>['Biography', 'Drama', 'History']</td>\n",
       "      <td>Testament of Youth</td>\n",
       "      <td>2014.0</td>\n",
       "      <td>7.2</td>\n",
       "      <td>NaN</td>\n",
       "      <td>29157.0</td>\n",
       "      <td>GB</td>\n",
       "      <td>1.144606</td>\n",
       "      <td>2.060292e+06</td>\n",
       "      <td>NaN</td>\n",
       "    </tr>\n",
       "    <tr>\n",
       "      <th>10</th>\n",
       "      <td>/m/0100c3dg</td>\n",
       "      <td>tt0172416</td>\n",
       "      <td>NaN</td>\n",
       "      <td>['Action']</td>\n",
       "      <td>Last Plane to Baalbeck</td>\n",
       "      <td>1964.0</td>\n",
       "      <td>5.3</td>\n",
       "      <td>NaN</td>\n",
       "      <td>33.0</td>\n",
       "      <td>NaN</td>\n",
       "      <td>8.736263</td>\n",
       "      <td>NaN</td>\n",
       "      <td>NaN</td>\n",
       "    </tr>\n",
       "    <tr>\n",
       "      <th>11</th>\n",
       "      <td>/m/0100c613</td>\n",
       "      <td>tt2160051</td>\n",
       "      <td>NaN</td>\n",
       "      <td>['Drama']</td>\n",
       "      <td>NaN</td>\n",
       "      <td>2011.0</td>\n",
       "      <td>5.2</td>\n",
       "      <td>NaN</td>\n",
       "      <td>22.0</td>\n",
       "      <td>NaN</td>\n",
       "      <td>1.204636</td>\n",
       "      <td>NaN</td>\n",
       "      <td>NaN</td>\n",
       "    </tr>\n",
       "    <tr>\n",
       "      <th>12</th>\n",
       "      <td>/m/0100c6vp</td>\n",
       "      <td>tt2561572</td>\n",
       "      <td>NaN</td>\n",
       "      <td>['Comedy', 'Crime']</td>\n",
       "      <td>Get Hard</td>\n",
       "      <td>2015.0</td>\n",
       "      <td>6.0</td>\n",
       "      <td>NaN</td>\n",
       "      <td>137604.0</td>\n",
       "      <td>NaN</td>\n",
       "      <td>1.143250</td>\n",
       "      <td>NaN</td>\n",
       "      <td>NaN</td>\n",
       "    </tr>\n",
       "    <tr>\n",
       "      <th>13</th>\n",
       "      <td>/m/0100c7zd</td>\n",
       "      <td>tt2496808</td>\n",
       "      <td>NaN</td>\n",
       "      <td>['Drama']</td>\n",
       "      <td>NaN</td>\n",
       "      <td>2014.0</td>\n",
       "      <td>7.1</td>\n",
       "      <td>NaN</td>\n",
       "      <td>327.0</td>\n",
       "      <td>NaN</td>\n",
       "      <td>1.144606</td>\n",
       "      <td>NaN</td>\n",
       "      <td>NaN</td>\n",
       "    </tr>\n",
       "    <tr>\n",
       "      <th>14</th>\n",
       "      <td>/m/0100cy1l</td>\n",
       "      <td>tt0052229</td>\n",
       "      <td>NaN</td>\n",
       "      <td>['Drama']</td>\n",
       "      <td>Mary Magdalene</td>\n",
       "      <td>1958.0</td>\n",
       "      <td>5.1</td>\n",
       "      <td>NaN</td>\n",
       "      <td>141.0</td>\n",
       "      <td>NaN</td>\n",
       "      <td>NaN</td>\n",
       "      <td>NaN</td>\n",
       "      <td>NaN</td>\n",
       "    </tr>\n",
       "  </tbody>\n",
       "</table>\n",
       "</div>"
      ],
      "text/plain": [
       "   Freebase movie ID     IMDB_id  Movie box office revenue  \\\n",
       "0        /m/0100_m55   tt0138297                       NaN   \n",
       "1        /m/0100_mnm   tt0202813                       NaN   \n",
       "2        /m/0100_nzr   tt0184302                       NaN   \n",
       "3        /m/0100_pgp   tt0094831                       NaN   \n",
       "4        /m/0100_pz9   tt0088884                       NaN   \n",
       "5        /m/0100b4n_   tt0074791                       NaN   \n",
       "6        /m/0100b5r4  tt10147624                       NaN   \n",
       "7        /m/0100b64g   tt6568614                       NaN   \n",
       "8        /m/0100bkr7   tt1329171                       NaN   \n",
       "9        /m/0100blym   tt1441953                 1800000.0   \n",
       "10       /m/0100c3dg   tt0172416                       NaN   \n",
       "11       /m/0100c613   tt2160051                       NaN   \n",
       "12       /m/0100c6vp   tt2561572                       NaN   \n",
       "13       /m/0100c7zd   tt2496808                       NaN   \n",
       "14       /m/0100cy1l   tt0052229                       NaN   \n",
       "\n",
       "                   Movie genres names              Movie name  \\\n",
       "0                ['Comedy', 'Sci-Fi']           Urban Animals   \n",
       "1                          ['Comedy']                     NaN   \n",
       "2                           ['Drama']                     NaN   \n",
       "3                          ['Comedy']                     NaN   \n",
       "4                          ['Comedy']                     NaN   \n",
       "5               ['Comedy', 'Romance']                     NaN   \n",
       "6                          ['Comedy']                     NaN   \n",
       "7                         ['Western']                     NaN   \n",
       "8                                 NaN                     NaN   \n",
       "9   ['Biography', 'Drama', 'History']      Testament of Youth   \n",
       "10                         ['Action']  Last Plane to Baalbeck   \n",
       "11                          ['Drama']                     NaN   \n",
       "12                ['Comedy', 'Crime']                Get Hard   \n",
       "13                          ['Drama']                     NaN   \n",
       "14                          ['Drama']          Mary Magdalene   \n",
       "\n",
       "    Movie release date  averageRating  budget  numVotes prod_country  \\\n",
       "0               1987.0            5.2     NaN      79.0          NaN   \n",
       "1               1999.0            5.8     NaN      15.0          NaN   \n",
       "2               1999.0            4.8     NaN     119.0          NaN   \n",
       "3               1988.0            6.8     NaN     103.0          NaN   \n",
       "4               1985.0            2.4     NaN      59.0          NaN   \n",
       "5               1976.0            5.0     NaN      39.0          NaN   \n",
       "6               1992.0            NaN     NaN       NaN          NaN   \n",
       "7               1970.0            6.7     NaN       7.0          NaN   \n",
       "8               1993.0            NaN     NaN       NaN          NaN   \n",
       "9               2014.0            7.2     NaN   29157.0           GB   \n",
       "10              1964.0            5.3     NaN      33.0          NaN   \n",
       "11              2011.0            5.2     NaN      22.0          NaN   \n",
       "12              2015.0            6.0     NaN  137604.0          NaN   \n",
       "13              2014.0            7.1     NaN     327.0          NaN   \n",
       "14              1958.0            5.1     NaN     141.0          NaN   \n",
       "\n",
       "    inflation coeff  inflation corrected revenue  inflation corrected budget  \n",
       "0          2.384772                          NaN                         NaN  \n",
       "1          1.626713                          NaN                         NaN  \n",
       "2          1.626713                          NaN                         NaN  \n",
       "3          2.291337                          NaN                         NaN  \n",
       "4          2.519087                          NaN                         NaN  \n",
       "5          4.761513                          NaN                         NaN  \n",
       "6          1.931130                          NaN                         NaN  \n",
       "7          6.979259                          NaN                         NaN  \n",
       "8          1.875764                          NaN                         NaN  \n",
       "9          1.144606                 2.060292e+06                         NaN  \n",
       "10         8.736263                          NaN                         NaN  \n",
       "11         1.204636                          NaN                         NaN  \n",
       "12         1.143250                          NaN                         NaN  \n",
       "13         1.144606                          NaN                         NaN  \n",
       "14              NaN                          NaN                         NaN  "
      ]
     },
     "execution_count": 161,
     "metadata": {},
     "output_type": "execute_result"
    }
   ],
   "source": [
    "final_data.head(15)"
   ]
  },
  {
   "cell_type": "code",
   "execution_count": 152,
   "metadata": {
    "jupyter": {
     "outputs_hidden": false
    }
   },
   "outputs": [
    {
     "name": "stdout",
     "output_type": "stream",
     "text": [
      "Percentage of NaN in each feature : \n",
      "Freebase movie ID              98.695683\n",
      "IMDB_id                         0.211448\n",
      "Movie box office revenue       99.891169\n",
      "Movie genres names              4.834484\n",
      "Movie name                     85.872371\n",
      "Movie release date             13.456389\n",
      "averageRating                  86.723184\n",
      "budget                         99.943592\n",
      "numVotes                       86.723184\n",
      "prod_country                   99.916757\n",
      "inflation coeff                20.094947\n",
      "inflation corrected revenue    99.903851\n",
      "inflation corrected budget     99.946448\n",
      "dtype: float64\n"
     ]
    }
   ],
   "source": [
    "print('Percentage of NaN in each feature : ')\n",
    "print(final_data.isna().sum(axis = 0) / final_data.shape[0] * 100)"
   ]
  },
  {
   "cell_type": "code",
   "execution_count": 153,
   "metadata": {},
   "outputs": [
    {
     "name": "stdout",
     "output_type": "stream",
     "text": [
      "Count in each feature : \n"
     ]
    },
    {
     "data": {
      "text/plain": [
       "Freebase movie ID               122389\n",
       "IMDB_id                        9363538\n",
       "Movie box office revenue         10212\n",
       "Movie genres names             8929741\n",
       "Movie name                     1325649\n",
       "Movie release date             8120715\n",
       "averageRating                  1245814\n",
       "budget                            5293\n",
       "numVotes                       1245814\n",
       "prod_country                      7811\n",
       "inflation coeff                7497794\n",
       "inflation corrected revenue       9022\n",
       "inflation corrected budget        5025\n",
       "dtype: int64"
      ]
     },
     "execution_count": 153,
     "metadata": {},
     "output_type": "execute_result"
    }
   ],
   "source": [
    "print('Count in each feature : ')\n",
    "final_data.count()"
   ]
  },
  {
   "cell_type": "markdown",
   "metadata": {},
   "source": [
    "We have 10'212 movies to do our analyses on the box office revenenues. We suppose that this sample is large enough to get reliable results. However, we have to verify this hypothese by doing some further analyses"
   ]
  },
  {
   "cell_type": "markdown",
   "metadata": {},
   "source": [
    "If we want to look at the movies that box office revenue, genres, average rating, a budget, the production country, the inflation are not missing, we have 4439 movies available."
   ]
  },
  {
   "cell_type": "code",
   "execution_count": 154,
   "metadata": {},
   "outputs": [
    {
     "data": {
      "text/plain": [
       "(4439, 13)"
      ]
     },
     "execution_count": 154,
     "metadata": {},
     "output_type": "execute_result"
    }
   ],
   "source": [
    "final_data.dropna(subset=['Movie box office revenue', 'Movie genres names', 'averageRating', 'budget', 'prod_country', 'inflation coeff']).shape"
   ]
  },
  {
   "cell_type": "markdown",
   "metadata": {},
   "source": [
    "When only the average rating and money features (box office revenue, budget, inflation coeff) are not missing, we have 5025 movies."
   ]
  },
  {
   "cell_type": "code",
   "execution_count": 155,
   "metadata": {},
   "outputs": [
    {
     "data": {
      "text/plain": [
       "(5025, 13)"
      ]
     },
     "execution_count": 155,
     "metadata": {},
     "output_type": "execute_result"
    }
   ],
   "source": [
    "final_data.dropna(subset=['Movie box office revenue', 'averageRating', 'budget', 'inflation coeff']).shape"
   ]
  }
 ],
 "metadata": {
  "kernelspec": {
   "display_name": "Python [conda env:IPLAB] *",
   "language": "python",
   "name": "conda-env-IPLAB-py"
  },
  "language_info": {
   "codemirror_mode": {
    "name": "ipython",
    "version": 3
   },
   "file_extension": ".py",
   "mimetype": "text/x-python",
   "name": "python",
   "nbconvert_exporter": "python",
   "pygments_lexer": "ipython3",
   "version": "3.8.12"
  }
 },
 "nbformat": 4,
 "nbformat_minor": 4
}
