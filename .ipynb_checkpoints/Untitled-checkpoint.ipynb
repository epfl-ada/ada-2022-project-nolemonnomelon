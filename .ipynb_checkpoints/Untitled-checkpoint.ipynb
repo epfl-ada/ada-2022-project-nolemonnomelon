{
 "cells": [
  {
   "cell_type": "code",
   "execution_count": 1,
   "id": "6ffee620-8fa1-4e6d-94bb-273fdcc86e79",
   "metadata": {},
   "outputs": [
    {
     "name": "stderr",
     "output_type": "stream",
     "text": [
      "C:\\Users\\loris\\AppData\\Local\\Temp\\ipykernel_12432\\2407569859.py:10: DtypeWarning: Columns (5) have mixed types. Specify dtype option on import or set low_memory=False.\n",
      "  IMDB_basics = (pd.read_csv(\"IMDB_data/title.basics.tsv\", sep='\\t',\n"
     ]
    }
   ],
   "source": [
    "import pandas as pd\n",
    "\n",
    "# Load IMDB ratings\n",
    "IMDB_data = pd.read_csv(\"IMDB_data/title.ratings.tsv\", sep='\\t')\n",
    "\n",
    "# Load IMDB \"US\" versions of titles\n",
    "IMDB_akas = (pd.read_csv(\"IMDB_data/title.akas.tsv\", sep='\\t',\n",
    "                     usecols=['titleId', 'title', 'region'])[lambda x: x['region'] == 'US'])\n",
    "# Load year of release\n",
    "IMDB_basics = (pd.read_csv(\"IMDB_data/title.basics.tsv\", sep='\\t',\n",
    "                      usecols=['tconst', 'startYear', 'genres', 'titleType'])[lambda x: x['titleType'] == 'movie'])"
   ]
  },
  {
   "cell_type": "code",
   "execution_count": 2,
   "id": "4a6d4e27-e925-4d2d-a78b-425e26cf36ce",
   "metadata": {},
   "outputs": [],
   "source": [
    "# Use key to merge IMDB movie titles and ratings\n",
    "IMDB_data = IMDB_data.set_index('tconst').join(IMDB_akas.set_index('titleId')['title'], how='outer')"
   ]
  },
  {
   "cell_type": "code",
   "execution_count": 3,
   "id": "16dc2891-af15-47c9-9c07-096110d178c2",
   "metadata": {},
   "outputs": [
    {
     "data": {
      "text/plain": [
       "(2133618, 3)"
      ]
     },
     "execution_count": 3,
     "metadata": {},
     "output_type": "execute_result"
    }
   ],
   "source": [
    "IMDB_data.shape"
   ]
  },
  {
   "cell_type": "code",
   "execution_count": 4,
   "id": "7f099181-0616-4cba-ba58-1c55ca954845",
   "metadata": {},
   "outputs": [],
   "source": [
    "# Use key to merge title, rating, year of release\n",
    "IMDB_data = IMDB_data.join(IMDB_basics.set_index('tconst').drop(labels=['titleType'], axis = 1), how='outer')"
   ]
  },
  {
   "cell_type": "code",
   "execution_count": 5,
   "id": "c2fcf304-7149-4d04-bd15-436de383b601",
   "metadata": {},
   "outputs": [
    {
     "data": {
      "text/plain": [
       "(2351919, 6)"
      ]
     },
     "execution_count": 5,
     "metadata": {},
     "output_type": "execute_result"
    }
   ],
   "source": [
    "IMDB_data.shape"
   ]
  },
  {
   "cell_type": "code",
   "execution_count": 6,
   "id": "f6b51710-830f-4ce6-989a-1f3157d51fbd",
   "metadata": {},
   "outputs": [],
   "source": [
    "# remove film duplicates due to various titles used for same movie\n",
    "IMDB_data = IMDB_data[~IMDB_data.index.duplicated(keep='first')]"
   ]
  },
  {
   "cell_type": "code",
   "execution_count": 7,
   "id": "07d28345-d94d-4b8f-96ff-7f7ef5198c85",
   "metadata": {},
   "outputs": [
    {
     "data": {
      "text/plain": [
       "(2272183, 6)"
      ]
     },
     "execution_count": 7,
     "metadata": {},
     "output_type": "execute_result"
    }
   ],
   "source": [
    "IMDB_data.shape"
   ]
  },
  {
   "cell_type": "code",
   "execution_count": 12,
   "id": "f3581f49-28ed-45fd-9ab8-c1af54d6992c",
   "metadata": {},
   "outputs": [
    {
     "data": {
      "text/html": [
       "<div>\n",
       "<style scoped>\n",
       "    .dataframe tbody tr th:only-of-type {\n",
       "        vertical-align: middle;\n",
       "    }\n",
       "\n",
       "    .dataframe tbody tr th {\n",
       "        vertical-align: top;\n",
       "    }\n",
       "\n",
       "    .dataframe thead th {\n",
       "        text-align: right;\n",
       "    }\n",
       "</style>\n",
       "<table border=\"1\" class=\"dataframe\">\n",
       "  <thead>\n",
       "    <tr style=\"text-align: right;\">\n",
       "      <th></th>\n",
       "      <th>averageRating</th>\n",
       "      <th>numVotes</th>\n",
       "      <th>title</th>\n",
       "      <th>startYear</th>\n",
       "      <th>genres</th>\n",
       "    </tr>\n",
       "  </thead>\n",
       "  <tbody>\n",
       "    <tr>\n",
       "      <th>tt0000001</th>\n",
       "      <td>5.7</td>\n",
       "      <td>1921.0</td>\n",
       "      <td>Carmencita</td>\n",
       "      <td>NaN</td>\n",
       "      <td>NaN</td>\n",
       "    </tr>\n",
       "    <tr>\n",
       "      <th>tt0000002</th>\n",
       "      <td>5.8</td>\n",
       "      <td>260.0</td>\n",
       "      <td>The Clown and His Dogs</td>\n",
       "      <td>NaN</td>\n",
       "      <td>NaN</td>\n",
       "    </tr>\n",
       "    <tr>\n",
       "      <th>tt0000003</th>\n",
       "      <td>6.5</td>\n",
       "      <td>1729.0</td>\n",
       "      <td>NaN</td>\n",
       "      <td>NaN</td>\n",
       "      <td>NaN</td>\n",
       "    </tr>\n",
       "    <tr>\n",
       "      <th>tt0000004</th>\n",
       "      <td>5.6</td>\n",
       "      <td>174.0</td>\n",
       "      <td>NaN</td>\n",
       "      <td>NaN</td>\n",
       "      <td>NaN</td>\n",
       "    </tr>\n",
       "    <tr>\n",
       "      <th>tt0000005</th>\n",
       "      <td>6.2</td>\n",
       "      <td>2543.0</td>\n",
       "      <td>Blacksmith Scene</td>\n",
       "      <td>NaN</td>\n",
       "      <td>NaN</td>\n",
       "    </tr>\n",
       "  </tbody>\n",
       "</table>\n",
       "</div>"
      ],
      "text/plain": [
       "           averageRating  numVotes                   title startYear genres\n",
       "tt0000001            5.7    1921.0              Carmencita       NaN    NaN\n",
       "tt0000002            5.8     260.0  The Clown and His Dogs       NaN    NaN\n",
       "tt0000003            6.5    1729.0                     NaN       NaN    NaN\n",
       "tt0000004            5.6     174.0                     NaN       NaN    NaN\n",
       "tt0000005            6.2    2543.0        Blacksmith Scene       NaN    NaN"
      ]
     },
     "execution_count": 12,
     "metadata": {},
     "output_type": "execute_result"
    }
   ],
   "source": [
    "IMDB_data.drop(labels=['titleType'], axis = 1).head()"
   ]
  }
 ],
 "metadata": {
  "kernelspec": {
   "display_name": "Python 3 (ipykernel)",
   "language": "python",
   "name": "python3"
  },
  "language_info": {
   "codemirror_mode": {
    "name": "ipython",
    "version": 3
   },
   "file_extension": ".py",
   "mimetype": "text/x-python",
   "name": "python",
   "nbconvert_exporter": "python",
   "pygments_lexer": "ipython3",
   "version": "3.9.12"
  }
 },
 "nbformat": 4,
 "nbformat_minor": 5
}
